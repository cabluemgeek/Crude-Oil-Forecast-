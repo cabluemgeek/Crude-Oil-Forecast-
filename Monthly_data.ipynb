{
  "cells": [
    {
      "cell_type": "markdown",
      "metadata": {
        "id": "view-in-github",
        "colab_type": "text"
      },
      "source": [
        "<a href=\"https://colab.research.google.com/github/cabluemgeek/Crude-Oil-Forecast-/blob/main/Monthly_data.ipynb\" target=\"_parent\"><img src=\"https://colab.research.google.com/assets/colab-badge.svg\" alt=\"Open In Colab\"/></a>"
      ]
    },
    {
      "cell_type": "markdown",
      "metadata": {
        "id": "iRmit4Ha2WmW"
      },
      "source": [
        "# **Data Handling**"
      ]
    },
    {
      "cell_type": "markdown",
      "metadata": {
        "id": "kKc-8kuK2UHY"
      },
      "source": []
    },
    {
      "cell_type": "code",
      "execution_count": null,
      "metadata": {
        "id": "KJGR73P8mJmc"
      },
      "outputs": [],
      "source": [
        "import numpy as np\n",
        "import pandas as pd\n",
        "from sklearn.svm import SVR\n",
        "from sklearn.ensemble import RandomForestRegressor\n",
        "from xgboost import XGBRegressor\n",
        "from keras.models import Sequential\n",
        "from keras.layers import LSTM, Dense, Conv1D, MaxPooling1D, Flatten\n",
        "import matplotlib.pyplot as plt\n",
        "from sklearn.model_selection import train_test_split\n",
        "import random"
      ]
    },
    {
      "cell_type": "code",
      "execution_count": null,
      "metadata": {
        "id": "01IkPw2gPC6h"
      },
      "outputs": [],
      "source": [
        "import pandas as pd\n",
        "import numpy as np\n",
        "from keras.models import Sequential\n",
        "from keras.layers import LSTM, Dense, Conv1D, MaxPooling1D, Flatten\n",
        "from keras.callbacks import EarlyStopping\n",
        "import matplotlib.pyplot as plt\n"
      ]
    },
    {
      "cell_type": "code",
      "execution_count": null,
      "metadata": {
        "id": "JZXWE8nBoY8Y"
      },
      "outputs": [],
      "source": [
        "seed = 42\n",
        "random.seed(seed)\n",
        "np.random.seed(seed)"
      ]
    },
    {
      "cell_type": "code",
      "execution_count": null,
      "metadata": {
        "id": "Goa4cFFjnR7W",
        "colab": {
          "base_uri": "https://localhost:8080/",
          "height": 206
        },
        "outputId": "893c6e7e-5c43-4506-9106-98a70ee2caa1"
      },
      "outputs": [
        {
          "output_type": "execute_result",
          "data": {
            "text/plain": [
              "   index   MONTH    WOD  N-OS    OP    USD/DZD    GPR PRICE\n",
              "0      0  Jan-00  75,58  45,8  26,5  68,232775  64,46  25,6\n",
              "1      1  Feb-00    NaN   NaN   NaN  69,198775  63,54  26,3\n",
              "2      2  Mar-00    NaN   NaN   NaN  72,134723   50,1  26,7\n",
              "3      3  Apr-00  74,09  45,5  27,9  73,913208  48,68  26,5\n",
              "4      4  May-00    NaN   NaN   NaN  76,018356  79,48  27,4"
            ],
            "text/html": [
              "\n",
              "  <div id=\"df-1a6e5b83-6f81-4225-b734-a5e7c57d81cc\" class=\"colab-df-container\">\n",
              "    <div>\n",
              "<style scoped>\n",
              "    .dataframe tbody tr th:only-of-type {\n",
              "        vertical-align: middle;\n",
              "    }\n",
              "\n",
              "    .dataframe tbody tr th {\n",
              "        vertical-align: top;\n",
              "    }\n",
              "\n",
              "    .dataframe thead th {\n",
              "        text-align: right;\n",
              "    }\n",
              "</style>\n",
              "<table border=\"1\" class=\"dataframe\">\n",
              "  <thead>\n",
              "    <tr style=\"text-align: right;\">\n",
              "      <th></th>\n",
              "      <th>index</th>\n",
              "      <th>MONTH</th>\n",
              "      <th>WOD</th>\n",
              "      <th>N-OS</th>\n",
              "      <th>OP</th>\n",
              "      <th>USD/DZD</th>\n",
              "      <th>GPR</th>\n",
              "      <th>PRICE</th>\n",
              "    </tr>\n",
              "  </thead>\n",
              "  <tbody>\n",
              "    <tr>\n",
              "      <th>0</th>\n",
              "      <td>0</td>\n",
              "      <td>Jan-00</td>\n",
              "      <td>75,58</td>\n",
              "      <td>45,8</td>\n",
              "      <td>26,5</td>\n",
              "      <td>68,232775</td>\n",
              "      <td>64,46</td>\n",
              "      <td>25,6</td>\n",
              "    </tr>\n",
              "    <tr>\n",
              "      <th>1</th>\n",
              "      <td>1</td>\n",
              "      <td>Feb-00</td>\n",
              "      <td>NaN</td>\n",
              "      <td>NaN</td>\n",
              "      <td>NaN</td>\n",
              "      <td>69,198775</td>\n",
              "      <td>63,54</td>\n",
              "      <td>26,3</td>\n",
              "    </tr>\n",
              "    <tr>\n",
              "      <th>2</th>\n",
              "      <td>2</td>\n",
              "      <td>Mar-00</td>\n",
              "      <td>NaN</td>\n",
              "      <td>NaN</td>\n",
              "      <td>NaN</td>\n",
              "      <td>72,134723</td>\n",
              "      <td>50,1</td>\n",
              "      <td>26,7</td>\n",
              "    </tr>\n",
              "    <tr>\n",
              "      <th>3</th>\n",
              "      <td>3</td>\n",
              "      <td>Apr-00</td>\n",
              "      <td>74,09</td>\n",
              "      <td>45,5</td>\n",
              "      <td>27,9</td>\n",
              "      <td>73,913208</td>\n",
              "      <td>48,68</td>\n",
              "      <td>26,5</td>\n",
              "    </tr>\n",
              "    <tr>\n",
              "      <th>4</th>\n",
              "      <td>4</td>\n",
              "      <td>May-00</td>\n",
              "      <td>NaN</td>\n",
              "      <td>NaN</td>\n",
              "      <td>NaN</td>\n",
              "      <td>76,018356</td>\n",
              "      <td>79,48</td>\n",
              "      <td>27,4</td>\n",
              "    </tr>\n",
              "  </tbody>\n",
              "</table>\n",
              "</div>\n",
              "    <div class=\"colab-df-buttons\">\n",
              "\n",
              "  <div class=\"colab-df-container\">\n",
              "    <button class=\"colab-df-convert\" onclick=\"convertToInteractive('df-1a6e5b83-6f81-4225-b734-a5e7c57d81cc')\"\n",
              "            title=\"Convert this dataframe to an interactive table.\"\n",
              "            style=\"display:none;\">\n",
              "\n",
              "  <svg xmlns=\"http://www.w3.org/2000/svg\" height=\"24px\" viewBox=\"0 -960 960 960\">\n",
              "    <path d=\"M120-120v-720h720v720H120Zm60-500h600v-160H180v160Zm220 220h160v-160H400v160Zm0 220h160v-160H400v160ZM180-400h160v-160H180v160Zm440 0h160v-160H620v160ZM180-180h160v-160H180v160Zm440 0h160v-160H620v160Z\"/>\n",
              "  </svg>\n",
              "    </button>\n",
              "\n",
              "  <style>\n",
              "    .colab-df-container {\n",
              "      display:flex;\n",
              "      gap: 12px;\n",
              "    }\n",
              "\n",
              "    .colab-df-convert {\n",
              "      background-color: #E8F0FE;\n",
              "      border: none;\n",
              "      border-radius: 50%;\n",
              "      cursor: pointer;\n",
              "      display: none;\n",
              "      fill: #1967D2;\n",
              "      height: 32px;\n",
              "      padding: 0 0 0 0;\n",
              "      width: 32px;\n",
              "    }\n",
              "\n",
              "    .colab-df-convert:hover {\n",
              "      background-color: #E2EBFA;\n",
              "      box-shadow: 0px 1px 2px rgba(60, 64, 67, 0.3), 0px 1px 3px 1px rgba(60, 64, 67, 0.15);\n",
              "      fill: #174EA6;\n",
              "    }\n",
              "\n",
              "    .colab-df-buttons div {\n",
              "      margin-bottom: 4px;\n",
              "    }\n",
              "\n",
              "    [theme=dark] .colab-df-convert {\n",
              "      background-color: #3B4455;\n",
              "      fill: #D2E3FC;\n",
              "    }\n",
              "\n",
              "    [theme=dark] .colab-df-convert:hover {\n",
              "      background-color: #434B5C;\n",
              "      box-shadow: 0px 1px 3px 1px rgba(0, 0, 0, 0.15);\n",
              "      filter: drop-shadow(0px 1px 2px rgba(0, 0, 0, 0.3));\n",
              "      fill: #FFFFFF;\n",
              "    }\n",
              "  </style>\n",
              "\n",
              "    <script>\n",
              "      const buttonEl =\n",
              "        document.querySelector('#df-1a6e5b83-6f81-4225-b734-a5e7c57d81cc button.colab-df-convert');\n",
              "      buttonEl.style.display =\n",
              "        google.colab.kernel.accessAllowed ? 'block' : 'none';\n",
              "\n",
              "      async function convertToInteractive(key) {\n",
              "        const element = document.querySelector('#df-1a6e5b83-6f81-4225-b734-a5e7c57d81cc');\n",
              "        const dataTable =\n",
              "          await google.colab.kernel.invokeFunction('convertToInteractive',\n",
              "                                                    [key], {});\n",
              "        if (!dataTable) return;\n",
              "\n",
              "        const docLinkHtml = 'Like what you see? Visit the ' +\n",
              "          '<a target=\"_blank\" href=https://colab.research.google.com/notebooks/data_table.ipynb>data table notebook</a>'\n",
              "          + ' to learn more about interactive tables.';\n",
              "        element.innerHTML = '';\n",
              "        dataTable['output_type'] = 'display_data';\n",
              "        await google.colab.output.renderOutput(dataTable, element);\n",
              "        const docLink = document.createElement('div');\n",
              "        docLink.innerHTML = docLinkHtml;\n",
              "        element.appendChild(docLink);\n",
              "      }\n",
              "    </script>\n",
              "  </div>\n",
              "\n",
              "\n",
              "<div id=\"df-830d7218-bec1-486c-bbd6-ec9eb171752d\">\n",
              "  <button class=\"colab-df-quickchart\" onclick=\"quickchart('df-830d7218-bec1-486c-bbd6-ec9eb171752d')\"\n",
              "            title=\"Suggest charts\"\n",
              "            style=\"display:none;\">\n",
              "\n",
              "<svg xmlns=\"http://www.w3.org/2000/svg\" height=\"24px\"viewBox=\"0 0 24 24\"\n",
              "     width=\"24px\">\n",
              "    <g>\n",
              "        <path d=\"M19 3H5c-1.1 0-2 .9-2 2v14c0 1.1.9 2 2 2h14c1.1 0 2-.9 2-2V5c0-1.1-.9-2-2-2zM9 17H7v-7h2v7zm4 0h-2V7h2v10zm4 0h-2v-4h2v4z\"/>\n",
              "    </g>\n",
              "</svg>\n",
              "  </button>\n",
              "\n",
              "<style>\n",
              "  .colab-df-quickchart {\n",
              "      --bg-color: #E8F0FE;\n",
              "      --fill-color: #1967D2;\n",
              "      --hover-bg-color: #E2EBFA;\n",
              "      --hover-fill-color: #174EA6;\n",
              "      --disabled-fill-color: #AAA;\n",
              "      --disabled-bg-color: #DDD;\n",
              "  }\n",
              "\n",
              "  [theme=dark] .colab-df-quickchart {\n",
              "      --bg-color: #3B4455;\n",
              "      --fill-color: #D2E3FC;\n",
              "      --hover-bg-color: #434B5C;\n",
              "      --hover-fill-color: #FFFFFF;\n",
              "      --disabled-bg-color: #3B4455;\n",
              "      --disabled-fill-color: #666;\n",
              "  }\n",
              "\n",
              "  .colab-df-quickchart {\n",
              "    background-color: var(--bg-color);\n",
              "    border: none;\n",
              "    border-radius: 50%;\n",
              "    cursor: pointer;\n",
              "    display: none;\n",
              "    fill: var(--fill-color);\n",
              "    height: 32px;\n",
              "    padding: 0;\n",
              "    width: 32px;\n",
              "  }\n",
              "\n",
              "  .colab-df-quickchart:hover {\n",
              "    background-color: var(--hover-bg-color);\n",
              "    box-shadow: 0 1px 2px rgba(60, 64, 67, 0.3), 0 1px 3px 1px rgba(60, 64, 67, 0.15);\n",
              "    fill: var(--button-hover-fill-color);\n",
              "  }\n",
              "\n",
              "  .colab-df-quickchart-complete:disabled,\n",
              "  .colab-df-quickchart-complete:disabled:hover {\n",
              "    background-color: var(--disabled-bg-color);\n",
              "    fill: var(--disabled-fill-color);\n",
              "    box-shadow: none;\n",
              "  }\n",
              "\n",
              "  .colab-df-spinner {\n",
              "    border: 2px solid var(--fill-color);\n",
              "    border-color: transparent;\n",
              "    border-bottom-color: var(--fill-color);\n",
              "    animation:\n",
              "      spin 1s steps(1) infinite;\n",
              "  }\n",
              "\n",
              "  @keyframes spin {\n",
              "    0% {\n",
              "      border-color: transparent;\n",
              "      border-bottom-color: var(--fill-color);\n",
              "      border-left-color: var(--fill-color);\n",
              "    }\n",
              "    20% {\n",
              "      border-color: transparent;\n",
              "      border-left-color: var(--fill-color);\n",
              "      border-top-color: var(--fill-color);\n",
              "    }\n",
              "    30% {\n",
              "      border-color: transparent;\n",
              "      border-left-color: var(--fill-color);\n",
              "      border-top-color: var(--fill-color);\n",
              "      border-right-color: var(--fill-color);\n",
              "    }\n",
              "    40% {\n",
              "      border-color: transparent;\n",
              "      border-right-color: var(--fill-color);\n",
              "      border-top-color: var(--fill-color);\n",
              "    }\n",
              "    60% {\n",
              "      border-color: transparent;\n",
              "      border-right-color: var(--fill-color);\n",
              "    }\n",
              "    80% {\n",
              "      border-color: transparent;\n",
              "      border-right-color: var(--fill-color);\n",
              "      border-bottom-color: var(--fill-color);\n",
              "    }\n",
              "    90% {\n",
              "      border-color: transparent;\n",
              "      border-bottom-color: var(--fill-color);\n",
              "    }\n",
              "  }\n",
              "</style>\n",
              "\n",
              "  <script>\n",
              "    async function quickchart(key) {\n",
              "      const quickchartButtonEl =\n",
              "        document.querySelector('#' + key + ' button');\n",
              "      quickchartButtonEl.disabled = true;  // To prevent multiple clicks.\n",
              "      quickchartButtonEl.classList.add('colab-df-spinner');\n",
              "      try {\n",
              "        const charts = await google.colab.kernel.invokeFunction(\n",
              "            'suggestCharts', [key], {});\n",
              "      } catch (error) {\n",
              "        console.error('Error during call to suggestCharts:', error);\n",
              "      }\n",
              "      quickchartButtonEl.classList.remove('colab-df-spinner');\n",
              "      quickchartButtonEl.classList.add('colab-df-quickchart-complete');\n",
              "    }\n",
              "    (() => {\n",
              "      let quickchartButtonEl =\n",
              "        document.querySelector('#df-830d7218-bec1-486c-bbd6-ec9eb171752d button');\n",
              "      quickchartButtonEl.style.display =\n",
              "        google.colab.kernel.accessAllowed ? 'block' : 'none';\n",
              "    })();\n",
              "  </script>\n",
              "</div>\n",
              "\n",
              "    </div>\n",
              "  </div>\n"
            ],
            "application/vnd.google.colaboratory.intrinsic+json": {
              "type": "dataframe",
              "variable_name": "data",
              "summary": "{\n  \"name\": \"data\",\n  \"rows\": 276,\n  \"fields\": [\n    {\n      \"column\": \"index\",\n      \"properties\": {\n        \"dtype\": \"number\",\n        \"std\": 79,\n        \"min\": 0,\n        \"max\": 275,\n        \"num_unique_values\": 276,\n        \"samples\": [\n          30,\n          124,\n          196\n        ],\n        \"semantic_type\": \"\",\n        \"description\": \"\"\n      }\n    },\n    {\n      \"column\": \"MONTH\",\n      \"properties\": {\n        \"dtype\": \"string\",\n        \"num_unique_values\": 276,\n        \"samples\": [\n          \"Jul-02\",\n          \"May-10\",\n          \"May-16\"\n        ],\n        \"semantic_type\": \"\",\n        \"description\": \"\"\n      }\n    },\n    {\n      \"column\": \"WOD\",\n      \"properties\": {\n        \"dtype\": \"category\",\n        \"num_unique_values\": 85,\n        \"samples\": [\n          \"95,43\",\n          \"75,58\",\n          \"99,7\"\n        ],\n        \"semantic_type\": \"\",\n        \"description\": \"\"\n      }\n    },\n    {\n      \"column\": \"N-OS\",\n      \"properties\": {\n        \"dtype\": \"category\",\n        \"num_unique_values\": 82,\n        \"samples\": [\n          \"53,32\",\n          \"45,8\",\n          \"55,3\"\n        ],\n        \"semantic_type\": \"\",\n        \"description\": \"\"\n      }\n    },\n    {\n      \"column\": \"OP\",\n      \"properties\": {\n        \"dtype\": \"category\",\n        \"num_unique_values\": 73,\n        \"samples\": [\n          \"29,23\",\n          \"23,86\",\n          \"29,5\"\n        ],\n        \"semantic_type\": \"\",\n        \"description\": \"\"\n      }\n    },\n    {\n      \"column\": \"USD/DZD\",\n      \"properties\": {\n        \"dtype\": \"string\",\n        \"num_unique_values\": 276,\n        \"samples\": [\n          \"79,745361\",\n          \"74,377782\",\n          \"109,70801\"\n        ],\n        \"semantic_type\": \"\",\n        \"description\": \"\"\n      }\n    },\n    {\n      \"column\": \"GPR\",\n      \"properties\": {\n        \"dtype\": \"string\",\n        \"num_unique_values\": 271,\n        \"samples\": [\n          \"122,78\",\n          \"92,84\",\n          \"147,08\"\n        ],\n        \"semantic_type\": \"\",\n        \"description\": \"\"\n      }\n    },\n    {\n      \"column\": \"PRICE\",\n      \"properties\": {\n        \"dtype\": \"string\",\n        \"num_unique_values\": 268,\n        \"samples\": [\n          \"74,98\",\n          \"72,13\",\n          \"19\"\n        ],\n        \"semantic_type\": \"\",\n        \"description\": \"\"\n      }\n    }\n  ]\n}"
            }
          },
          "metadata": {},
          "execution_count": 17
        }
      ],
      "source": [
        "data= pd.read_csv('/content/data monthlyy.csv', sep=\";\")\n",
        "data.head()"
      ]
    },
    {
      "cell_type": "code",
      "execution_count": null,
      "metadata": {
        "id": "0mSqeJaPntN3"
      },
      "outputs": [],
      "source": [
        "data['MONTH'] = pd.to_datetime(data['MONTH'], format='%b-%y')\n",
        "data.set_index('MONTH', inplace=True)"
      ]
    },
    {
      "cell_type": "code",
      "execution_count": null,
      "metadata": {
        "id": "SQavMCrbnt2p"
      },
      "outputs": [],
      "source": [
        "data = data.drop('index', axis=1)"
      ]
    },
    {
      "cell_type": "code",
      "execution_count": null,
      "metadata": {
        "id": "Z6ecIGTNnyI9"
      },
      "outputs": [],
      "source": [
        "data['WOD'] = data['WOD'].str.replace(',', '.')\n",
        "data['GPR'] = data['GPR'].str.replace(',', '.')\n",
        "data['N-OS'] = data['N-OS'].str.replace(',', '.')\n",
        "data['OP'] = data['OP'].str.replace(',', '.')\n",
        "data['PRICE'] = data['PRICE'].str.replace(',', '.')\n",
        "data['USD/DZD'] = data['USD/DZD'].str.replace(',', '.')"
      ]
    },
    {
      "cell_type": "code",
      "execution_count": null,
      "metadata": {
        "colab": {
          "base_uri": "https://localhost:8080/"
        },
        "id": "dTpXxRx6RgpQ",
        "outputId": "1f93e4fc-d2a3-43fa-9cbb-84f17683f5cb"
      },
      "outputs": [
        {
          "output_type": "stream",
          "name": "stdout",
          "text": [
            "               WOD   N-OS     OP     USD/DZD     GPR   PRICE\n",
            "MONTH                                                       \n",
            "2000-01-01   75.58   45.8   26.5   68.232775   64.46    25.6\n",
            "2000-02-01     NaN    NaN    NaN   69.198775   63.54    26.3\n",
            "2000-03-01     NaN    NaN    NaN   72.134723    50.1    26.7\n",
            "2000-04-01   74.09   45.5   27.9   73.913208   48.68    26.5\n",
            "2000-05-01     NaN    NaN    NaN   76.018356   79.48    27.4\n",
            "...            ...    ...    ...         ...     ...     ...\n",
            "2022-08-01     NaN    NaN    NaN  142.450548  132.86  104.22\n",
            "2022-09-01     NaN    NaN    NaN  140.559909  131.99   92.72\n",
            "2022-10-01  101.17  66.84  29.11  140.263062  143.16   95.66\n",
            "2022-11-01     NaN    NaN    NaN  139.251141  116.72    93.6\n",
            "2022-12-01     NaN    NaN    NaN  137.577482   111.2   83.03\n",
            "\n",
            "[276 rows x 6 columns]\n"
          ]
        }
      ],
      "source": [
        "print(data)"
      ]
    },
    {
      "cell_type": "code",
      "execution_count": null,
      "metadata": {
        "id": "Y1Ntf4xNn4hh"
      },
      "outputs": [],
      "source": [
        "data['USD/DZD'] = data['USD/DZD'].astype(float)\n",
        "data['GPR'] = data['GPR'].astype(float)\n",
        "data['OP'] = data['OP'].astype(float)\n",
        "data['N-OS'] = data['N-OS'].astype(float)\n",
        "data['WOD'] = data['WOD'].astype(float)\n",
        "data['PRICE'] = data['PRICE'].astype(float)"
      ]
    },
    {
      "cell_type": "code",
      "execution_count": null,
      "metadata": {
        "colab": {
          "base_uri": "https://localhost:8080/",
          "height": 455
        },
        "id": "TNGU-EOMFX8s",
        "outputId": "db8f7e9f-aed3-4527-80b8-f89ee1d452f5"
      },
      "outputs": [
        {
          "output_type": "execute_result",
          "data": {
            "text/plain": [
              "               WOD   N-OS     OP     USD/DZD     GPR   PRICE\n",
              "MONTH                                                       \n",
              "2000-01-01   75.58  45.80  26.50   68.232775   64.46   25.60\n",
              "2000-02-01     NaN    NaN    NaN   69.198775   63.54   26.30\n",
              "2000-03-01     NaN    NaN    NaN   72.134723   50.10   26.70\n",
              "2000-04-01   74.09  45.50  27.90   73.913208   48.68   26.50\n",
              "2000-05-01     NaN    NaN    NaN   76.018356   79.48   27.40\n",
              "...            ...    ...    ...         ...     ...     ...\n",
              "2022-08-01     NaN    NaN    NaN  142.450548  132.86  104.22\n",
              "2022-09-01     NaN    NaN    NaN  140.559909  131.99   92.72\n",
              "2022-10-01  101.17  66.84  29.11  140.263062  143.16   95.66\n",
              "2022-11-01     NaN    NaN    NaN  139.251141  116.72   93.60\n",
              "2022-12-01     NaN    NaN    NaN  137.577482  111.20   83.03\n",
              "\n",
              "[276 rows x 6 columns]"
            ],
            "text/html": [
              "\n",
              "  <div id=\"df-d2cf1426-9521-4918-a0ed-bebee1ee4d23\" class=\"colab-df-container\">\n",
              "    <div>\n",
              "<style scoped>\n",
              "    .dataframe tbody tr th:only-of-type {\n",
              "        vertical-align: middle;\n",
              "    }\n",
              "\n",
              "    .dataframe tbody tr th {\n",
              "        vertical-align: top;\n",
              "    }\n",
              "\n",
              "    .dataframe thead th {\n",
              "        text-align: right;\n",
              "    }\n",
              "</style>\n",
              "<table border=\"1\" class=\"dataframe\">\n",
              "  <thead>\n",
              "    <tr style=\"text-align: right;\">\n",
              "      <th></th>\n",
              "      <th>WOD</th>\n",
              "      <th>N-OS</th>\n",
              "      <th>OP</th>\n",
              "      <th>USD/DZD</th>\n",
              "      <th>GPR</th>\n",
              "      <th>PRICE</th>\n",
              "    </tr>\n",
              "    <tr>\n",
              "      <th>MONTH</th>\n",
              "      <th></th>\n",
              "      <th></th>\n",
              "      <th></th>\n",
              "      <th></th>\n",
              "      <th></th>\n",
              "      <th></th>\n",
              "    </tr>\n",
              "  </thead>\n",
              "  <tbody>\n",
              "    <tr>\n",
              "      <th>2000-01-01</th>\n",
              "      <td>75.58</td>\n",
              "      <td>45.80</td>\n",
              "      <td>26.50</td>\n",
              "      <td>68.232775</td>\n",
              "      <td>64.46</td>\n",
              "      <td>25.60</td>\n",
              "    </tr>\n",
              "    <tr>\n",
              "      <th>2000-02-01</th>\n",
              "      <td>NaN</td>\n",
              "      <td>NaN</td>\n",
              "      <td>NaN</td>\n",
              "      <td>69.198775</td>\n",
              "      <td>63.54</td>\n",
              "      <td>26.30</td>\n",
              "    </tr>\n",
              "    <tr>\n",
              "      <th>2000-03-01</th>\n",
              "      <td>NaN</td>\n",
              "      <td>NaN</td>\n",
              "      <td>NaN</td>\n",
              "      <td>72.134723</td>\n",
              "      <td>50.10</td>\n",
              "      <td>26.70</td>\n",
              "    </tr>\n",
              "    <tr>\n",
              "      <th>2000-04-01</th>\n",
              "      <td>74.09</td>\n",
              "      <td>45.50</td>\n",
              "      <td>27.90</td>\n",
              "      <td>73.913208</td>\n",
              "      <td>48.68</td>\n",
              "      <td>26.50</td>\n",
              "    </tr>\n",
              "    <tr>\n",
              "      <th>2000-05-01</th>\n",
              "      <td>NaN</td>\n",
              "      <td>NaN</td>\n",
              "      <td>NaN</td>\n",
              "      <td>76.018356</td>\n",
              "      <td>79.48</td>\n",
              "      <td>27.40</td>\n",
              "    </tr>\n",
              "    <tr>\n",
              "      <th>...</th>\n",
              "      <td>...</td>\n",
              "      <td>...</td>\n",
              "      <td>...</td>\n",
              "      <td>...</td>\n",
              "      <td>...</td>\n",
              "      <td>...</td>\n",
              "    </tr>\n",
              "    <tr>\n",
              "      <th>2022-08-01</th>\n",
              "      <td>NaN</td>\n",
              "      <td>NaN</td>\n",
              "      <td>NaN</td>\n",
              "      <td>142.450548</td>\n",
              "      <td>132.86</td>\n",
              "      <td>104.22</td>\n",
              "    </tr>\n",
              "    <tr>\n",
              "      <th>2022-09-01</th>\n",
              "      <td>NaN</td>\n",
              "      <td>NaN</td>\n",
              "      <td>NaN</td>\n",
              "      <td>140.559909</td>\n",
              "      <td>131.99</td>\n",
              "      <td>92.72</td>\n",
              "    </tr>\n",
              "    <tr>\n",
              "      <th>2022-10-01</th>\n",
              "      <td>101.17</td>\n",
              "      <td>66.84</td>\n",
              "      <td>29.11</td>\n",
              "      <td>140.263062</td>\n",
              "      <td>143.16</td>\n",
              "      <td>95.66</td>\n",
              "    </tr>\n",
              "    <tr>\n",
              "      <th>2022-11-01</th>\n",
              "      <td>NaN</td>\n",
              "      <td>NaN</td>\n",
              "      <td>NaN</td>\n",
              "      <td>139.251141</td>\n",
              "      <td>116.72</td>\n",
              "      <td>93.60</td>\n",
              "    </tr>\n",
              "    <tr>\n",
              "      <th>2022-12-01</th>\n",
              "      <td>NaN</td>\n",
              "      <td>NaN</td>\n",
              "      <td>NaN</td>\n",
              "      <td>137.577482</td>\n",
              "      <td>111.20</td>\n",
              "      <td>83.03</td>\n",
              "    </tr>\n",
              "  </tbody>\n",
              "</table>\n",
              "<p>276 rows × 6 columns</p>\n",
              "</div>\n",
              "    <div class=\"colab-df-buttons\">\n",
              "\n",
              "  <div class=\"colab-df-container\">\n",
              "    <button class=\"colab-df-convert\" onclick=\"convertToInteractive('df-d2cf1426-9521-4918-a0ed-bebee1ee4d23')\"\n",
              "            title=\"Convert this dataframe to an interactive table.\"\n",
              "            style=\"display:none;\">\n",
              "\n",
              "  <svg xmlns=\"http://www.w3.org/2000/svg\" height=\"24px\" viewBox=\"0 -960 960 960\">\n",
              "    <path d=\"M120-120v-720h720v720H120Zm60-500h600v-160H180v160Zm220 220h160v-160H400v160Zm0 220h160v-160H400v160ZM180-400h160v-160H180v160Zm440 0h160v-160H620v160ZM180-180h160v-160H180v160Zm440 0h160v-160H620v160Z\"/>\n",
              "  </svg>\n",
              "    </button>\n",
              "\n",
              "  <style>\n",
              "    .colab-df-container {\n",
              "      display:flex;\n",
              "      gap: 12px;\n",
              "    }\n",
              "\n",
              "    .colab-df-convert {\n",
              "      background-color: #E8F0FE;\n",
              "      border: none;\n",
              "      border-radius: 50%;\n",
              "      cursor: pointer;\n",
              "      display: none;\n",
              "      fill: #1967D2;\n",
              "      height: 32px;\n",
              "      padding: 0 0 0 0;\n",
              "      width: 32px;\n",
              "    }\n",
              "\n",
              "    .colab-df-convert:hover {\n",
              "      background-color: #E2EBFA;\n",
              "      box-shadow: 0px 1px 2px rgba(60, 64, 67, 0.3), 0px 1px 3px 1px rgba(60, 64, 67, 0.15);\n",
              "      fill: #174EA6;\n",
              "    }\n",
              "\n",
              "    .colab-df-buttons div {\n",
              "      margin-bottom: 4px;\n",
              "    }\n",
              "\n",
              "    [theme=dark] .colab-df-convert {\n",
              "      background-color: #3B4455;\n",
              "      fill: #D2E3FC;\n",
              "    }\n",
              "\n",
              "    [theme=dark] .colab-df-convert:hover {\n",
              "      background-color: #434B5C;\n",
              "      box-shadow: 0px 1px 3px 1px rgba(0, 0, 0, 0.15);\n",
              "      filter: drop-shadow(0px 1px 2px rgba(0, 0, 0, 0.3));\n",
              "      fill: #FFFFFF;\n",
              "    }\n",
              "  </style>\n",
              "\n",
              "    <script>\n",
              "      const buttonEl =\n",
              "        document.querySelector('#df-d2cf1426-9521-4918-a0ed-bebee1ee4d23 button.colab-df-convert');\n",
              "      buttonEl.style.display =\n",
              "        google.colab.kernel.accessAllowed ? 'block' : 'none';\n",
              "\n",
              "      async function convertToInteractive(key) {\n",
              "        const element = document.querySelector('#df-d2cf1426-9521-4918-a0ed-bebee1ee4d23');\n",
              "        const dataTable =\n",
              "          await google.colab.kernel.invokeFunction('convertToInteractive',\n",
              "                                                    [key], {});\n",
              "        if (!dataTable) return;\n",
              "\n",
              "        const docLinkHtml = 'Like what you see? Visit the ' +\n",
              "          '<a target=\"_blank\" href=https://colab.research.google.com/notebooks/data_table.ipynb>data table notebook</a>'\n",
              "          + ' to learn more about interactive tables.';\n",
              "        element.innerHTML = '';\n",
              "        dataTable['output_type'] = 'display_data';\n",
              "        await google.colab.output.renderOutput(dataTable, element);\n",
              "        const docLink = document.createElement('div');\n",
              "        docLink.innerHTML = docLinkHtml;\n",
              "        element.appendChild(docLink);\n",
              "      }\n",
              "    </script>\n",
              "  </div>\n",
              "\n",
              "\n",
              "<div id=\"df-73e2d71e-d131-4015-8bf2-d5dd1f3df51e\">\n",
              "  <button class=\"colab-df-quickchart\" onclick=\"quickchart('df-73e2d71e-d131-4015-8bf2-d5dd1f3df51e')\"\n",
              "            title=\"Suggest charts\"\n",
              "            style=\"display:none;\">\n",
              "\n",
              "<svg xmlns=\"http://www.w3.org/2000/svg\" height=\"24px\"viewBox=\"0 0 24 24\"\n",
              "     width=\"24px\">\n",
              "    <g>\n",
              "        <path d=\"M19 3H5c-1.1 0-2 .9-2 2v14c0 1.1.9 2 2 2h14c1.1 0 2-.9 2-2V5c0-1.1-.9-2-2-2zM9 17H7v-7h2v7zm4 0h-2V7h2v10zm4 0h-2v-4h2v4z\"/>\n",
              "    </g>\n",
              "</svg>\n",
              "  </button>\n",
              "\n",
              "<style>\n",
              "  .colab-df-quickchart {\n",
              "      --bg-color: #E8F0FE;\n",
              "      --fill-color: #1967D2;\n",
              "      --hover-bg-color: #E2EBFA;\n",
              "      --hover-fill-color: #174EA6;\n",
              "      --disabled-fill-color: #AAA;\n",
              "      --disabled-bg-color: #DDD;\n",
              "  }\n",
              "\n",
              "  [theme=dark] .colab-df-quickchart {\n",
              "      --bg-color: #3B4455;\n",
              "      --fill-color: #D2E3FC;\n",
              "      --hover-bg-color: #434B5C;\n",
              "      --hover-fill-color: #FFFFFF;\n",
              "      --disabled-bg-color: #3B4455;\n",
              "      --disabled-fill-color: #666;\n",
              "  }\n",
              "\n",
              "  .colab-df-quickchart {\n",
              "    background-color: var(--bg-color);\n",
              "    border: none;\n",
              "    border-radius: 50%;\n",
              "    cursor: pointer;\n",
              "    display: none;\n",
              "    fill: var(--fill-color);\n",
              "    height: 32px;\n",
              "    padding: 0;\n",
              "    width: 32px;\n",
              "  }\n",
              "\n",
              "  .colab-df-quickchart:hover {\n",
              "    background-color: var(--hover-bg-color);\n",
              "    box-shadow: 0 1px 2px rgba(60, 64, 67, 0.3), 0 1px 3px 1px rgba(60, 64, 67, 0.15);\n",
              "    fill: var(--button-hover-fill-color);\n",
              "  }\n",
              "\n",
              "  .colab-df-quickchart-complete:disabled,\n",
              "  .colab-df-quickchart-complete:disabled:hover {\n",
              "    background-color: var(--disabled-bg-color);\n",
              "    fill: var(--disabled-fill-color);\n",
              "    box-shadow: none;\n",
              "  }\n",
              "\n",
              "  .colab-df-spinner {\n",
              "    border: 2px solid var(--fill-color);\n",
              "    border-color: transparent;\n",
              "    border-bottom-color: var(--fill-color);\n",
              "    animation:\n",
              "      spin 1s steps(1) infinite;\n",
              "  }\n",
              "\n",
              "  @keyframes spin {\n",
              "    0% {\n",
              "      border-color: transparent;\n",
              "      border-bottom-color: var(--fill-color);\n",
              "      border-left-color: var(--fill-color);\n",
              "    }\n",
              "    20% {\n",
              "      border-color: transparent;\n",
              "      border-left-color: var(--fill-color);\n",
              "      border-top-color: var(--fill-color);\n",
              "    }\n",
              "    30% {\n",
              "      border-color: transparent;\n",
              "      border-left-color: var(--fill-color);\n",
              "      border-top-color: var(--fill-color);\n",
              "      border-right-color: var(--fill-color);\n",
              "    }\n",
              "    40% {\n",
              "      border-color: transparent;\n",
              "      border-right-color: var(--fill-color);\n",
              "      border-top-color: var(--fill-color);\n",
              "    }\n",
              "    60% {\n",
              "      border-color: transparent;\n",
              "      border-right-color: var(--fill-color);\n",
              "    }\n",
              "    80% {\n",
              "      border-color: transparent;\n",
              "      border-right-color: var(--fill-color);\n",
              "      border-bottom-color: var(--fill-color);\n",
              "    }\n",
              "    90% {\n",
              "      border-color: transparent;\n",
              "      border-bottom-color: var(--fill-color);\n",
              "    }\n",
              "  }\n",
              "</style>\n",
              "\n",
              "  <script>\n",
              "    async function quickchart(key) {\n",
              "      const quickchartButtonEl =\n",
              "        document.querySelector('#' + key + ' button');\n",
              "      quickchartButtonEl.disabled = true;  // To prevent multiple clicks.\n",
              "      quickchartButtonEl.classList.add('colab-df-spinner');\n",
              "      try {\n",
              "        const charts = await google.colab.kernel.invokeFunction(\n",
              "            'suggestCharts', [key], {});\n",
              "      } catch (error) {\n",
              "        console.error('Error during call to suggestCharts:', error);\n",
              "      }\n",
              "      quickchartButtonEl.classList.remove('colab-df-spinner');\n",
              "      quickchartButtonEl.classList.add('colab-df-quickchart-complete');\n",
              "    }\n",
              "    (() => {\n",
              "      let quickchartButtonEl =\n",
              "        document.querySelector('#df-73e2d71e-d131-4015-8bf2-d5dd1f3df51e button');\n",
              "      quickchartButtonEl.style.display =\n",
              "        google.colab.kernel.accessAllowed ? 'block' : 'none';\n",
              "    })();\n",
              "  </script>\n",
              "</div>\n",
              "\n",
              "  <div id=\"id_be41733c-b26e-499d-a357-99bdbc430e65\">\n",
              "    <style>\n",
              "      .colab-df-generate {\n",
              "        background-color: #E8F0FE;\n",
              "        border: none;\n",
              "        border-radius: 50%;\n",
              "        cursor: pointer;\n",
              "        display: none;\n",
              "        fill: #1967D2;\n",
              "        height: 32px;\n",
              "        padding: 0 0 0 0;\n",
              "        width: 32px;\n",
              "      }\n",
              "\n",
              "      .colab-df-generate:hover {\n",
              "        background-color: #E2EBFA;\n",
              "        box-shadow: 0px 1px 2px rgba(60, 64, 67, 0.3), 0px 1px 3px 1px rgba(60, 64, 67, 0.15);\n",
              "        fill: #174EA6;\n",
              "      }\n",
              "\n",
              "      [theme=dark] .colab-df-generate {\n",
              "        background-color: #3B4455;\n",
              "        fill: #D2E3FC;\n",
              "      }\n",
              "\n",
              "      [theme=dark] .colab-df-generate:hover {\n",
              "        background-color: #434B5C;\n",
              "        box-shadow: 0px 1px 3px 1px rgba(0, 0, 0, 0.15);\n",
              "        filter: drop-shadow(0px 1px 2px rgba(0, 0, 0, 0.3));\n",
              "        fill: #FFFFFF;\n",
              "      }\n",
              "    </style>\n",
              "    <button class=\"colab-df-generate\" onclick=\"generateWithVariable('data')\"\n",
              "            title=\"Generate code using this dataframe.\"\n",
              "            style=\"display:none;\">\n",
              "\n",
              "  <svg xmlns=\"http://www.w3.org/2000/svg\" height=\"24px\"viewBox=\"0 0 24 24\"\n",
              "       width=\"24px\">\n",
              "    <path d=\"M7,19H8.4L18.45,9,17,7.55,7,17.6ZM5,21V16.75L18.45,3.32a2,2,0,0,1,2.83,0l1.4,1.43a1.91,1.91,0,0,1,.58,1.4,1.91,1.91,0,0,1-.58,1.4L9.25,21ZM18.45,9,17,7.55Zm-12,3A5.31,5.31,0,0,0,4.9,8.1,5.31,5.31,0,0,0,1,6.5,5.31,5.31,0,0,0,4.9,4.9,5.31,5.31,0,0,0,6.5,1,5.31,5.31,0,0,0,8.1,4.9,5.31,5.31,0,0,0,12,6.5,5.46,5.46,0,0,0,6.5,12Z\"/>\n",
              "  </svg>\n",
              "    </button>\n",
              "    <script>\n",
              "      (() => {\n",
              "      const buttonEl =\n",
              "        document.querySelector('#id_be41733c-b26e-499d-a357-99bdbc430e65 button.colab-df-generate');\n",
              "      buttonEl.style.display =\n",
              "        google.colab.kernel.accessAllowed ? 'block' : 'none';\n",
              "\n",
              "      buttonEl.onclick = () => {\n",
              "        google.colab.notebook.generateWithVariable('data');\n",
              "      }\n",
              "      })();\n",
              "    </script>\n",
              "  </div>\n",
              "\n",
              "    </div>\n",
              "  </div>\n"
            ],
            "application/vnd.google.colaboratory.intrinsic+json": {
              "type": "dataframe",
              "variable_name": "data",
              "summary": "{\n  \"name\": \"data\",\n  \"rows\": 276,\n  \"fields\": [\n    {\n      \"column\": \"MONTH\",\n      \"properties\": {\n        \"dtype\": \"date\",\n        \"min\": \"2000-01-01 00:00:00\",\n        \"max\": \"2022-12-01 00:00:00\",\n        \"num_unique_values\": 276,\n        \"samples\": [\n          \"2002-07-01 00:00:00\",\n          \"2010-05-01 00:00:00\",\n          \"2016-05-01 00:00:00\"\n        ],\n        \"semantic_type\": \"\",\n        \"description\": \"\"\n      }\n    },\n    {\n      \"column\": \"WOD\",\n      \"properties\": {\n        \"dtype\": \"number\",\n        \"std\": 7.669159174035556,\n        \"min\": 74.09,\n        \"max\": 101.17,\n        \"num_unique_values\": 85,\n        \"samples\": [\n          95.43,\n          75.58,\n          99.7\n        ],\n        \"semantic_type\": \"\",\n        \"description\": \"\"\n      }\n    },\n    {\n      \"column\": \"N-OS\",\n      \"properties\": {\n        \"dtype\": \"number\",\n        \"std\": 6.031137301737775,\n        \"min\": 45.5,\n        \"max\": 71.2,\n        \"num_unique_values\": 82,\n        \"samples\": [\n          53.32,\n          45.8,\n          55.3\n        ],\n        \"semantic_type\": \"\",\n        \"description\": \"\"\n      }\n    },\n    {\n      \"column\": \"OP\",\n      \"properties\": {\n        \"dtype\": \"number\",\n        \"std\": 2.155014014464747,\n        \"min\": 23.86,\n        \"max\": 33.1,\n        \"num_unique_values\": 73,\n        \"samples\": [\n          29.23,\n          23.86,\n          29.5\n        ],\n        \"semantic_type\": \"\",\n        \"description\": \"\"\n      }\n    },\n    {\n      \"column\": \"USD/DZD\",\n      \"properties\": {\n        \"dtype\": \"number\",\n        \"std\": 23.42760889968915,\n        \"min\": 60.949507,\n        \"max\": 146.314157,\n        \"num_unique_values\": 276,\n        \"samples\": [\n          79.745361,\n          74.377782,\n          109.70801\n        ],\n        \"semantic_type\": \"\",\n        \"description\": \"\"\n      }\n    },\n    {\n      \"column\": \"GPR\",\n      \"properties\": {\n        \"dtype\": \"number\",\n        \"std\": 52.75999980277109,\n        \"min\": 45.06,\n        \"max\": 512.53,\n        \"num_unique_values\": 271,\n        \"samples\": [\n          122.78,\n          92.84,\n          147.08\n        ],\n        \"semantic_type\": \"\",\n        \"description\": \"\"\n      }\n    },\n    {\n      \"column\": \"PRICE\",\n      \"properties\": {\n        \"dtype\": \"number\",\n        \"std\": 30.10379257266385,\n        \"min\": 17.08,\n        \"max\": 134.49,\n        \"num_unique_values\": 268,\n        \"samples\": [\n          74.98,\n          72.13,\n          19.0\n        ],\n        \"semantic_type\": \"\",\n        \"description\": \"\"\n      }\n    }\n  ]\n}"
            }
          },
          "metadata": {},
          "execution_count": 97
        }
      ],
      "source": [
        "data"
      ]
    },
    {
      "cell_type": "code",
      "execution_count": null,
      "metadata": {
        "colab": {
          "base_uri": "https://localhost:8080/"
        },
        "id": "8cfqz81-KaMJ",
        "outputId": "7aba030a-cff3-4269-804c-2dd4bd839ddb"
      },
      "outputs": [
        {
          "output_type": "execute_result",
          "data": {
            "text/plain": [
              "WOD        184\n",
              "N-OS       184\n",
              "OP         182\n",
              "USD/DZD      0\n",
              "GPR          0\n",
              "PRICE        0\n",
              "dtype: int64"
            ]
          },
          "metadata": {},
          "execution_count": 98
        }
      ],
      "source": [
        "data.isnull().sum()"
      ]
    },
    {
      "cell_type": "code",
      "execution_count": null,
      "metadata": {
        "colab": {
          "base_uri": "https://localhost:8080/",
          "height": 455
        },
        "id": "sxj_ltLEn1ML",
        "outputId": "36dd677d-764e-40e4-e8ae-f76f0d9bc3f7"
      },
      "outputs": [
        {
          "output_type": "execute_result",
          "data": {
            "text/plain": [
              "               WOD   N-OS     OP     USD/DZD     GPR   PRICE\n",
              "MONTH                                                       \n",
              "2000-01-01   75.58  45.80  26.50   68.232775   64.46   25.60\n",
              "2000-02-01   75.58  45.80  26.50   69.198775   63.54   26.30\n",
              "2000-03-01   75.58  45.80  26.50   72.134723   50.10   26.70\n",
              "2000-04-01   74.09  45.50  27.90   73.913208   48.68   26.50\n",
              "2000-05-01   74.09  45.50  27.90   76.018356   79.48   27.40\n",
              "...            ...    ...    ...         ...     ...     ...\n",
              "2022-08-01   99.44  65.55  29.41  142.450548  132.86  104.22\n",
              "2022-09-01   99.44  65.55  29.41  140.559909  131.99   92.72\n",
              "2022-10-01  101.17  66.84  29.11  140.263062  143.16   95.66\n",
              "2022-11-01  101.17  66.84  29.11  139.251141  116.72   93.60\n",
              "2022-12-01  101.17  66.84  29.11  137.577482  111.20   83.03\n",
              "\n",
              "[276 rows x 6 columns]"
            ],
            "text/html": [
              "\n",
              "  <div id=\"df-5f3256c6-0db2-4f43-8c15-00a5b382bd24\" class=\"colab-df-container\">\n",
              "    <div>\n",
              "<style scoped>\n",
              "    .dataframe tbody tr th:only-of-type {\n",
              "        vertical-align: middle;\n",
              "    }\n",
              "\n",
              "    .dataframe tbody tr th {\n",
              "        vertical-align: top;\n",
              "    }\n",
              "\n",
              "    .dataframe thead th {\n",
              "        text-align: right;\n",
              "    }\n",
              "</style>\n",
              "<table border=\"1\" class=\"dataframe\">\n",
              "  <thead>\n",
              "    <tr style=\"text-align: right;\">\n",
              "      <th></th>\n",
              "      <th>WOD</th>\n",
              "      <th>N-OS</th>\n",
              "      <th>OP</th>\n",
              "      <th>USD/DZD</th>\n",
              "      <th>GPR</th>\n",
              "      <th>PRICE</th>\n",
              "    </tr>\n",
              "    <tr>\n",
              "      <th>MONTH</th>\n",
              "      <th></th>\n",
              "      <th></th>\n",
              "      <th></th>\n",
              "      <th></th>\n",
              "      <th></th>\n",
              "      <th></th>\n",
              "    </tr>\n",
              "  </thead>\n",
              "  <tbody>\n",
              "    <tr>\n",
              "      <th>2000-01-01</th>\n",
              "      <td>75.58</td>\n",
              "      <td>45.80</td>\n",
              "      <td>26.50</td>\n",
              "      <td>68.232775</td>\n",
              "      <td>64.46</td>\n",
              "      <td>25.60</td>\n",
              "    </tr>\n",
              "    <tr>\n",
              "      <th>2000-02-01</th>\n",
              "      <td>75.58</td>\n",
              "      <td>45.80</td>\n",
              "      <td>26.50</td>\n",
              "      <td>69.198775</td>\n",
              "      <td>63.54</td>\n",
              "      <td>26.30</td>\n",
              "    </tr>\n",
              "    <tr>\n",
              "      <th>2000-03-01</th>\n",
              "      <td>75.58</td>\n",
              "      <td>45.80</td>\n",
              "      <td>26.50</td>\n",
              "      <td>72.134723</td>\n",
              "      <td>50.10</td>\n",
              "      <td>26.70</td>\n",
              "    </tr>\n",
              "    <tr>\n",
              "      <th>2000-04-01</th>\n",
              "      <td>74.09</td>\n",
              "      <td>45.50</td>\n",
              "      <td>27.90</td>\n",
              "      <td>73.913208</td>\n",
              "      <td>48.68</td>\n",
              "      <td>26.50</td>\n",
              "    </tr>\n",
              "    <tr>\n",
              "      <th>2000-05-01</th>\n",
              "      <td>74.09</td>\n",
              "      <td>45.50</td>\n",
              "      <td>27.90</td>\n",
              "      <td>76.018356</td>\n",
              "      <td>79.48</td>\n",
              "      <td>27.40</td>\n",
              "    </tr>\n",
              "    <tr>\n",
              "      <th>...</th>\n",
              "      <td>...</td>\n",
              "      <td>...</td>\n",
              "      <td>...</td>\n",
              "      <td>...</td>\n",
              "      <td>...</td>\n",
              "      <td>...</td>\n",
              "    </tr>\n",
              "    <tr>\n",
              "      <th>2022-08-01</th>\n",
              "      <td>99.44</td>\n",
              "      <td>65.55</td>\n",
              "      <td>29.41</td>\n",
              "      <td>142.450548</td>\n",
              "      <td>132.86</td>\n",
              "      <td>104.22</td>\n",
              "    </tr>\n",
              "    <tr>\n",
              "      <th>2022-09-01</th>\n",
              "      <td>99.44</td>\n",
              "      <td>65.55</td>\n",
              "      <td>29.41</td>\n",
              "      <td>140.559909</td>\n",
              "      <td>131.99</td>\n",
              "      <td>92.72</td>\n",
              "    </tr>\n",
              "    <tr>\n",
              "      <th>2022-10-01</th>\n",
              "      <td>101.17</td>\n",
              "      <td>66.84</td>\n",
              "      <td>29.11</td>\n",
              "      <td>140.263062</td>\n",
              "      <td>143.16</td>\n",
              "      <td>95.66</td>\n",
              "    </tr>\n",
              "    <tr>\n",
              "      <th>2022-11-01</th>\n",
              "      <td>101.17</td>\n",
              "      <td>66.84</td>\n",
              "      <td>29.11</td>\n",
              "      <td>139.251141</td>\n",
              "      <td>116.72</td>\n",
              "      <td>93.60</td>\n",
              "    </tr>\n",
              "    <tr>\n",
              "      <th>2022-12-01</th>\n",
              "      <td>101.17</td>\n",
              "      <td>66.84</td>\n",
              "      <td>29.11</td>\n",
              "      <td>137.577482</td>\n",
              "      <td>111.20</td>\n",
              "      <td>83.03</td>\n",
              "    </tr>\n",
              "  </tbody>\n",
              "</table>\n",
              "<p>276 rows × 6 columns</p>\n",
              "</div>\n",
              "    <div class=\"colab-df-buttons\">\n",
              "\n",
              "  <div class=\"colab-df-container\">\n",
              "    <button class=\"colab-df-convert\" onclick=\"convertToInteractive('df-5f3256c6-0db2-4f43-8c15-00a5b382bd24')\"\n",
              "            title=\"Convert this dataframe to an interactive table.\"\n",
              "            style=\"display:none;\">\n",
              "\n",
              "  <svg xmlns=\"http://www.w3.org/2000/svg\" height=\"24px\" viewBox=\"0 -960 960 960\">\n",
              "    <path d=\"M120-120v-720h720v720H120Zm60-500h600v-160H180v160Zm220 220h160v-160H400v160Zm0 220h160v-160H400v160ZM180-400h160v-160H180v160Zm440 0h160v-160H620v160ZM180-180h160v-160H180v160Zm440 0h160v-160H620v160Z\"/>\n",
              "  </svg>\n",
              "    </button>\n",
              "\n",
              "  <style>\n",
              "    .colab-df-container {\n",
              "      display:flex;\n",
              "      gap: 12px;\n",
              "    }\n",
              "\n",
              "    .colab-df-convert {\n",
              "      background-color: #E8F0FE;\n",
              "      border: none;\n",
              "      border-radius: 50%;\n",
              "      cursor: pointer;\n",
              "      display: none;\n",
              "      fill: #1967D2;\n",
              "      height: 32px;\n",
              "      padding: 0 0 0 0;\n",
              "      width: 32px;\n",
              "    }\n",
              "\n",
              "    .colab-df-convert:hover {\n",
              "      background-color: #E2EBFA;\n",
              "      box-shadow: 0px 1px 2px rgba(60, 64, 67, 0.3), 0px 1px 3px 1px rgba(60, 64, 67, 0.15);\n",
              "      fill: #174EA6;\n",
              "    }\n",
              "\n",
              "    .colab-df-buttons div {\n",
              "      margin-bottom: 4px;\n",
              "    }\n",
              "\n",
              "    [theme=dark] .colab-df-convert {\n",
              "      background-color: #3B4455;\n",
              "      fill: #D2E3FC;\n",
              "    }\n",
              "\n",
              "    [theme=dark] .colab-df-convert:hover {\n",
              "      background-color: #434B5C;\n",
              "      box-shadow: 0px 1px 3px 1px rgba(0, 0, 0, 0.15);\n",
              "      filter: drop-shadow(0px 1px 2px rgba(0, 0, 0, 0.3));\n",
              "      fill: #FFFFFF;\n",
              "    }\n",
              "  </style>\n",
              "\n",
              "    <script>\n",
              "      const buttonEl =\n",
              "        document.querySelector('#df-5f3256c6-0db2-4f43-8c15-00a5b382bd24 button.colab-df-convert');\n",
              "      buttonEl.style.display =\n",
              "        google.colab.kernel.accessAllowed ? 'block' : 'none';\n",
              "\n",
              "      async function convertToInteractive(key) {\n",
              "        const element = document.querySelector('#df-5f3256c6-0db2-4f43-8c15-00a5b382bd24');\n",
              "        const dataTable =\n",
              "          await google.colab.kernel.invokeFunction('convertToInteractive',\n",
              "                                                    [key], {});\n",
              "        if (!dataTable) return;\n",
              "\n",
              "        const docLinkHtml = 'Like what you see? Visit the ' +\n",
              "          '<a target=\"_blank\" href=https://colab.research.google.com/notebooks/data_table.ipynb>data table notebook</a>'\n",
              "          + ' to learn more about interactive tables.';\n",
              "        element.innerHTML = '';\n",
              "        dataTable['output_type'] = 'display_data';\n",
              "        await google.colab.output.renderOutput(dataTable, element);\n",
              "        const docLink = document.createElement('div');\n",
              "        docLink.innerHTML = docLinkHtml;\n",
              "        element.appendChild(docLink);\n",
              "      }\n",
              "    </script>\n",
              "  </div>\n",
              "\n",
              "\n",
              "<div id=\"df-d9e2078f-7c9b-4800-9db9-03762de46e68\">\n",
              "  <button class=\"colab-df-quickchart\" onclick=\"quickchart('df-d9e2078f-7c9b-4800-9db9-03762de46e68')\"\n",
              "            title=\"Suggest charts\"\n",
              "            style=\"display:none;\">\n",
              "\n",
              "<svg xmlns=\"http://www.w3.org/2000/svg\" height=\"24px\"viewBox=\"0 0 24 24\"\n",
              "     width=\"24px\">\n",
              "    <g>\n",
              "        <path d=\"M19 3H5c-1.1 0-2 .9-2 2v14c0 1.1.9 2 2 2h14c1.1 0 2-.9 2-2V5c0-1.1-.9-2-2-2zM9 17H7v-7h2v7zm4 0h-2V7h2v10zm4 0h-2v-4h2v4z\"/>\n",
              "    </g>\n",
              "</svg>\n",
              "  </button>\n",
              "\n",
              "<style>\n",
              "  .colab-df-quickchart {\n",
              "      --bg-color: #E8F0FE;\n",
              "      --fill-color: #1967D2;\n",
              "      --hover-bg-color: #E2EBFA;\n",
              "      --hover-fill-color: #174EA6;\n",
              "      --disabled-fill-color: #AAA;\n",
              "      --disabled-bg-color: #DDD;\n",
              "  }\n",
              "\n",
              "  [theme=dark] .colab-df-quickchart {\n",
              "      --bg-color: #3B4455;\n",
              "      --fill-color: #D2E3FC;\n",
              "      --hover-bg-color: #434B5C;\n",
              "      --hover-fill-color: #FFFFFF;\n",
              "      --disabled-bg-color: #3B4455;\n",
              "      --disabled-fill-color: #666;\n",
              "  }\n",
              "\n",
              "  .colab-df-quickchart {\n",
              "    background-color: var(--bg-color);\n",
              "    border: none;\n",
              "    border-radius: 50%;\n",
              "    cursor: pointer;\n",
              "    display: none;\n",
              "    fill: var(--fill-color);\n",
              "    height: 32px;\n",
              "    padding: 0;\n",
              "    width: 32px;\n",
              "  }\n",
              "\n",
              "  .colab-df-quickchart:hover {\n",
              "    background-color: var(--hover-bg-color);\n",
              "    box-shadow: 0 1px 2px rgba(60, 64, 67, 0.3), 0 1px 3px 1px rgba(60, 64, 67, 0.15);\n",
              "    fill: var(--button-hover-fill-color);\n",
              "  }\n",
              "\n",
              "  .colab-df-quickchart-complete:disabled,\n",
              "  .colab-df-quickchart-complete:disabled:hover {\n",
              "    background-color: var(--disabled-bg-color);\n",
              "    fill: var(--disabled-fill-color);\n",
              "    box-shadow: none;\n",
              "  }\n",
              "\n",
              "  .colab-df-spinner {\n",
              "    border: 2px solid var(--fill-color);\n",
              "    border-color: transparent;\n",
              "    border-bottom-color: var(--fill-color);\n",
              "    animation:\n",
              "      spin 1s steps(1) infinite;\n",
              "  }\n",
              "\n",
              "  @keyframes spin {\n",
              "    0% {\n",
              "      border-color: transparent;\n",
              "      border-bottom-color: var(--fill-color);\n",
              "      border-left-color: var(--fill-color);\n",
              "    }\n",
              "    20% {\n",
              "      border-color: transparent;\n",
              "      border-left-color: var(--fill-color);\n",
              "      border-top-color: var(--fill-color);\n",
              "    }\n",
              "    30% {\n",
              "      border-color: transparent;\n",
              "      border-left-color: var(--fill-color);\n",
              "      border-top-color: var(--fill-color);\n",
              "      border-right-color: var(--fill-color);\n",
              "    }\n",
              "    40% {\n",
              "      border-color: transparent;\n",
              "      border-right-color: var(--fill-color);\n",
              "      border-top-color: var(--fill-color);\n",
              "    }\n",
              "    60% {\n",
              "      border-color: transparent;\n",
              "      border-right-color: var(--fill-color);\n",
              "    }\n",
              "    80% {\n",
              "      border-color: transparent;\n",
              "      border-right-color: var(--fill-color);\n",
              "      border-bottom-color: var(--fill-color);\n",
              "    }\n",
              "    90% {\n",
              "      border-color: transparent;\n",
              "      border-bottom-color: var(--fill-color);\n",
              "    }\n",
              "  }\n",
              "</style>\n",
              "\n",
              "  <script>\n",
              "    async function quickchart(key) {\n",
              "      const quickchartButtonEl =\n",
              "        document.querySelector('#' + key + ' button');\n",
              "      quickchartButtonEl.disabled = true;  // To prevent multiple clicks.\n",
              "      quickchartButtonEl.classList.add('colab-df-spinner');\n",
              "      try {\n",
              "        const charts = await google.colab.kernel.invokeFunction(\n",
              "            'suggestCharts', [key], {});\n",
              "      } catch (error) {\n",
              "        console.error('Error during call to suggestCharts:', error);\n",
              "      }\n",
              "      quickchartButtonEl.classList.remove('colab-df-spinner');\n",
              "      quickchartButtonEl.classList.add('colab-df-quickchart-complete');\n",
              "    }\n",
              "    (() => {\n",
              "      let quickchartButtonEl =\n",
              "        document.querySelector('#df-d9e2078f-7c9b-4800-9db9-03762de46e68 button');\n",
              "      quickchartButtonEl.style.display =\n",
              "        google.colab.kernel.accessAllowed ? 'block' : 'none';\n",
              "    })();\n",
              "  </script>\n",
              "</div>\n",
              "\n",
              "  <div id=\"id_40f1cab6-52ec-4326-a5b3-e96421a0ef11\">\n",
              "    <style>\n",
              "      .colab-df-generate {\n",
              "        background-color: #E8F0FE;\n",
              "        border: none;\n",
              "        border-radius: 50%;\n",
              "        cursor: pointer;\n",
              "        display: none;\n",
              "        fill: #1967D2;\n",
              "        height: 32px;\n",
              "        padding: 0 0 0 0;\n",
              "        width: 32px;\n",
              "      }\n",
              "\n",
              "      .colab-df-generate:hover {\n",
              "        background-color: #E2EBFA;\n",
              "        box-shadow: 0px 1px 2px rgba(60, 64, 67, 0.3), 0px 1px 3px 1px rgba(60, 64, 67, 0.15);\n",
              "        fill: #174EA6;\n",
              "      }\n",
              "\n",
              "      [theme=dark] .colab-df-generate {\n",
              "        background-color: #3B4455;\n",
              "        fill: #D2E3FC;\n",
              "      }\n",
              "\n",
              "      [theme=dark] .colab-df-generate:hover {\n",
              "        background-color: #434B5C;\n",
              "        box-shadow: 0px 1px 3px 1px rgba(0, 0, 0, 0.15);\n",
              "        filter: drop-shadow(0px 1px 2px rgba(0, 0, 0, 0.3));\n",
              "        fill: #FFFFFF;\n",
              "      }\n",
              "    </style>\n",
              "    <button class=\"colab-df-generate\" onclick=\"generateWithVariable('data')\"\n",
              "            title=\"Generate code using this dataframe.\"\n",
              "            style=\"display:none;\">\n",
              "\n",
              "  <svg xmlns=\"http://www.w3.org/2000/svg\" height=\"24px\"viewBox=\"0 0 24 24\"\n",
              "       width=\"24px\">\n",
              "    <path d=\"M7,19H8.4L18.45,9,17,7.55,7,17.6ZM5,21V16.75L18.45,3.32a2,2,0,0,1,2.83,0l1.4,1.43a1.91,1.91,0,0,1,.58,1.4,1.91,1.91,0,0,1-.58,1.4L9.25,21ZM18.45,9,17,7.55Zm-12,3A5.31,5.31,0,0,0,4.9,8.1,5.31,5.31,0,0,0,1,6.5,5.31,5.31,0,0,0,4.9,4.9,5.31,5.31,0,0,0,6.5,1,5.31,5.31,0,0,0,8.1,4.9,5.31,5.31,0,0,0,12,6.5,5.46,5.46,0,0,0,6.5,12Z\"/>\n",
              "  </svg>\n",
              "    </button>\n",
              "    <script>\n",
              "      (() => {\n",
              "      const buttonEl =\n",
              "        document.querySelector('#id_40f1cab6-52ec-4326-a5b3-e96421a0ef11 button.colab-df-generate');\n",
              "      buttonEl.style.display =\n",
              "        google.colab.kernel.accessAllowed ? 'block' : 'none';\n",
              "\n",
              "      buttonEl.onclick = () => {\n",
              "        google.colab.notebook.generateWithVariable('data');\n",
              "      }\n",
              "      })();\n",
              "    </script>\n",
              "  </div>\n",
              "\n",
              "    </div>\n",
              "  </div>\n"
            ],
            "application/vnd.google.colaboratory.intrinsic+json": {
              "type": "dataframe",
              "variable_name": "data",
              "summary": "{\n  \"name\": \"data\",\n  \"rows\": 276,\n  \"fields\": [\n    {\n      \"column\": \"MONTH\",\n      \"properties\": {\n        \"dtype\": \"date\",\n        \"min\": \"2000-01-01 00:00:00\",\n        \"max\": \"2022-12-01 00:00:00\",\n        \"num_unique_values\": 276,\n        \"samples\": [\n          \"2002-07-01 00:00:00\",\n          \"2010-05-01 00:00:00\",\n          \"2016-05-01 00:00:00\"\n        ],\n        \"semantic_type\": \"\",\n        \"description\": \"\"\n      }\n    },\n    {\n      \"column\": \"WOD\",\n      \"properties\": {\n        \"dtype\": \"number\",\n        \"std\": 7.641220432084105,\n        \"min\": 74.09,\n        \"max\": 101.17,\n        \"num_unique_values\": 85,\n        \"samples\": [\n          95.43,\n          75.58,\n          99.7\n        ],\n        \"semantic_type\": \"\",\n        \"description\": \"\"\n      }\n    },\n    {\n      \"column\": \"N-OS\",\n      \"properties\": {\n        \"dtype\": \"number\",\n        \"std\": 6.009165872416357,\n        \"min\": 45.5,\n        \"max\": 71.2,\n        \"num_unique_values\": 82,\n        \"samples\": [\n          53.32,\n          45.8,\n          55.3\n        ],\n        \"semantic_type\": \"\",\n        \"description\": \"\"\n      }\n    },\n    {\n      \"column\": \"OP\",\n      \"properties\": {\n        \"dtype\": \"number\",\n        \"std\": 2.16564291017106,\n        \"min\": 23.86,\n        \"max\": 33.1,\n        \"num_unique_values\": 73,\n        \"samples\": [\n          29.23,\n          23.86,\n          29.5\n        ],\n        \"semantic_type\": \"\",\n        \"description\": \"\"\n      }\n    },\n    {\n      \"column\": \"USD/DZD\",\n      \"properties\": {\n        \"dtype\": \"number\",\n        \"std\": 23.42760889968915,\n        \"min\": 60.949507,\n        \"max\": 146.314157,\n        \"num_unique_values\": 276,\n        \"samples\": [\n          79.745361,\n          74.377782,\n          109.70801\n        ],\n        \"semantic_type\": \"\",\n        \"description\": \"\"\n      }\n    },\n    {\n      \"column\": \"GPR\",\n      \"properties\": {\n        \"dtype\": \"number\",\n        \"std\": 52.75999980277109,\n        \"min\": 45.06,\n        \"max\": 512.53,\n        \"num_unique_values\": 271,\n        \"samples\": [\n          122.78,\n          92.84,\n          147.08\n        ],\n        \"semantic_type\": \"\",\n        \"description\": \"\"\n      }\n    },\n    {\n      \"column\": \"PRICE\",\n      \"properties\": {\n        \"dtype\": \"number\",\n        \"std\": 30.10379257266385,\n        \"min\": 17.08,\n        \"max\": 134.49,\n        \"num_unique_values\": 268,\n        \"samples\": [\n          74.98,\n          72.13,\n          19.0\n        ],\n        \"semantic_type\": \"\",\n        \"description\": \"\"\n      }\n    }\n  ]\n}"
            }
          },
          "metadata": {},
          "execution_count": 99
        }
      ],
      "source": [
        "data = data.fillna(method='ffill')\n",
        "data"
      ]
    },
    {
      "cell_type": "code",
      "execution_count": null,
      "metadata": {
        "colab": {
          "base_uri": "https://localhost:8080/",
          "height": 564
        },
        "id": "Fx-Vr9P2Fdxq",
        "outputId": "5fc35d59-5a64-4f3f-b358-af8b3c6f6198"
      },
      "outputs": [
        {
          "output_type": "display_data",
          "data": {
            "text/plain": [
              "<Figure size 1000x600 with 1 Axes>"
            ],
            "image/png": "[encoded data removed]"
          },
          "metadata": {}
        }
      ],
      "source": [
        "#plotting price over time-frame\n",
        "data['PRICE'].plot(kind='line', figsize=(10, 6))\n",
        "plt.xlabel('Time')\n",
        "plt.ylabel('Price')\n",
        "plt.title('Price Over Time')\n",
        "plt.show()"
      ]
    },
    {
      "cell_type": "code",
      "execution_count": null,
      "metadata": {
        "colab": {
          "base_uri": "https://localhost:8080/",
          "height": 434
        },
        "id": "qQIjCYfnGuRB",
        "outputId": "a2cfc11e-a63f-4b2b-f63e-1d6c90d6f4a9"
      },
      "outputs": [
        {
          "output_type": "display_data",
          "data": {
            "text/plain": [
              "<Figure size 640x480 with 1 Axes>"
            ],
            "image/png": "[encoded data removed]"
          },
          "metadata": {}
        }
      ],
      "source": [
        "import matplotlib.pyplot as plt\n",
        "data.boxplot(column='PRICE')\n",
        "plt.show()"
      ]
    },
    {
      "cell_type": "markdown",
      "metadata": {
        "id": "fM8ffUvmACvg"
      },
      "source": [
        "**Preprocessing**"
      ]
    },
    {
      "cell_type": "markdown",
      "metadata": {
        "id": "wQzqUA-XE2MM"
      },
      "source": [
        "**OUTLIERS**"
      ]
    },
    {
      "cell_type": "code",
      "execution_count": null,
      "metadata": {
        "colab": {
          "base_uri": "https://localhost:8080/",
          "height": 89
        },
        "id": "G-pHD120FxDm",
        "outputId": "83ed1a56-cc88-4c46-8027-b303075a43b3"
      },
      "outputs": [
        {
          "output_type": "execute_result",
          "data": {
            "text/plain": [
              "Empty DataFrame\n",
              "Columns: [WOD, N-OS, OP, USD/DZD, GPR, PRICE]\n",
              "Index: []"
            ],
            "text/html": [
              "\n",
              "  <div id=\"df-fa9520e9-4727-46b4-8f70-7c496dad0d76\" class=\"colab-df-container\">\n",
              "    <div>\n",
              "<style scoped>\n",
              "    .dataframe tbody tr th:only-of-type {\n",
              "        vertical-align: middle;\n",
              "    }\n",
              "\n",
              "    .dataframe tbody tr th {\n",
              "        vertical-align: top;\n",
              "    }\n",
              "\n",
              "    .dataframe thead th {\n",
              "        text-align: right;\n",
              "    }\n",
              "</style>\n",
              "<table border=\"1\" class=\"dataframe\">\n",
              "  <thead>\n",
              "    <tr style=\"text-align: right;\">\n",
              "      <th></th>\n",
              "      <th>WOD</th>\n",
              "      <th>N-OS</th>\n",
              "      <th>OP</th>\n",
              "      <th>USD/DZD</th>\n",
              "      <th>GPR</th>\n",
              "      <th>PRICE</th>\n",
              "    </tr>\n",
              "    <tr>\n",
              "      <th>MONTH</th>\n",
              "      <th></th>\n",
              "      <th></th>\n",
              "      <th></th>\n",
              "      <th></th>\n",
              "      <th></th>\n",
              "      <th></th>\n",
              "    </tr>\n",
              "  </thead>\n",
              "  <tbody>\n",
              "  </tbody>\n",
              "</table>\n",
              "</div>\n",
              "    <div class=\"colab-df-buttons\">\n",
              "\n",
              "  <div class=\"colab-df-container\">\n",
              "    <button class=\"colab-df-convert\" onclick=\"convertToInteractive('df-fa9520e9-4727-46b4-8f70-7c496dad0d76')\"\n",
              "            title=\"Convert this dataframe to an interactive table.\"\n",
              "            style=\"display:none;\">\n",
              "\n",
              "  <svg xmlns=\"http://www.w3.org/2000/svg\" height=\"24px\" viewBox=\"0 -960 960 960\">\n",
              "    <path d=\"M120-120v-720h720v720H120Zm60-500h600v-160H180v160Zm220 220h160v-160H400v160Zm0 220h160v-160H400v160ZM180-400h160v-160H180v160Zm440 0h160v-160H620v160ZM180-180h160v-160H180v160Zm440 0h160v-160H620v160Z\"/>\n",
              "  </svg>\n",
              "    </button>\n",
              "\n",
              "  <style>\n",
              "    .colab-df-container {\n",
              "      display:flex;\n",
              "      gap: 12px;\n",
              "    }\n",
              "\n",
              "    .colab-df-convert {\n",
              "      background-color: #E8F0FE;\n",
              "      border: none;\n",
              "      border-radius: 50%;\n",
              "      cursor: pointer;\n",
              "      display: none;\n",
              "      fill: #1967D2;\n",
              "      height: 32px;\n",
              "      padding: 0 0 0 0;\n",
              "      width: 32px;\n",
              "    }\n",
              "\n",
              "    .colab-df-convert:hover {\n",
              "      background-color: #E2EBFA;\n",
              "      box-shadow: 0px 1px 2px rgba(60, 64, 67, 0.3), 0px 1px 3px 1px rgba(60, 64, 67, 0.15);\n",
              "      fill: #174EA6;\n",
              "    }\n",
              "\n",
              "    .colab-df-buttons div {\n",
              "      margin-bottom: 4px;\n",
              "    }\n",
              "\n",
              "    [theme=dark] .colab-df-convert {\n",
              "      background-color: #3B4455;\n",
              "      fill: #D2E3FC;\n",
              "    }\n",
              "\n",
              "    [theme=dark] .colab-df-convert:hover {\n",
              "      background-color: #434B5C;\n",
              "      box-shadow: 0px 1px 3px 1px rgba(0, 0, 0, 0.15);\n",
              "      filter: drop-shadow(0px 1px 2px rgba(0, 0, 0, 0.3));\n",
              "      fill: #FFFFFF;\n",
              "    }\n",
              "  </style>\n",
              "\n",
              "    <script>\n",
              "      const buttonEl =\n",
              "        document.querySelector('#df-fa9520e9-4727-46b4-8f70-7c496dad0d76 button.colab-df-convert');\n",
              "      buttonEl.style.display =\n",
              "        google.colab.kernel.accessAllowed ? 'block' : 'none';\n",
              "\n",
              "      async function convertToInteractive(key) {\n",
              "        const element = document.querySelector('#df-fa9520e9-4727-46b4-8f70-7c496dad0d76');\n",
              "        const dataTable =\n",
              "          await google.colab.kernel.invokeFunction('convertToInteractive',\n",
              "                                                    [key], {});\n",
              "        if (!dataTable) return;\n",
              "\n",
              "        const docLinkHtml = 'Like what you see? Visit the ' +\n",
              "          '<a target=\"_blank\" href=https://colab.research.google.com/notebooks/data_table.ipynb>data table notebook</a>'\n",
              "          + ' to learn more about interactive tables.';\n",
              "        element.innerHTML = '';\n",
              "        dataTable['output_type'] = 'display_data';\n",
              "        await google.colab.output.renderOutput(dataTable, element);\n",
              "        const docLink = document.createElement('div');\n",
              "        docLink.innerHTML = docLinkHtml;\n",
              "        element.appendChild(docLink);\n",
              "      }\n",
              "    </script>\n",
              "  </div>\n",
              "\n",
              "\n",
              "  <div id=\"id_868a15e7-bac3-4690-bd72-13e7d7d21183\">\n",
              "    <style>\n",
              "      .colab-df-generate {\n",
              "        background-color: #E8F0FE;\n",
              "        border: none;\n",
              "        border-radius: 50%;\n",
              "        cursor: pointer;\n",
              "        display: none;\n",
              "        fill: #1967D2;\n",
              "        height: 32px;\n",
              "        padding: 0 0 0 0;\n",
              "        width: 32px;\n",
              "      }\n",
              "\n",
              "      .colab-df-generate:hover {\n",
              "        background-color: #E2EBFA;\n",
              "        box-shadow: 0px 1px 2px rgba(60, 64, 67, 0.3), 0px 1px 3px 1px rgba(60, 64, 67, 0.15);\n",
              "        fill: #174EA6;\n",
              "      }\n",
              "\n",
              "      [theme=dark] .colab-df-generate {\n",
              "        background-color: #3B4455;\n",
              "        fill: #D2E3FC;\n",
              "      }\n",
              "\n",
              "      [theme=dark] .colab-df-generate:hover {\n",
              "        background-color: #434B5C;\n",
              "        box-shadow: 0px 1px 3px 1px rgba(0, 0, 0, 0.15);\n",
              "        filter: drop-shadow(0px 1px 2px rgba(0, 0, 0, 0.3));\n",
              "        fill: #FFFFFF;\n",
              "      }\n",
              "    </style>\n",
              "    <button class=\"colab-df-generate\" onclick=\"generateWithVariable('outliers')\"\n",
              "            title=\"Generate code using this dataframe.\"\n",
              "            style=\"display:none;\">\n",
              "\n",
              "  <svg xmlns=\"http://www.w3.org/2000/svg\" height=\"24px\"viewBox=\"0 0 24 24\"\n",
              "       width=\"24px\">\n",
              "    <path d=\"M7,19H8.4L18.45,9,17,7.55,7,17.6ZM5,21V16.75L18.45,3.32a2,2,0,0,1,2.83,0l1.4,1.43a1.91,1.91,0,0,1,.58,1.4,1.91,1.91,0,0,1-.58,1.4L9.25,21ZM18.45,9,17,7.55Zm-12,3A5.31,5.31,0,0,0,4.9,8.1,5.31,5.31,0,0,0,1,6.5,5.31,5.31,0,0,0,4.9,4.9,5.31,5.31,0,0,0,6.5,1,5.31,5.31,0,0,0,8.1,4.9,5.31,5.31,0,0,0,12,6.5,5.46,5.46,0,0,0,6.5,12Z\"/>\n",
              "  </svg>\n",
              "    </button>\n",
              "    <script>\n",
              "      (() => {\n",
              "      const buttonEl =\n",
              "        document.querySelector('#id_868a15e7-bac3-4690-bd72-13e7d7d21183 button.colab-df-generate');\n",
              "      buttonEl.style.display =\n",
              "        google.colab.kernel.accessAllowed ? 'block' : 'none';\n",
              "\n",
              "      buttonEl.onclick = () => {\n",
              "        google.colab.notebook.generateWithVariable('outliers');\n",
              "      }\n",
              "      })();\n",
              "    </script>\n",
              "  </div>\n",
              "\n",
              "    </div>\n",
              "  </div>\n"
            ],
            "application/vnd.google.colaboratory.intrinsic+json": {
              "type": "dataframe",
              "variable_name": "outliers",
              "summary": "{\n  \"name\": \"outliers\",\n  \"rows\": 0,\n  \"fields\": [\n    {\n      \"column\": \"MONTH\",\n      \"properties\": {\n        \"dtype\": \"date\",\n        \"min\": \"NaT\",\n        \"max\": \"NaT\",\n        \"num_unique_values\": 0,\n        \"samples\": [],\n        \"semantic_type\": \"\",\n        \"description\": \"\"\n      }\n    },\n    {\n      \"column\": \"WOD\",\n      \"properties\": {\n        \"dtype\": \"number\",\n        \"std\": null,\n        \"min\": null,\n        \"max\": null,\n        \"num_unique_values\": 0,\n        \"samples\": [],\n        \"semantic_type\": \"\",\n        \"description\": \"\"\n      }\n    },\n    {\n      \"column\": \"N-OS\",\n      \"properties\": {\n        \"dtype\": \"number\",\n        \"std\": null,\n        \"min\": null,\n        \"max\": null,\n        \"num_unique_values\": 0,\n        \"samples\": [],\n        \"semantic_type\": \"\",\n        \"description\": \"\"\n      }\n    },\n    {\n      \"column\": \"OP\",\n      \"properties\": {\n        \"dtype\": \"number\",\n        \"std\": null,\n        \"min\": null,\n        \"max\": null,\n        \"num_unique_values\": 0,\n        \"samples\": [],\n        \"semantic_type\": \"\",\n        \"description\": \"\"\n      }\n    },\n    {\n      \"column\": \"USD/DZD\",\n      \"properties\": {\n        \"dtype\": \"number\",\n        \"std\": null,\n        \"min\": null,\n        \"max\": null,\n        \"num_unique_values\": 0,\n        \"samples\": [],\n        \"semantic_type\": \"\",\n        \"description\": \"\"\n      }\n    },\n    {\n      \"column\": \"GPR\",\n      \"properties\": {\n        \"dtype\": \"number\",\n        \"std\": null,\n        \"min\": null,\n        \"max\": null,\n        \"num_unique_values\": 0,\n        \"samples\": [],\n        \"semantic_type\": \"\",\n        \"description\": \"\"\n      }\n    },\n    {\n      \"column\": \"PRICE\",\n      \"properties\": {\n        \"dtype\": \"number\",\n        \"std\": null,\n        \"min\": null,\n        \"max\": null,\n        \"num_unique_values\": 0,\n        \"samples\": [],\n        \"semantic_type\": \"\",\n        \"description\": \"\"\n      }\n    }\n  ]\n}"
            }
          },
          "metadata": {},
          "execution_count": 102
        }
      ],
      "source": [
        "Q1 = data['PRICE'].quantile(0.25)\n",
        "Q3 = data['PRICE'].quantile(0.75)\n",
        "IQR = Q3 - Q1\n",
        "lower_bound = Q1 - 1.5 * IQR\n",
        "upper_bound = Q3 + 1.5 * IQR\n",
        "outliers = data[(data['PRICE'] < lower_bound) | (data['PRICE'] > upper_bound)]\n",
        "outliers"
      ]
    },
    {
      "cell_type": "code",
      "execution_count": null,
      "metadata": {
        "colab": {
          "base_uri": "https://localhost:8080/"
        },
        "id": "dCck1F2UE5Of",
        "outputId": "fab2ae66-a534-4882-fd07-de9e20eb7800"
      },
      "outputs": [
        {
          "output_type": "stream",
          "name": "stdout",
          "text": [
            "Empty DataFrame\n",
            "Columns: [WOD, N-OS, OP, USD/DZD, GPR, PRICE]\n",
            "Index: []\n"
          ]
        }
      ],
      "source": [
        "# Calculate the Z-score for each data point\n",
        "z_scores = np.abs((data['PRICE'] - data['PRICE'].mean()) / data['PRICE'].std())\n",
        "\n",
        "# Identify outliers with Z-scores greater than 3 or less than -3\n",
        "outliers = data[np.logical_or(z_scores > 3, z_scores < -3)]\n",
        "print(outliers)"
      ]
    },
    {
      "cell_type": "markdown",
      "metadata": {
        "id": "zsjZ8wKrE6D0"
      },
      "source": [
        "CORRELATION"
      ]
    },
    {
      "cell_type": "code",
      "execution_count": null,
      "metadata": {
        "colab": {
          "base_uri": "https://localhost:8080/",
          "height": 238
        },
        "id": "SZAmoRzrY18q",
        "outputId": "cf3758a3-bd38-4015-f8d2-e32c2f23a53b"
      },
      "outputs": [
        {
          "output_type": "execute_result",
          "data": {
            "text/plain": [
              "              WOD      N-OS        OP   USD/DZD       GPR     PRICE\n",
              "WOD      1.000000  0.952093  0.422263  0.755920 -0.165567  0.462554\n",
              "N-OS     0.952093  1.000000  0.329375  0.766117 -0.097864  0.367077\n",
              "OP       0.422263  0.329375  1.000000 -0.102072 -0.204936  0.420816\n",
              "USD/DZD  0.755920  0.766117 -0.102072  1.000000  0.018238 -0.003532\n",
              "GPR     -0.165567 -0.097864 -0.204936  0.018238  1.000000 -0.201177\n",
              "PRICE    0.462554  0.367077  0.420816 -0.003532 -0.201177  1.000000"
            ],
            "text/html": [
              "\n",
              "  <div id=\"df-dc33c1d8-f14f-4d58-a70c-2caec2eb587c\" class=\"colab-df-container\">\n",
              "    <div>\n",
              "<style scoped>\n",
              "    .dataframe tbody tr th:only-of-type {\n",
              "        vertical-align: middle;\n",
              "    }\n",
              "\n",
              "    .dataframe tbody tr th {\n",
              "        vertical-align: top;\n",
              "    }\n",
              "\n",
              "    .dataframe thead th {\n",
              "        text-align: right;\n",
              "    }\n",
              "</style>\n",
              "<table border=\"1\" class=\"dataframe\">\n",
              "  <thead>\n",
              "    <tr style=\"text-align: right;\">\n",
              "      <th></th>\n",
              "      <th>WOD</th>\n",
              "      <th>N-OS</th>\n",
              "      <th>OP</th>\n",
              "      <th>USD/DZD</th>\n",
              "      <th>GPR</th>\n",
              "      <th>PRICE</th>\n",
              "    </tr>\n",
              "  </thead>\n",
              "  <tbody>\n",
              "    <tr>\n",
              "      <th>WOD</th>\n",
              "      <td>1.000000</td>\n",
              "      <td>0.952093</td>\n",
              "      <td>0.422263</td>\n",
              "      <td>0.755920</td>\n",
              "      <td>-0.165567</td>\n",
              "      <td>0.462554</td>\n",
              "    </tr>\n",
              "    <tr>\n",
              "      <th>N-OS</th>\n",
              "      <td>0.952093</td>\n",
              "      <td>1.000000</td>\n",
              "      <td>0.329375</td>\n",
              "      <td>0.766117</td>\n",
              "      <td>-0.097864</td>\n",
              "      <td>0.367077</td>\n",
              "    </tr>\n",
              "    <tr>\n",
              "      <th>OP</th>\n",
              "      <td>0.422263</td>\n",
              "      <td>0.329375</td>\n",
              "      <td>1.000000</td>\n",
              "      <td>-0.102072</td>\n",
              "      <td>-0.204936</td>\n",
              "      <td>0.420816</td>\n",
              "    </tr>\n",
              "    <tr>\n",
              "      <th>USD/DZD</th>\n",
              "      <td>0.755920</td>\n",
              "      <td>0.766117</td>\n",
              "      <td>-0.102072</td>\n",
              "      <td>1.000000</td>\n",
              "      <td>0.018238</td>\n",
              "      <td>-0.003532</td>\n",
              "    </tr>\n",
              "    <tr>\n",
              "      <th>GPR</th>\n",
              "      <td>-0.165567</td>\n",
              "      <td>-0.097864</td>\n",
              "      <td>-0.204936</td>\n",
              "      <td>0.018238</td>\n",
              "      <td>1.000000</td>\n",
              "      <td>-0.201177</td>\n",
              "    </tr>\n",
              "    <tr>\n",
              "      <th>PRICE</th>\n",
              "      <td>0.462554</td>\n",
              "      <td>0.367077</td>\n",
              "      <td>0.420816</td>\n",
              "      <td>-0.003532</td>\n",
              "      <td>-0.201177</td>\n",
              "      <td>1.000000</td>\n",
              "    </tr>\n",
              "  </tbody>\n",
              "</table>\n",
              "</div>\n",
              "    <div class=\"colab-df-buttons\">\n",
              "\n",
              "  <div class=\"colab-df-container\">\n",
              "    <button class=\"colab-df-convert\" onclick=\"convertToInteractive('df-dc33c1d8-f14f-4d58-a70c-2caec2eb587c')\"\n",
              "            title=\"Convert this dataframe to an interactive table.\"\n",
              "            style=\"display:none;\">\n",
              "\n",
              "  <svg xmlns=\"http://www.w3.org/2000/svg\" height=\"24px\" viewBox=\"0 -960 960 960\">\n",
              "    <path d=\"M120-120v-720h720v720H120Zm60-500h600v-160H180v160Zm220 220h160v-160H400v160Zm0 220h160v-160H400v160ZM180-400h160v-160H180v160Zm440 0h160v-160H620v160ZM180-180h160v-160H180v160Zm440 0h160v-160H620v160Z\"/>\n",
              "  </svg>\n",
              "    </button>\n",
              "\n",
              "  <style>\n",
              "    .colab-df-container {\n",
              "      display:flex;\n",
              "      gap: 12px;\n",
              "    }\n",
              "\n",
              "    .colab-df-convert {\n",
              "      background-color: #E8F0FE;\n",
              "      border: none;\n",
              "      border-radius: 50%;\n",
              "      cursor: pointer;\n",
              "      display: none;\n",
              "      fill: #1967D2;\n",
              "      height: 32px;\n",
              "      padding: 0 0 0 0;\n",
              "      width: 32px;\n",
              "    }\n",
              "\n",
              "    .colab-df-convert:hover {\n",
              "      background-color: #E2EBFA;\n",
              "      box-shadow: 0px 1px 2px rgba(60, 64, 67, 0.3), 0px 1px 3px 1px rgba(60, 64, 67, 0.15);\n",
              "      fill: #174EA6;\n",
              "    }\n",
              "\n",
              "    .colab-df-buttons div {\n",
              "      margin-bottom: 4px;\n",
              "    }\n",
              "\n",
              "    [theme=dark] .colab-df-convert {\n",
              "      background-color: #3B4455;\n",
              "      fill: #D2E3FC;\n",
              "    }\n",
              "\n",
              "    [theme=dark] .colab-df-convert:hover {\n",
              "      background-color: #434B5C;\n",
              "      box-shadow: 0px 1px 3px 1px rgba(0, 0, 0, 0.15);\n",
              "      filter: drop-shadow(0px 1px 2px rgba(0, 0, 0, 0.3));\n",
              "      fill: #FFFFFF;\n",
              "    }\n",
              "  </style>\n",
              "\n",
              "    <script>\n",
              "      const buttonEl =\n",
              "        document.querySelector('#df-dc33c1d8-f14f-4d58-a70c-2caec2eb587c button.colab-df-convert');\n",
              "      buttonEl.style.display =\n",
              "        google.colab.kernel.accessAllowed ? 'block' : 'none';\n",
              "\n",
              "      async function convertToInteractive(key) {\n",
              "        const element = document.querySelector('#df-dc33c1d8-f14f-4d58-a70c-2caec2eb587c');\n",
              "        const dataTable =\n",
              "          await google.colab.kernel.invokeFunction('convertToInteractive',\n",
              "                                                    [key], {});\n",
              "        if (!dataTable) return;\n",
              "\n",
              "        const docLinkHtml = 'Like what you see? Visit the ' +\n",
              "          '<a target=\"_blank\" href=https://colab.research.google.com/notebooks/data_table.ipynb>data table notebook</a>'\n",
              "          + ' to learn more about interactive tables.';\n",
              "        element.innerHTML = '';\n",
              "        dataTable['output_type'] = 'display_data';\n",
              "        await google.colab.output.renderOutput(dataTable, element);\n",
              "        const docLink = document.createElement('div');\n",
              "        docLink.innerHTML = docLinkHtml;\n",
              "        element.appendChild(docLink);\n",
              "      }\n",
              "    </script>\n",
              "  </div>\n",
              "\n",
              "\n",
              "<div id=\"df-05355082-3d4e-45fd-93a5-054c16832794\">\n",
              "  <button class=\"colab-df-quickchart\" onclick=\"quickchart('df-05355082-3d4e-45fd-93a5-054c16832794')\"\n",
              "            title=\"Suggest charts\"\n",
              "            style=\"display:none;\">\n",
              "\n",
              "<svg xmlns=\"http://www.w3.org/2000/svg\" height=\"24px\"viewBox=\"0 0 24 24\"\n",
              "     width=\"24px\">\n",
              "    <g>\n",
              "        <path d=\"M19 3H5c-1.1 0-2 .9-2 2v14c0 1.1.9 2 2 2h14c1.1 0 2-.9 2-2V5c0-1.1-.9-2-2-2zM9 17H7v-7h2v7zm4 0h-2V7h2v10zm4 0h-2v-4h2v4z\"/>\n",
              "    </g>\n",
              "</svg>\n",
              "  </button>\n",
              "\n",
              "<style>\n",
              "  .colab-df-quickchart {\n",
              "      --bg-color: #E8F0FE;\n",
              "      --fill-color: #1967D2;\n",
              "      --hover-bg-color: #E2EBFA;\n",
              "      --hover-fill-color: #174EA6;\n",
              "      --disabled-fill-color: #AAA;\n",
              "      --disabled-bg-color: #DDD;\n",
              "  }\n",
              "\n",
              "  [theme=dark] .colab-df-quickchart {\n",
              "      --bg-color: #3B4455;\n",
              "      --fill-color: #D2E3FC;\n",
              "      --hover-bg-color: #434B5C;\n",
              "      --hover-fill-color: #FFFFFF;\n",
              "      --disabled-bg-color: #3B4455;\n",
              "      --disabled-fill-color: #666;\n",
              "  }\n",
              "\n",
              "  .colab-df-quickchart {\n",
              "    background-color: var(--bg-color);\n",
              "    border: none;\n",
              "    border-radius: 50%;\n",
              "    cursor: pointer;\n",
              "    display: none;\n",
              "    fill: var(--fill-color);\n",
              "    height: 32px;\n",
              "    padding: 0;\n",
              "    width: 32px;\n",
              "  }\n",
              "\n",
              "  .colab-df-quickchart:hover {\n",
              "    background-color: var(--hover-bg-color);\n",
              "    box-shadow: 0 1px 2px rgba(60, 64, 67, 0.3), 0 1px 3px 1px rgba(60, 64, 67, 0.15);\n",
              "    fill: var(--button-hover-fill-color);\n",
              "  }\n",
              "\n",
              "  .colab-df-quickchart-complete:disabled,\n",
              "  .colab-df-quickchart-complete:disabled:hover {\n",
              "    background-color: var(--disabled-bg-color);\n",
              "    fill: var(--disabled-fill-color);\n",
              "    box-shadow: none;\n",
              "  }\n",
              "\n",
              "  .colab-df-spinner {\n",
              "    border: 2px solid var(--fill-color);\n",
              "    border-color: transparent;\n",
              "    border-bottom-color: var(--fill-color);\n",
              "    animation:\n",
              "      spin 1s steps(1) infinite;\n",
              "  }\n",
              "\n",
              "  @keyframes spin {\n",
              "    0% {\n",
              "      border-color: transparent;\n",
              "      border-bottom-color: var(--fill-color);\n",
              "      border-left-color: var(--fill-color);\n",
              "    }\n",
              "    20% {\n",
              "      border-color: transparent;\n",
              "      border-left-color: var(--fill-color);\n",
              "      border-top-color: var(--fill-color);\n",
              "    }\n",
              "    30% {\n",
              "      border-color: transparent;\n",
              "      border-left-color: var(--fill-color);\n",
              "      border-top-color: var(--fill-color);\n",
              "      border-right-color: var(--fill-color);\n",
              "    }\n",
              "    40% {\n",
              "      border-color: transparent;\n",
              "      border-right-color: var(--fill-color);\n",
              "      border-top-color: var(--fill-color);\n",
              "    }\n",
              "    60% {\n",
              "      border-color: transparent;\n",
              "      border-right-color: var(--fill-color);\n",
              "    }\n",
              "    80% {\n",
              "      border-color: transparent;\n",
              "      border-right-color: var(--fill-color);\n",
              "      border-bottom-color: var(--fill-color);\n",
              "    }\n",
              "    90% {\n",
              "      border-color: transparent;\n",
              "      border-bottom-color: var(--fill-color);\n",
              "    }\n",
              "  }\n",
              "</style>\n",
              "\n",
              "  <script>\n",
              "    async function quickchart(key) {\n",
              "      const quickchartButtonEl =\n",
              "        document.querySelector('#' + key + ' button');\n",
              "      quickchartButtonEl.disabled = true;  // To prevent multiple clicks.\n",
              "      quickchartButtonEl.classList.add('colab-df-spinner');\n",
              "      try {\n",
              "        const charts = await google.colab.kernel.invokeFunction(\n",
              "            'suggestCharts', [key], {});\n",
              "      } catch (error) {\n",
              "        console.error('Error during call to suggestCharts:', error);\n",
              "      }\n",
              "      quickchartButtonEl.classList.remove('colab-df-spinner');\n",
              "      quickchartButtonEl.classList.add('colab-df-quickchart-complete');\n",
              "    }\n",
              "    (() => {\n",
              "      let quickchartButtonEl =\n",
              "        document.querySelector('#df-05355082-3d4e-45fd-93a5-054c16832794 button');\n",
              "      quickchartButtonEl.style.display =\n",
              "        google.colab.kernel.accessAllowed ? 'block' : 'none';\n",
              "    })();\n",
              "  </script>\n",
              "</div>\n",
              "\n",
              "  <div id=\"id_1f5ce90d-31be-49e9-9df5-52531101c1be\">\n",
              "    <style>\n",
              "      .colab-df-generate {\n",
              "        background-color: #E8F0FE;\n",
              "        border: none;\n",
              "        border-radius: 50%;\n",
              "        cursor: pointer;\n",
              "        display: none;\n",
              "        fill: #1967D2;\n",
              "        height: 32px;\n",
              "        padding: 0 0 0 0;\n",
              "        width: 32px;\n",
              "      }\n",
              "\n",
              "      .colab-df-generate:hover {\n",
              "        background-color: #E2EBFA;\n",
              "        box-shadow: 0px 1px 2px rgba(60, 64, 67, 0.3), 0px 1px 3px 1px rgba(60, 64, 67, 0.15);\n",
              "        fill: #174EA6;\n",
              "      }\n",
              "\n",
              "      [theme=dark] .colab-df-generate {\n",
              "        background-color: #3B4455;\n",
              "        fill: #D2E3FC;\n",
              "      }\n",
              "\n",
              "      [theme=dark] .colab-df-generate:hover {\n",
              "        background-color: #434B5C;\n",
              "        box-shadow: 0px 1px 3px 1px rgba(0, 0, 0, 0.15);\n",
              "        filter: drop-shadow(0px 1px 2px rgba(0, 0, 0, 0.3));\n",
              "        fill: #FFFFFF;\n",
              "      }\n",
              "    </style>\n",
              "    <button class=\"colab-df-generate\" onclick=\"generateWithVariable('corr_matrix')\"\n",
              "            title=\"Generate code using this dataframe.\"\n",
              "            style=\"display:none;\">\n",
              "\n",
              "  <svg xmlns=\"http://www.w3.org/2000/svg\" height=\"24px\"viewBox=\"0 0 24 24\"\n",
              "       width=\"24px\">\n",
              "    <path d=\"M7,19H8.4L18.45,9,17,7.55,7,17.6ZM5,21V16.75L18.45,3.32a2,2,0,0,1,2.83,0l1.4,1.43a1.91,1.91,0,0,1,.58,1.4,1.91,1.91,0,0,1-.58,1.4L9.25,21ZM18.45,9,17,7.55Zm-12,3A5.31,5.31,0,0,0,4.9,8.1,5.31,5.31,0,0,0,1,6.5,5.31,5.31,0,0,0,4.9,4.9,5.31,5.31,0,0,0,6.5,1,5.31,5.31,0,0,0,8.1,4.9,5.31,5.31,0,0,0,12,6.5,5.46,5.46,0,0,0,6.5,12Z\"/>\n",
              "  </svg>\n",
              "    </button>\n",
              "    <script>\n",
              "      (() => {\n",
              "      const buttonEl =\n",
              "        document.querySelector('#id_1f5ce90d-31be-49e9-9df5-52531101c1be button.colab-df-generate');\n",
              "      buttonEl.style.display =\n",
              "        google.colab.kernel.accessAllowed ? 'block' : 'none';\n",
              "\n",
              "      buttonEl.onclick = () => {\n",
              "        google.colab.notebook.generateWithVariable('corr_matrix');\n",
              "      }\n",
              "      })();\n",
              "    </script>\n",
              "  </div>\n",
              "\n",
              "    </div>\n",
              "  </div>\n"
            ],
            "application/vnd.google.colaboratory.intrinsic+json": {
              "type": "dataframe",
              "variable_name": "corr_matrix",
              "summary": "{\n  \"name\": \"corr_matrix\",\n  \"rows\": 6,\n  \"fields\": [\n    {\n      \"column\": \"WOD\",\n      \"properties\": {\n        \"dtype\": \"number\",\n        \"std\": 0.43356267543688226,\n        \"min\": -0.1655674728635905,\n        \"max\": 1.0,\n        \"num_unique_values\": 6,\n        \"samples\": [\n          1.0,\n          0.9520930973373128,\n          0.46255421156455867\n        ],\n        \"semantic_type\": \"\",\n        \"description\": \"\"\n      }\n    },\n    {\n      \"column\": \"N-OS\",\n      \"properties\": {\n        \"dtype\": \"number\",\n        \"std\": 0.42724765713303775,\n        \"min\": -0.0978642904720912,\n        \"max\": 1.0,\n        \"num_unique_values\": 6,\n        \"samples\": [\n          0.9520930973373128,\n          1.0,\n          0.36707672089782717\n        ],\n        \"semantic_type\": \"\",\n        \"description\": \"\"\n      }\n    },\n    {\n      \"column\": \"OP\",\n      \"properties\": {\n        \"dtype\": \"number\",\n        \"std\": 0.43273930651234016,\n        \"min\": -0.20493639367724295,\n        \"max\": 1.0,\n        \"num_unique_values\": 6,\n        \"samples\": [\n          0.42226316007986975,\n          0.3293750305606745,\n          0.4208155292578786\n        ],\n        \"semantic_type\": \"\",\n        \"description\": \"\"\n      }\n    },\n    {\n      \"column\": \"USD/DZD\",\n      \"properties\": {\n        \"dtype\": \"number\",\n        \"std\": 0.486040602410482,\n        \"min\": -0.10207220070134902,\n        \"max\": 1.0,\n        \"num_unique_values\": 6,\n        \"samples\": [\n          0.7559202696724521,\n          0.7661169303716848,\n          -0.003532312910190167\n        ],\n        \"semantic_type\": \"\",\n        \"description\": \"\"\n      }\n    },\n    {\n      \"column\": \"GPR\",\n      \"properties\": {\n        \"dtype\": \"number\",\n        \"std\": 0.4689411854337736,\n        \"min\": -0.20493639367724295,\n        \"max\": 1.0,\n        \"num_unique_values\": 6,\n        \"samples\": [\n          -0.1655674728635905,\n          -0.0978642904720912,\n          -0.2011768184909356\n        ],\n        \"semantic_type\": \"\",\n        \"description\": \"\"\n      }\n    },\n    {\n      \"column\": \"PRICE\",\n      \"properties\": {\n        \"dtype\": \"number\",\n        \"std\": 0.4168369336039097,\n        \"min\": -0.2011768184909356,\n        \"max\": 1.0,\n        \"num_unique_values\": 6,\n        \"samples\": [\n          0.46255421156455867,\n          0.36707672089782717,\n          1.0\n        ],\n        \"semantic_type\": \"\",\n        \"description\": \"\"\n      }\n    }\n  ]\n}"
            }
          },
          "metadata": {},
          "execution_count": 104
        }
      ],
      "source": [
        "# Calculer la matrice de corrélation\n",
        "corr_matrix = data.corr()\n",
        "corr_matrix"
      ]
    },
    {
      "cell_type": "markdown",
      "metadata": {
        "id": "CxhcAm_5rDIg"
      },
      "source": [
        "."
      ]
    },
    {
      "cell_type": "code",
      "execution_count": null,
      "metadata": {
        "colab": {
          "base_uri": "https://localhost:8080/",
          "height": 564
        },
        "id": "Oq3yZAxGKtbo",
        "outputId": "6222cef3-21d3-413b-ed1e-7fdd4175fb3c"
      },
      "outputs": [
        {
          "output_type": "display_data",
          "data": {
            "text/plain": [
              "<Figure size 1000x600 with 1 Axes>"
            ],
            "image/png": "[encoded data removed]"
          },
          "metadata": {}
        }
      ],
      "source": [
        "#plotting WOD over time-frame\n",
        "data['WOD'].plot(kind='line', figsize=(10, 6))\n",
        "plt.xlabel('Time')\n",
        "plt.ylabel('WOD')\n",
        "plt.title('World oil demand Over Time')\n",
        "plt.show()"
      ]
    },
    {
      "cell_type": "code",
      "execution_count": null,
      "metadata": {
        "colab": {
          "base_uri": "https://localhost:8080/",
          "height": 564
        },
        "id": "T1VH9_fbK2S6",
        "outputId": "3deb175a-f2af-4402-8bee-db58469c655e"
      },
      "outputs": [
        {
          "output_type": "display_data",
          "data": {
            "text/plain": [
              "<Figure size 1000x600 with 1 Axes>"
            ],
            "image/png": "[encoded data removed]"
          },
          "metadata": {}
        }
      ],
      "source": [
        "#plotting N-OS over time-frame\n",
        "data['N-OS'].plot(kind='line', figsize=(10, 6))\n",
        "plt.xlabel('Time')\n",
        "plt.ylabel('N-OS')\n",
        "plt.title('Non-OPEC countries supply Over Time')\n",
        "plt.show()"
      ]
    },
    {
      "cell_type": "code",
      "execution_count": null,
      "metadata": {
        "colab": {
          "base_uri": "https://localhost:8080/",
          "height": 564
        },
        "id": "WzhVBvToLAWx",
        "outputId": "7978d56d-f34c-4537-90d6-0efe4d654bc8"
      },
      "outputs": [
        {
          "output_type": "display_data",
          "data": {
            "text/plain": [
              "<Figure size 1000x600 with 1 Axes>"
            ],
            "image/png": "[encoded data removed]"
          },
          "metadata": {}
        }
      ],
      "source": [
        "#plotting OP over time-frame\n",
        "data['OP'].plot(kind='line', figsize=(10, 6))\n",
        "plt.xlabel('Time')\n",
        "plt.ylabel('OP')\n",
        "plt.title('The OPEC countries production Over Time')\n",
        "plt.show()"
      ]
    },
    {
      "cell_type": "code",
      "execution_count": null,
      "metadata": {
        "id": "vl9_uLDcrE_c"
      },
      "outputs": [],
      "source": [
        "import pandas as pd\n",
        "from sklearn.preprocessing import StandardScaler\n",
        "from sklearn.svm import SVR\n",
        "from sklearn.ensemble import RandomForestRegressor\n",
        "from xgboost import XGBRegressor\n",
        "from keras.models import Sequential\n",
        "from keras.layers import LSTM, Dense"
      ]
    },
    {
      "cell_type": "code",
      "execution_count": null,
      "metadata": {
        "id": "zgFo5t6trH9j"
      },
      "outputs": [],
      "source": []
    },
    {
      "cell_type": "markdown",
      "metadata": {
        "id": "ClSHLPSpgU1S"
      },
      "source": [
        "# **Split data**"
      ]
    },
    {
      "cell_type": "code",
      "execution_count": null,
      "metadata": {
        "id": "5l3zJ4cBrN17"
      },
      "outputs": [],
      "source": [
        "# Split data into training and testing sets\n",
        "X = data[['WOD', 'N-OS', 'OP', 'GPR', 'USD/DZD']]\n",
        "y = data['PRICE']\n",
        "X_train, X_test, y_train, y_test = train_test_split(X, y, test_size=0.2, random_state=42)"
      ]
    },
    {
      "cell_type": "code",
      "execution_count": null,
      "metadata": {
        "id": "gigrD22Lsryh"
      },
      "outputs": [],
      "source": [
        "X_train = X_train.astype('float32')\n",
        "X_test = X_test.astype('float32')\n",
        "y_train = y_train.astype('float32')\n",
        "y_test = y_test.astype('float32')"
      ]
    },
    {
      "cell_type": "code",
      "execution_count": null,
      "metadata": {
        "id": "NmXJ6TjhD5Qi"
      },
      "outputs": [],
      "source": [
        "from sklearn.metrics import mean_squared_error"
      ]
    },
    {
      "cell_type": "markdown",
      "metadata": {
        "id": "NWOxyy8aDLtr"
      },
      "source": [
        "# **SVR**"
      ]
    },
    {
      "cell_type": "code",
      "execution_count": null,
      "metadata": {
        "id": "oCBwfUNWJZ1S"
      },
      "outputs": [],
      "source": [
        "from sklearn.svm import SVR\n",
        "from sklearn.model_selection import GridSearchCV\n",
        "from sklearn.metrics import mean_squared_error, r2_score\n",
        "import numpy as np"
      ]
    },
    {
      "cell_type": "code",
      "execution_count": null,
      "metadata": {
        "id": "cZVgatjRJc-h"
      },
      "outputs": [],
      "source": [
        "# Define the parameter grid\n",
        "param_grid = {\n",
        "    'C': [1, 10, 100, 1000],\n",
        "    'gamma': [0.1, 0.01, 0.001, 0.0001],\n",
        "    'kernel': ['rbf']\n",
        "}"
      ]
    },
    {
      "cell_type": "code",
      "execution_count": null,
      "metadata": {
        "id": "zWHTexoxJmt7"
      },
      "outputs": [],
      "source": [
        "svr=SVR()"
      ]
    },
    {
      "cell_type": "code",
      "execution_count": null,
      "metadata": {
        "colab": {
          "base_uri": "https://localhost:8080/",
          "height": 118
        },
        "id": "hSmgQ513JhQ0",
        "outputId": "2b6143c1-92b6-4fbf-a1f3-889026593e06"
      },
      "outputs": [
        {
          "output_type": "execute_result",
          "data": {
            "text/plain": [
              "GridSearchCV(cv=5, estimator=SVR(),\n",
              "             param_grid={'C': [1, 10, 100, 1000],\n",
              "                         'gamma': [0.1, 0.01, 0.001, 0.0001],\n",
              "                         'kernel': ['rbf']},\n",
              "             scoring='neg_mean_squared_error')"
            ],
            "text/html": [
              "<style>#sk-container-id-2 {color: black;background-color: white;}#sk-container-id-2 pre{padding: 0;}#sk-container-id-2 div.sk-toggleable {background-color: white;}#sk-container-id-2 label.sk-toggleable__label {cursor: pointer;display: block;width: 100%;margin-bottom: 0;padding: 0.3em;box-sizing: border-box;text-align: center;}#sk-container-id-2 label.sk-toggleable__label-arrow:before {content: \"▸\";float: left;margin-right: 0.25em;color: #696969;}#sk-container-id-2 label.sk-toggleable__label-arrow:hover:before {color: black;}#sk-container-id-2 div.sk-estimator:hover label.sk-toggleable__label-arrow:before {color: black;}#sk-container-id-2 div.sk-toggleable__content {max-height: 0;max-width: 0;overflow: hidden;text-align: left;background-color: #f0f8ff;}#sk-container-id-2 div.sk-toggleable__content pre {margin: 0.2em;color: black;border-radius: 0.25em;background-color: #f0f8ff;}#sk-container-id-2 input.sk-toggleable__control:checked~div.sk-toggleable__content {max-height: 200px;max-width: 100%;overflow: auto;}#sk-container-id-2 input.sk-toggleable__control:checked~label.sk-toggleable__label-arrow:before {content: \"▾\";}#sk-container-id-2 div.sk-estimator input.sk-toggleable__control:checked~label.sk-toggleable__label {background-color: #d4ebff;}#sk-container-id-2 div.sk-label input.sk-toggleable__control:checked~label.sk-toggleable__label {background-color: #d4ebff;}#sk-container-id-2 input.sk-hidden--visually {border: 0;clip: rect(1px 1px 1px 1px);clip: rect(1px, 1px, 1px, 1px);height: 1px;margin: -1px;overflow: hidden;padding: 0;position: absolute;width: 1px;}#sk-container-id-2 div.sk-estimator {font-family: monospace;background-color: #f0f8ff;border: 1px dotted black;border-radius: 0.25em;box-sizing: border-box;margin-bottom: 0.5em;}#sk-container-id-2 div.sk-estimator:hover {background-color: #d4ebff;}#sk-container-id-2 div.sk-parallel-item::after {content: \"\";width: 100%;border-bottom: 1px solid gray;flex-grow: 1;}#sk-container-id-2 div.sk-label:hover label.sk-toggleable__label {background-color: #d4ebff;}#sk-container-id-2 div.sk-serial::before {content: \"\";position: absolute;border-left: 1px solid gray;box-sizing: border-box;top: 0;bottom: 0;left: 50%;z-index: 0;}#sk-container-id-2 div.sk-serial {display: flex;flex-direction: column;align-items: center;background-color: white;padding-right: 0.2em;padding-left: 0.2em;position: relative;}#sk-container-id-2 div.sk-item {position: relative;z-index: 1;}#sk-container-id-2 div.sk-parallel {display: flex;align-items: stretch;justify-content: center;background-color: white;position: relative;}#sk-container-id-2 div.sk-item::before, #sk-container-id-2 div.sk-parallel-item::before {content: \"\";position: absolute;border-left: 1px solid gray;box-sizing: border-box;top: 0;bottom: 0;left: 50%;z-index: -1;}#sk-container-id-2 div.sk-parallel-item {display: flex;flex-direction: column;z-index: 1;position: relative;background-color: white;}#sk-container-id-2 div.sk-parallel-item:first-child::after {align-self: flex-end;width: 50%;}#sk-container-id-2 div.sk-parallel-item:last-child::after {align-self: flex-start;width: 50%;}#sk-container-id-2 div.sk-parallel-item:only-child::after {width: 0;}#sk-container-id-2 div.sk-dashed-wrapped {border: 1px dashed gray;margin: 0 0.4em 0.5em 0.4em;box-sizing: border-box;padding-bottom: 0.4em;background-color: white;}#sk-container-id-2 div.sk-label label {font-family: monospace;font-weight: bold;display: inline-block;line-height: 1.2em;}#sk-container-id-2 div.sk-label-container {text-align: center;}#sk-container-id-2 div.sk-container {/* jupyter's `normalize.less` sets `[hidden] { display: none; }` but bootstrap.min.css set `[hidden] { display: none !important; }` so we also need the `!important` here to be able to override the default hidden behavior on the sphinx rendered scikit-learn.org. See: https://github.com/scikit-learn/scikit-learn/issues/21755 */display: inline-block !important;position: relative;}#sk-container-id-2 div.sk-text-repr-fallback {display: none;}</style><div id=\"sk-container-id-2\" class=\"sk-top-container\"><div class=\"sk-text-repr-fallback\"><pre>GridSearchCV(cv=5, estimator=SVR(),\n",
              "             param_grid={&#x27;C&#x27;: [1, 10, 100, 1000],\n",
              "                         &#x27;gamma&#x27;: [0.1, 0.01, 0.001, 0.0001],\n",
              "                         &#x27;kernel&#x27;: [&#x27;rbf&#x27;]},\n",
              "             scoring=&#x27;neg_mean_squared_error&#x27;)</pre><b>In a Jupyter environment, please rerun this cell to show the HTML representation or trust the notebook. <br />On GitHub, the HTML representation is unable to render, please try loading this page with nbviewer.org.</b></div><div class=\"sk-container\" hidden><div class=\"sk-item sk-dashed-wrapped\"><div class=\"sk-label-container\"><div class=\"sk-label sk-toggleable\"><input class=\"sk-toggleable__control sk-hidden--visually\" id=\"sk-estimator-id-2\" type=\"checkbox\" ><label for=\"sk-estimator-id-2\" class=\"sk-toggleable__label sk-toggleable__label-arrow\">GridSearchCV</label><div class=\"sk-toggleable__content\"><pre>GridSearchCV(cv=5, estimator=SVR(),\n",
              "             param_grid={&#x27;C&#x27;: [1, 10, 100, 1000],\n",
              "                         &#x27;gamma&#x27;: [0.1, 0.01, 0.001, 0.0001],\n",
              "                         &#x27;kernel&#x27;: [&#x27;rbf&#x27;]},\n",
              "             scoring=&#x27;neg_mean_squared_error&#x27;)</pre></div></div></div><div class=\"sk-parallel\"><div class=\"sk-parallel-item\"><div class=\"sk-item\"><div class=\"sk-label-container\"><div class=\"sk-label sk-toggleable\"><input class=\"sk-toggleable__control sk-hidden--visually\" id=\"sk-estimator-id-3\" type=\"checkbox\" ><label for=\"sk-estimator-id-3\" class=\"sk-toggleable__label sk-toggleable__label-arrow\">estimator: SVR</label><div class=\"sk-toggleable__content\"><pre>SVR()</pre></div></div></div><div class=\"sk-serial\"><div class=\"sk-item\"><div class=\"sk-estimator sk-toggleable\"><input class=\"sk-toggleable__control sk-hidden--visually\" id=\"sk-estimator-id-4\" type=\"checkbox\" ><label for=\"sk-estimator-id-4\" class=\"sk-toggleable__label sk-toggleable__label-arrow\">SVR</label><div class=\"sk-toggleable__content\"><pre>SVR()</pre></div></div></div></div></div></div></div></div></div></div>"
            ]
          },
          "metadata": {},
          "execution_count": 115
        }
      ],
      "source": [
        "# Perform grid search with MSE as the scoring metric\n",
        "grid_search_svr = GridSearchCV(svr, param_grid, scoring='neg_mean_squared_error', cv=5)\n",
        "grid_search_svr.fit(X_train, y_train)"
      ]
    },
    {
      "cell_type": "code",
      "execution_count": null,
      "metadata": {
        "id": "wlWe9RhDJlzV"
      },
      "outputs": [],
      "source": [
        "# Get the best parameters and the corresponding model\n",
        "best_params_svr = grid_search_svr.best_params_\n",
        "best_model_svr = grid_search_svr.best_estimator_"
      ]
    },
    {
      "cell_type": "code",
      "execution_count": null,
      "metadata": {
        "colab": {
          "base_uri": "https://localhost:8080/"
        },
        "id": "l4i9jyqLnF27",
        "outputId": "487cbfa2-1200-41f3-957f-25ee7b690844"
      },
      "outputs": [
        {
          "output_type": "stream",
          "name": "stdout",
          "text": [
            "Best Parameters found:  {'C': 1000, 'gamma': 0.001, 'kernel': 'rbf'}\n",
            "Lowest score found:  223.0205716738946\n"
          ]
        }
      ],
      "source": [
        "# Print best parameters and best score\n",
        "print(\"Best Parameters found: \", grid_search_svr.best_params_)\n",
        "print(\"Lowest score found: \", -grid_search_svr.best_score_)"
      ]
    },
    {
      "cell_type": "code",
      "execution_count": null,
      "metadata": {
        "colab": {
          "base_uri": "https://localhost:8080/"
        },
        "id": "9aSfrDnvJo5R",
        "outputId": "448b963b-f2a9-4c0a-a22e-50149fc705cd"
      },
      "outputs": [
        {
          "output_type": "stream",
          "name": "stdout",
          "text": [
            "            actual prices  SVR predictionds\n",
            "MONTH                                      \n",
            "2002-07-01      25.790001         25.940591\n",
            "2010-05-01      75.669998         73.813121\n",
            "2016-05-01      47.730000         45.244139\n",
            "2010-08-01      78.220001         91.083027\n",
            "2018-01-01      69.930000         57.603674\n",
            "2019-07-01      63.919998         61.818479\n",
            "2012-01-01     111.430000        103.483559\n",
            "2016-12-01      53.820000         50.903867\n",
            "2021-03-01      65.760002         62.988246\n",
            "2011-12-01     108.559998        106.420429\n",
            "2006-08-01      74.500000         71.790033\n",
            "2011-01-01      97.500000         98.171206\n",
            "2019-10-01      60.860001         67.857091\n",
            "2022-02-01     100.709999         88.966499\n",
            "2012-09-01     112.059998        104.821510\n",
            "2011-11-01     112.410004        109.153214\n",
            "2021-09-01      73.849998         77.759998\n",
            "2005-01-01      44.389999         56.302307\n",
            "2007-01-01      55.779999         63.202666\n",
            "2019-12-01      69.739998         64.075073\n",
            "2003-10-01      28.940001         24.423186\n",
            "2006-02-01      61.590000         68.501907\n",
            "2015-01-01      47.910000         75.866537\n",
            "2013-09-01     112.949997         96.326662\n",
            "2022-01-01      88.209999         94.746197\n",
            "2017-07-01      47.959999         56.158300\n",
            "2009-10-01      73.629997         75.510734\n",
            "2003-07-01      27.910000         30.013509\n",
            "2000-10-01      31.799999         24.014253\n",
            "2011-09-01     115.029999        101.728818\n",
            "2001-11-01      19.000000         72.013460\n",
            "2009-02-01      44.070000         57.198172\n",
            "2002-01-01      19.639999         27.069326\n",
            "2010-01-01      76.790001         78.745079\n",
            "2014-08-01     100.860001        104.273105\n",
            "2006-04-01      70.209999         65.462336\n",
            "2019-04-01      71.150002         59.649633\n",
            "2019-06-01      64.830002         70.887256\n",
            "2000-07-01      28.799999         26.931365\n",
            "2005-09-01      63.299999         52.067187\n",
            "2003-11-01      28.940001         32.921577\n",
            "2010-07-01      76.489998         92.145134\n",
            "2005-07-01      57.299999         46.524679\n",
            "2002-02-01      19.730000         22.735160\n",
            "2009-07-01      65.209999         66.486406\n",
            "2017-03-01      51.400002         50.090439\n",
            "2001-08-01      25.959999         26.138550\n",
            "2016-10-01      49.790001         52.604283\n",
            "2014-01-01     109.959999        115.746639\n",
            "2017-01-01      54.840000         50.297045\n",
            "2007-03-01      64.300003         68.705367\n",
            "2012-11-01     109.360001        104.027111\n",
            "2013-04-01     102.639999         99.468270\n",
            "2001-04-01      25.650000         28.440753\n",
            "2013-03-01     108.870003        103.270676\n",
            "2000-11-01      33.060001         28.947848\n"
          ]
        }
      ],
      "source": [
        "# Make predictions using the best model\n",
        "svr_predictions = best_model_svr.predict(X_test)\n",
        "resultsSVR = pd.DataFrame({'actual prices': y_test, 'SVR predictionds': svr_predictions})\n",
        "print(resultsSVR)"
      ]
    },
    {
      "cell_type": "code",
      "execution_count": null,
      "metadata": {
        "colab": {
          "base_uri": "https://localhost:8080/",
          "height": 564
        },
        "id": "k0snsmqWKYBY",
        "outputId": "061f3a18-6ca3-4f4a-df2e-d25ab755063e"
      },
      "outputs": [
        {
          "output_type": "display_data",
          "data": {
            "text/plain": [
              "<Figure size 800x600 with 1 Axes>"
            ],
            "image/png": "[encoded data removed]"
          },
          "metadata": {}
        }
      ],
      "source": [
        "plt.figure(figsize=(8, 6))\n",
        "plt.scatter(y_test, svr_predictions, color='blue')\n",
        "plt.plot(y_test, y_test, color='red', linestyle='-', linewidth=1)\n",
        "plt.xlabel('Actual prices')\n",
        "plt.ylabel('Predicted values')\n",
        "plt.title('Predicted values vs Actual values')\n",
        "plt.show()"
      ]
    },
    {
      "cell_type": "code",
      "execution_count": null,
      "metadata": {
        "colab": {
          "base_uri": "https://localhost:8080/"
        },
        "id": "R2lM7pDuJs8y",
        "outputId": "e1f360b8-5f92-445a-f604-4709dfe85c67"
      },
      "outputs": [
        {
          "output_type": "stream",
          "name": "stdout",
          "text": [
            "Best parameters: {'C': 1000, 'gamma': 0.001, 'kernel': 'rbf'}\n",
            "RMSE: 10.64\n",
            "R2: 0.86\n"
          ]
        }
      ],
      "source": [
        "# Calculate RMSE and R2\n",
        "svr_rmse = np.sqrt(mean_squared_error(y_test, svr_predictions))\n",
        "svr_r2 = r2_score(y_test, svr_predictions)\n",
        "\n",
        "print(f\"Best parameters: {best_params_svr}\")\n",
        "print(f\"RMSE: {svr_rmse:.2f}\")\n",
        "print(f\"R2: {svr_r2:.2f}\")"
      ]
    },
    {
      "cell_type": "markdown",
      "metadata": {
        "id": "NNo8JrAJ7su-"
      },
      "source": [
        "# **XGB**"
      ]
    },
    {
      "cell_type": "code",
      "execution_count": null,
      "metadata": {
        "id": "bO2GqEes71DP"
      },
      "outputs": [],
      "source": [
        "from sklearn.model_selection import GridSearchCV\n",
        "\n",
        "# Define the parameter grid\n",
        "param_grid = {\n",
        "     'nthread':[4],\n",
        "              'objective':['reg:linear'],\n",
        "              'learning_rate': [.03, 0.05, .07],\n",
        "              'max_depth': [5, 6, 7],\n",
        "              'min_child_weight': [3, 4],\n",
        "              'silent': [1],\n",
        "    'reg_lambda': [0.1],\n",
        "     'reg_alpha': [0],\n",
        "              'subsample': [0.7],\n",
        "              'colsample_bytree': [0.7],\n",
        "              'n_estimators': [500]\n",
        "\n",
        "}\n",
        "\n",
        "\n",
        "\n"
      ]
    },
    {
      "cell_type": "code",
      "execution_count": null,
      "metadata": {
        "id": "w1Y7ntvi5fo2"
      },
      "outputs": [],
      "source": [
        "# Initialize XGBRegressor\n",
        "xgb = XGBRegressor(objective='reg:squarederror', random_state=42, eval_metric='rmse')"
      ]
    },
    {
      "cell_type": "code",
      "execution_count": null,
      "metadata": {
        "colab": {
          "base_uri": "https://localhost:8080/",
          "height": 294
        },
        "id": "-7-mSFPz5kzX",
        "outputId": "c53ae954-cb2f-4455-a2b0-559886d0f745"
      },
      "outputs": [
        {
          "output_type": "stream",
          "name": "stdout",
          "text": [
            "Fitting 5 folds for each of 18 candidates, totalling 90 fits\n"
          ]
        },
        {
          "output_type": "stream",
          "name": "stderr",
          "text": [
            "/usr/local/lib/python3.10/dist-packages/joblib/externals/loky/backend/fork_exec.py:38: RuntimeWarning: os.fork() was called. os.fork() is incompatible with multithreaded code, and JAX is multithreaded, so this will likely lead to a deadlock.\n",
            "  pid = os.fork()\n",
            "/usr/local/lib/python3.10/dist-packages/xgboost/core.py:160: UserWarning: [02:31:41] WARNING: /workspace/src/objective/regression_obj.cu:209: reg:linear is now deprecated in favor of reg:squarederror.\n",
            "  warnings.warn(smsg, UserWarning)\n",
            "/usr/local/lib/python3.10/dist-packages/xgboost/core.py:160: UserWarning: [02:31:41] WARNING: /workspace/src/learner.cc:742: \n",
            "Parameters: { \"silent\" } are not used.\n",
            "\n",
            "  warnings.warn(smsg, UserWarning)\n"
          ]
        },
        {
          "output_type": "execute_result",
          "data": {
            "text/plain": [
              "GridSearchCV(cv=5,\n",
              "             estimator=XGBRegressor(base_score=None, booster=None,\n",
              "                                    callbacks=None, colsample_bylevel=None,\n",
              "                                    colsample_bynode=None,\n",
              "                                    colsample_bytree=None, device=None,\n",
              "                                    early_stopping_rounds=None,\n",
              "                                    enable_categorical=False,\n",
              "                                    eval_metric='rmse', feature_types=None,\n",
              "                                    gamma=None, grow_policy=None,\n",
              "                                    importance_type=None,\n",
              "                                    interaction_constraints=None,\n",
              "                                    learning_rate=None...\n",
              "                                    n_jobs=None, num_parallel_tree=None,\n",
              "                                    random_state=42, ...),\n",
              "             n_jobs=-1,\n",
              "             param_grid={'colsample_bytree': [0.7],\n",
              "                         'learning_rate': [0.03, 0.05, 0.07],\n",
              "                         'max_depth': [5, 6, 7], 'min_child_weight': [3, 4],\n",
              "                         'n_estimators': [500], 'nthread': [4],\n",
              "                         'objective': ['reg:linear'], 'reg_alpha': [0],\n",
              "                         'reg_lambda': [0.1], 'silent': [1],\n",
              "                         'subsample': [0.7]},\n",
              "             scoring='neg_mean_squared_error', verbose=2)"
            ],
            "text/html": [
              "<style>#sk-container-id-3 {color: black;background-color: white;}#sk-container-id-3 pre{padding: 0;}#sk-container-id-3 div.sk-toggleable {background-color: white;}#sk-container-id-3 label.sk-toggleable__label {cursor: pointer;display: block;width: 100%;margin-bottom: 0;padding: 0.3em;box-sizing: border-box;text-align: center;}#sk-container-id-3 label.sk-toggleable__label-arrow:before {content: \"▸\";float: left;margin-right: 0.25em;color: #696969;}#sk-container-id-3 label.sk-toggleable__label-arrow:hover:before {color: black;}#sk-container-id-3 div.sk-estimator:hover label.sk-toggleable__label-arrow:before {color: black;}#sk-container-id-3 div.sk-toggleable__content {max-height: 0;max-width: 0;overflow: hidden;text-align: left;background-color: #f0f8ff;}#sk-container-id-3 div.sk-toggleable__content pre {margin: 0.2em;color: black;border-radius: 0.25em;background-color: #f0f8ff;}#sk-container-id-3 input.sk-toggleable__control:checked~div.sk-toggleable__content {max-height: 200px;max-width: 100%;overflow: auto;}#sk-container-id-3 input.sk-toggleable__control:checked~label.sk-toggleable__label-arrow:before {content: \"▾\";}#sk-container-id-3 div.sk-estimator input.sk-toggleable__control:checked~label.sk-toggleable__label {background-color: #d4ebff;}#sk-container-id-3 div.sk-label input.sk-toggleable__control:checked~label.sk-toggleable__label {background-color: #d4ebff;}#sk-container-id-3 input.sk-hidden--visually {border: 0;clip: rect(1px 1px 1px 1px);clip: rect(1px, 1px, 1px, 1px);height: 1px;margin: -1px;overflow: hidden;padding: 0;position: absolute;width: 1px;}#sk-container-id-3 div.sk-estimator {font-family: monospace;background-color: #f0f8ff;border: 1px dotted black;border-radius: 0.25em;box-sizing: border-box;margin-bottom: 0.5em;}#sk-container-id-3 div.sk-estimator:hover {background-color: #d4ebff;}#sk-container-id-3 div.sk-parallel-item::after {content: \"\";width: 100%;border-bottom: 1px solid gray;flex-grow: 1;}#sk-container-id-3 div.sk-label:hover label.sk-toggleable__label {background-color: #d4ebff;}#sk-container-id-3 div.sk-serial::before {content: \"\";position: absolute;border-left: 1px solid gray;box-sizing: border-box;top: 0;bottom: 0;left: 50%;z-index: 0;}#sk-container-id-3 div.sk-serial {display: flex;flex-direction: column;align-items: center;background-color: white;padding-right: 0.2em;padding-left: 0.2em;position: relative;}#sk-container-id-3 div.sk-item {position: relative;z-index: 1;}#sk-container-id-3 div.sk-parallel {display: flex;align-items: stretch;justify-content: center;background-color: white;position: relative;}#sk-container-id-3 div.sk-item::before, #sk-container-id-3 div.sk-parallel-item::before {content: \"\";position: absolute;border-left: 1px solid gray;box-sizing: border-box;top: 0;bottom: 0;left: 50%;z-index: -1;}#sk-container-id-3 div.sk-parallel-item {display: flex;flex-direction: column;z-index: 1;position: relative;background-color: white;}#sk-container-id-3 div.sk-parallel-item:first-child::after {align-self: flex-end;width: 50%;}#sk-container-id-3 div.sk-parallel-item:last-child::after {align-self: flex-start;width: 50%;}#sk-container-id-3 div.sk-parallel-item:only-child::after {width: 0;}#sk-container-id-3 div.sk-dashed-wrapped {border: 1px dashed gray;margin: 0 0.4em 0.5em 0.4em;box-sizing: border-box;padding-bottom: 0.4em;background-color: white;}#sk-container-id-3 div.sk-label label {font-family: monospace;font-weight: bold;display: inline-block;line-height: 1.2em;}#sk-container-id-3 div.sk-label-container {text-align: center;}#sk-container-id-3 div.sk-container {/* jupyter's `normalize.less` sets `[hidden] { display: none; }` but bootstrap.min.css set `[hidden] { display: none !important; }` so we also need the `!important` here to be able to override the default hidden behavior on the sphinx rendered scikit-learn.org. See: https://github.com/scikit-learn/scikit-learn/issues/21755 */display: inline-block !important;position: relative;}#sk-container-id-3 div.sk-text-repr-fallback {display: none;}</style><div id=\"sk-container-id-3\" class=\"sk-top-container\"><div class=\"sk-text-repr-fallback\"><pre>GridSearchCV(cv=5,\n",
              "             estimator=XGBRegressor(base_score=None, booster=None,\n",
              "                                    callbacks=None, colsample_bylevel=None,\n",
              "                                    colsample_bynode=None,\n",
              "                                    colsample_bytree=None, device=None,\n",
              "                                    early_stopping_rounds=None,\n",
              "                                    enable_categorical=False,\n",
              "                                    eval_metric=&#x27;rmse&#x27;, feature_types=None,\n",
              "                                    gamma=None, grow_policy=None,\n",
              "                                    importance_type=None,\n",
              "                                    interaction_constraints=None,\n",
              "                                    learning_rate=None...\n",
              "                                    n_jobs=None, num_parallel_tree=None,\n",
              "                                    random_state=42, ...),\n",
              "             n_jobs=-1,\n",
              "             param_grid={&#x27;colsample_bytree&#x27;: [0.7],\n",
              "                         &#x27;learning_rate&#x27;: [0.03, 0.05, 0.07],\n",
              "                         &#x27;max_depth&#x27;: [5, 6, 7], &#x27;min_child_weight&#x27;: [3, 4],\n",
              "                         &#x27;n_estimators&#x27;: [500], &#x27;nthread&#x27;: [4],\n",
              "                         &#x27;objective&#x27;: [&#x27;reg:linear&#x27;], &#x27;reg_alpha&#x27;: [0],\n",
              "                         &#x27;reg_lambda&#x27;: [0.1], &#x27;silent&#x27;: [1],\n",
              "                         &#x27;subsample&#x27;: [0.7]},\n",
              "             scoring=&#x27;neg_mean_squared_error&#x27;, verbose=2)</pre><b>In a Jupyter environment, please rerun this cell to show the HTML representation or trust the notebook. <br />On GitHub, the HTML representation is unable to render, please try loading this page with nbviewer.org.</b></div><div class=\"sk-container\" hidden><div class=\"sk-item sk-dashed-wrapped\"><div class=\"sk-label-container\"><div class=\"sk-label sk-toggleable\"><input class=\"sk-toggleable__control sk-hidden--visually\" id=\"sk-estimator-id-5\" type=\"checkbox\" ><label for=\"sk-estimator-id-5\" class=\"sk-toggleable__label sk-toggleable__label-arrow\">GridSearchCV</label><div class=\"sk-toggleable__content\"><pre>GridSearchCV(cv=5,\n",
              "             estimator=XGBRegressor(base_score=None, booster=None,\n",
              "                                    callbacks=None, colsample_bylevel=None,\n",
              "                                    colsample_bynode=None,\n",
              "                                    colsample_bytree=None, device=None,\n",
              "                                    early_stopping_rounds=None,\n",
              "                                    enable_categorical=False,\n",
              "                                    eval_metric=&#x27;rmse&#x27;, feature_types=None,\n",
              "                                    gamma=None, grow_policy=None,\n",
              "                                    importance_type=None,\n",
              "                                    interaction_constraints=None,\n",
              "                                    learning_rate=None...\n",
              "                                    n_jobs=None, num_parallel_tree=None,\n",
              "                                    random_state=42, ...),\n",
              "             n_jobs=-1,\n",
              "             param_grid={&#x27;colsample_bytree&#x27;: [0.7],\n",
              "                         &#x27;learning_rate&#x27;: [0.03, 0.05, 0.07],\n",
              "                         &#x27;max_depth&#x27;: [5, 6, 7], &#x27;min_child_weight&#x27;: [3, 4],\n",
              "                         &#x27;n_estimators&#x27;: [500], &#x27;nthread&#x27;: [4],\n",
              "                         &#x27;objective&#x27;: [&#x27;reg:linear&#x27;], &#x27;reg_alpha&#x27;: [0],\n",
              "                         &#x27;reg_lambda&#x27;: [0.1], &#x27;silent&#x27;: [1],\n",
              "                         &#x27;subsample&#x27;: [0.7]},\n",
              "             scoring=&#x27;neg_mean_squared_error&#x27;, verbose=2)</pre></div></div></div><div class=\"sk-parallel\"><div class=\"sk-parallel-item\"><div class=\"sk-item\"><div class=\"sk-label-container\"><div class=\"sk-label sk-toggleable\"><input class=\"sk-toggleable__control sk-hidden--visually\" id=\"sk-estimator-id-6\" type=\"checkbox\" ><label for=\"sk-estimator-id-6\" class=\"sk-toggleable__label sk-toggleable__label-arrow\">estimator: XGBRegressor</label><div class=\"sk-toggleable__content\"><pre>XGBRegressor(base_score=None, booster=None, callbacks=None,\n",
              "             colsample_bylevel=None, colsample_bynode=None,\n",
              "             colsample_bytree=None, device=None, early_stopping_rounds=None,\n",
              "             enable_categorical=False, eval_metric=&#x27;rmse&#x27;, feature_types=None,\n",
              "             gamma=None, grow_policy=None, importance_type=None,\n",
              "             interaction_constraints=None, learning_rate=None, max_bin=None,\n",
              "             max_cat_threshold=None, max_cat_to_onehot=None,\n",
              "             max_delta_step=None, max_depth=None, max_leaves=None,\n",
              "             min_child_weight=None, missing=nan, monotone_constraints=None,\n",
              "             multi_strategy=None, n_estimators=None, n_jobs=None,\n",
              "             num_parallel_tree=None, random_state=42, ...)</pre></div></div></div><div class=\"sk-serial\"><div class=\"sk-item\"><div class=\"sk-estimator sk-toggleable\"><input class=\"sk-toggleable__control sk-hidden--visually\" id=\"sk-estimator-id-7\" type=\"checkbox\" ><label for=\"sk-estimator-id-7\" class=\"sk-toggleable__label sk-toggleable__label-arrow\">XGBRegressor</label><div class=\"sk-toggleable__content\"><pre>XGBRegressor(base_score=None, booster=None, callbacks=None,\n",
              "             colsample_bylevel=None, colsample_bynode=None,\n",
              "             colsample_bytree=None, device=None, early_stopping_rounds=None,\n",
              "             enable_categorical=False, eval_metric=&#x27;rmse&#x27;, feature_types=None,\n",
              "             gamma=None, grow_policy=None, importance_type=None,\n",
              "             interaction_constraints=None, learning_rate=None, max_bin=None,\n",
              "             max_cat_threshold=None, max_cat_to_onehot=None,\n",
              "             max_delta_step=None, max_depth=None, max_leaves=None,\n",
              "             min_child_weight=None, missing=nan, monotone_constraints=None,\n",
              "             multi_strategy=None, n_estimators=None, n_jobs=None,\n",
              "             num_parallel_tree=None, random_state=42, ...)</pre></div></div></div></div></div></div></div></div></div></div>"
            ]
          },
          "metadata": {},
          "execution_count": 123
        }
      ],
      "source": [
        "# Initialize GridSearchCV\n",
        "grid_search_xgb = GridSearchCV(xgb, param_grid, cv=5, scoring='neg_mean_squared_error', verbose=2, n_jobs=-1)\n",
        "grid_search_xgb.fit(X_train, y_train)"
      ]
    },
    {
      "cell_type": "code",
      "execution_count": null,
      "metadata": {
        "colab": {
          "base_uri": "https://localhost:8080/"
        },
        "id": "zPBj1IbT5olH",
        "outputId": "b347b717-1467-4c10-dd8e-648c00bcae6b"
      },
      "outputs": [
        {
          "output_type": "stream",
          "name": "stdout",
          "text": [
            "Best Parameters found:  {'colsample_bytree': 0.7, 'learning_rate': 0.05, 'max_depth': 6, 'min_child_weight': 3, 'n_estimators': 500, 'nthread': 4, 'objective': 'reg:linear', 'reg_alpha': 0, 'reg_lambda': 0.1, 'silent': 1, 'subsample': 0.7}\n",
            "Lowest Score found:  93.18370666503907\n"
          ]
        }
      ],
      "source": [
        "best_params_xgb = grid_search_xgb.best_params_\n",
        "best_model_xgb = grid_search_xgb.best_estimator_\n",
        "# Print best parameters and best score\n",
        "print(\"Best Parameters found: \", grid_search_xgb.best_params_)\n",
        "print(\"Lowest Score found: \", -grid_search_xgb.best_score_)"
      ]
    },
    {
      "cell_type": "code",
      "execution_count": null,
      "metadata": {
        "id": "6PkhiVl082W_"
      },
      "outputs": [],
      "source": [
        "# Fit GridSearchCV\n",
        "from sklearn.model_selection import GridSearchCV\n",
        "\n"
      ]
    },
    {
      "cell_type": "code",
      "execution_count": null,
      "metadata": {
        "colab": {
          "base_uri": "https://localhost:8080/"
        },
        "id": "uhiArMNV7vB0",
        "outputId": "b1771e96-c815-4b8b-d22f-15436bd603c3"
      },
      "outputs": [
        {
          "output_type": "stream",
          "name": "stdout",
          "text": [
            "            actual prices  XGBoost predictionds\n",
            "MONTH                                          \n",
            "2002-07-01      25.790001             26.502102\n",
            "2010-05-01      75.669998             80.959953\n",
            "2016-05-01      47.730000             43.282009\n",
            "2010-08-01      78.220001             86.731949\n",
            "2018-01-01      69.930000             67.943268\n",
            "2019-07-01      63.919998             64.661362\n",
            "2012-01-01     111.430000            106.733650\n",
            "2016-12-01      53.820000             49.741158\n",
            "2021-03-01      65.760002             59.787117\n",
            "2011-12-01     108.559998            111.440636\n",
            "2006-08-01      74.500000             71.732094\n",
            "2011-01-01      97.500000            102.295090\n",
            "2019-10-01      60.860001             63.412384\n",
            "2022-02-01     100.709999            101.104103\n",
            "2012-09-01     112.059998            103.347450\n",
            "2011-11-01     112.410004            110.743187\n",
            "2021-09-01      73.849998             70.146339\n",
            "2005-01-01      44.389999             48.054611\n",
            "2007-01-01      55.779999             62.218315\n",
            "2019-12-01      69.739998             68.879158\n",
            "2003-10-01      28.940001             27.978697\n",
            "2006-02-01      61.590000             64.145180\n",
            "2015-01-01      47.910000             57.793003\n",
            "2013-09-01     112.949997            106.257263\n",
            "2022-01-01      88.209999            102.743042\n",
            "2017-07-01      47.959999             52.982941\n",
            "2009-10-01      73.629997             78.926758\n",
            "2003-07-01      27.910000             28.847242\n",
            "2000-10-01      31.799999             33.733986\n",
            "2011-09-01     115.029999            101.267067\n",
            "2001-11-01      19.000000             20.269539\n",
            "2009-02-01      44.070000             45.566788\n",
            "2002-01-01      19.639999             22.523502\n",
            "2010-01-01      76.790001             80.289024\n",
            "2014-08-01     100.860001            102.018311\n",
            "2006-04-01      70.209999             73.402954\n",
            "2019-04-01      71.150002             68.112358\n",
            "2019-06-01      64.830002             70.638321\n",
            "2000-07-01      28.799999             31.889742\n",
            "2005-09-01      63.299999             58.205200\n",
            "2003-11-01      28.940001             31.035912\n",
            "2010-07-01      76.489998             88.318138\n",
            "2005-07-01      57.299999             60.717449\n",
            "2002-02-01      19.730000             22.940817\n",
            "2009-07-01      65.209999             75.459251\n",
            "2017-03-01      51.400002             56.795307\n",
            "2001-08-01      25.959999             24.823780\n",
            "2016-10-01      49.790001             45.509907\n",
            "2014-01-01     109.959999            110.144463\n",
            "2017-01-01      54.840000             56.170647\n",
            "2007-03-01      64.300003             61.504082\n",
            "2012-11-01     109.360001            109.126648\n",
            "2013-04-01     102.639999            106.374275\n",
            "2001-04-01      25.650000             28.048033\n",
            "2013-03-01     108.870003            115.224854\n",
            "2000-11-01      33.060001             32.656548\n"
          ]
        }
      ],
      "source": [
        "# Use the best estimator to predict on test data\n",
        "xgb_predictions = best_model_xgb.predict(X_test)\n",
        "resultsXGB = pd.DataFrame({'actual prices': y_test, 'XGBoost predictionds': xgb_predictions})\n",
        "print(resultsXGB)"
      ]
    },
    {
      "cell_type": "code",
      "execution_count": null,
      "metadata": {
        "colab": {
          "base_uri": "https://localhost:8080/",
          "height": 564
        },
        "id": "lKZQiP_LKlcU",
        "outputId": "6e628e5f-c95a-435f-fc20-528617da86bd"
      },
      "outputs": [
        {
          "output_type": "display_data",
          "data": {
            "text/plain": [
              "<Figure size 800x600 with 1 Axes>"
            ],
            "image/png": "[encoded data removed]"
          },
          "metadata": {}
        }
      ],
      "source": [
        "plt.figure(figsize=(8, 6))\n",
        "plt.scatter(y_test, xgb_predictions, color='blue')\n",
        "plt.plot(y_test, y_test, color='red', linestyle='-', linewidth=1)\n",
        "plt.xlabel('Actual prices')\n",
        "plt.ylabel('Predicted values')\n",
        "plt.title('Predicted values vs Actual values')\n",
        "plt.show()"
      ]
    },
    {
      "cell_type": "code",
      "execution_count": null,
      "metadata": {
        "colab": {
          "base_uri": "https://localhost:8080/"
        },
        "id": "Zy1q-jeDf7dR",
        "outputId": "d9f37dff-8290-4cc3-de56-55adebc6b953"
      },
      "outputs": [
        {
          "output_type": "stream",
          "name": "stdout",
          "text": [
            "RMSE on test set: 5.185967445373535\n"
          ]
        }
      ],
      "source": [
        "# Calculate RMSE on test set\n",
        "xgb_rmse = mean_squared_error(y_test, xgb_predictions, squared=False)\n",
        "print(f\"RMSE on test set: {xgb_rmse}\")"
      ]
    },
    {
      "cell_type": "code",
      "execution_count": null,
      "metadata": {
        "colab": {
          "base_uri": "https://localhost:8080/"
        },
        "id": "0j-Xy44_iHWE",
        "outputId": "5dbfb368-898c-4b39-c405-e38ada40648b"
      },
      "outputs": [
        {
          "output_type": "stream",
          "name": "stdout",
          "text": [
            "R² = 0.97\n"
          ]
        }
      ],
      "source": [
        "from sklearn.metrics import r2_score\n",
        "\n",
        "# Supposons que vous ayez des données réelles y_true et des prédictions y_pred\n",
        "xgb_r2 = r2_score(y_test, xgb_predictions)\n",
        "print(f\"R² = {xgb_r2:.2f}\")"
      ]
    },
    {
      "cell_type": "markdown",
      "metadata": {
        "id": "o2VQJWBfL5aY"
      },
      "source": [
        "# **RF**"
      ]
    },
    {
      "cell_type": "code",
      "execution_count": null,
      "metadata": {
        "colab": {
          "base_uri": "https://localhost:8080/"
        },
        "id": "TuXr897BL3kr",
        "outputId": "0c65dc0a-6ae2-4a49-e6c3-8b0dbfa8e86a"
      },
      "outputs": [
        {
          "output_type": "stream",
          "name": "stderr",
          "text": [
            "/usr/local/lib/python3.10/dist-packages/sklearn/model_selection/_validation.py:378: FitFailedWarning: \n",
            "500 fits failed out of a total of 2000.\n",
            "The score on these train-test partitions for these parameters will be set to nan.\n",
            "If these failures are not expected, you can try to debug them by setting error_score='raise'.\n",
            "\n",
            "Below are more details about the failures:\n",
            "--------------------------------------------------------------------------------\n",
            "500 fits failed with the following error:\n",
            "Traceback (most recent call last):\n",
            "  File \"/usr/local/lib/python3.10/dist-packages/sklearn/model_selection/_validation.py\", line 686, in _fit_and_score\n",
            "    estimator.fit(X_train, y_train, **fit_params)\n",
            "  File \"/usr/local/lib/python3.10/dist-packages/sklearn/ensemble/_forest.py\", line 340, in fit\n",
            "    self._validate_params()\n",
            "  File \"/usr/local/lib/python3.10/dist-packages/sklearn/base.py\", line 600, in _validate_params\n",
            "    validate_parameter_constraints(\n",
            "  File \"/usr/local/lib/python3.10/dist-packages/sklearn/utils/_param_validation.py\", line 97, in validate_parameter_constraints\n",
            "    raise InvalidParameterError(\n",
            "sklearn.utils._param_validation.InvalidParameterError: The 'min_samples_split' parameter of RandomForestRegressor must be an int in the range [2, inf) or a float in the range (0.0, 1.0]. Got 1 instead.\n",
            "\n",
            "  warnings.warn(some_fits_failed_message, FitFailedWarning)\n",
            "/usr/local/lib/python3.10/dist-packages/sklearn/model_selection/_search.py:952: UserWarning: One or more of the test scores are non-finite: [          nan           nan           nan           nan           nan\n",
            "  -77.33725882  -77.69418798  -77.40506438  -74.7089337   -74.83266458\n",
            "  -90.05034531  -85.95677997  -81.90535555  -79.59034742  -81.51033485\n",
            " -107.42267368  -91.21137177  -92.12655243  -94.58670876  -91.86378995\n",
            "           nan           nan           nan           nan           nan\n",
            "  -91.69256035  -85.9663182   -85.61981194  -86.2549709   -87.1196922\n",
            "  -88.68693599  -83.32353181  -86.01610155  -85.3142308   -88.25263489\n",
            " -114.08263655 -103.99764281  -99.46035281  -99.59995995  -99.36224301\n",
            "           nan           nan           nan           nan           nan\n",
            " -138.31339822 -130.22569004 -131.46166409 -131.40598744 -130.56720596\n",
            " -145.11631646 -131.95141763 -129.6492566  -129.12193155 -129.11534692\n",
            " -150.09319442 -134.67071292 -131.63810564 -132.81855843 -131.24216437\n",
            "           nan           nan           nan           nan           nan\n",
            " -180.1542818  -185.75005335 -184.50206665 -183.36493585 -182.90206531\n",
            " -196.1447586  -186.05219374 -185.16496733 -183.37008219 -183.34415601\n",
            " -193.1495816  -181.02994887 -183.16892722 -183.56680213 -184.13976651\n",
            "           nan           nan           nan           nan           nan\n",
            " -106.23083393  -99.96936424  -98.15764576  -93.65699327  -95.90731486\n",
            "  -91.22235218  -96.47465566  -95.67212034  -97.6712684   -95.33376778\n",
            " -109.60274803 -105.6609234   -99.5069737  -103.06143783 -102.56988219\n",
            "           nan           nan           nan           nan           nan\n",
            "  -95.35899197 -103.70925266  -99.23139213  -99.53493703  -98.06617565\n",
            " -104.50786747 -101.66287805  -99.74418653  -99.05730699  -99.18158053\n",
            " -119.11067543 -108.32239182 -103.26893115 -105.85244784 -105.79118654\n",
            "           nan           nan           nan           nan           nan\n",
            " -140.91602883 -138.01139904 -130.47790056 -134.76243868 -131.32841154\n",
            " -133.53236737 -134.2022807  -134.32185544 -134.45534159 -132.59109664\n",
            " -149.14113504 -131.17138227 -131.80008209 -132.2661731  -132.49753468\n",
            "           nan           nan           nan           nan           nan\n",
            " -183.35554117 -187.77325495 -186.09548912 -183.44161873 -184.66815384\n",
            " -177.54763667 -191.11552036 -184.23064601 -183.11022678 -183.83954323\n",
            " -186.67226109 -182.56011303 -184.02532526 -183.97333081 -183.19954899\n",
            "           nan           nan           nan           nan           nan\n",
            "  -84.01348412  -79.16666141  -76.08006347  -75.71165547  -77.17627036\n",
            "  -87.86278887  -79.1697835   -81.1525811   -82.4709536   -81.43585442\n",
            " -107.3272233   -91.16431865  -90.95615428  -92.6512191   -92.52195271\n",
            "           nan           nan           nan           nan           nan\n",
            "  -90.21380177  -87.48320671  -87.03679373  -84.52331418  -87.27952944\n",
            "  -95.76035655  -90.33380472  -92.97268074  -89.07617075  -88.17275272\n",
            " -100.73396818  -99.31204965  -99.1654877   -99.65235328  -97.60649126\n",
            "           nan           nan           nan           nan           nan\n",
            " -126.31027301 -130.34487262 -129.13820256 -129.2508134  -129.96589997\n",
            " -142.17754509 -132.14667929 -131.02116035 -131.86542078 -129.38081956\n",
            " -133.15754927 -127.56305813 -129.63862243 -130.06668868 -130.34000161\n",
            "           nan           nan           nan           nan           nan\n",
            " -185.11400192 -185.20626167 -186.84648366 -183.15551991 -183.51867059\n",
            " -190.09010288 -183.69481774 -181.09203363 -184.58084764 -183.21242511\n",
            " -186.72243281 -190.67704806 -183.91345257 -185.39084977 -183.90819476\n",
            "           nan           nan           nan           nan           nan\n",
            "  -76.55495801  -75.39552568  -77.64950967  -76.74318536  -75.82172824\n",
            "  -88.97301839  -82.89307112  -82.94339298  -81.14789415  -79.70117868\n",
            " -102.09039411  -92.89525637  -93.43128234  -92.83482084  -90.78462848\n",
            "           nan           nan           nan           nan           nan\n",
            "  -90.45781047  -89.37218136  -90.17684076  -85.87518658  -86.43844643\n",
            "  -91.77046535  -87.86457258  -90.99294059  -88.81263305  -87.9534948\n",
            " -109.06411446 -101.15860093  -97.67104718  -99.02190293  -99.64461696\n",
            "           nan           nan           nan           nan           nan\n",
            " -132.0185511  -131.44897971 -131.60847941 -132.04108561 -131.31615858\n",
            " -143.87746647 -129.66157335 -128.63098875 -131.10059283 -129.96541895\n",
            " -143.07441099 -130.59356604 -131.29655875 -127.98367318 -129.87286875\n",
            "           nan           nan           nan           nan           nan\n",
            " -200.54772791 -184.64202384 -184.44486938 -182.72217817 -183.77920225\n",
            " -180.77046018 -181.64524301 -183.28814755 -184.587283   -183.51817313\n",
            " -193.9780649  -185.20614237 -185.05939592 -182.92281904 -184.38504733\n",
            "           nan           nan           nan           nan           nan\n",
            "  -94.18860078  -78.82152213  -78.51780886  -75.18960779  -76.05261726\n",
            "  -87.63601362  -77.85655468  -82.71723983  -81.82613174  -80.88276716\n",
            " -101.57275266  -93.56528661  -92.0070176   -93.68616626  -93.32795811\n",
            "           nan           nan           nan           nan           nan\n",
            "  -91.08111083  -91.09578149  -86.6148071   -86.16729523  -87.55102119\n",
            "  -93.85759116  -86.59479753  -89.66588316  -84.03655987  -87.0795183\n",
            " -106.7732559   -98.40852487  -97.25659969 -100.58894276  -98.95230516\n",
            "           nan           nan           nan           nan           nan\n",
            " -134.97916705 -132.69167561 -130.42174534 -132.64253797 -129.86387758\n",
            " -131.21909509 -134.41362544 -133.70513278 -130.7915811  -131.46071949\n",
            " -141.68349034 -133.54776386 -130.84729722 -128.25055481 -131.01350601\n",
            "           nan           nan           nan           nan           nan\n",
            " -187.40353737 -183.96064543 -183.01975798 -182.93464564 -183.71283899\n",
            " -186.51883163 -183.48361323 -182.67425952 -187.17369584 -183.93118969\n",
            " -194.11186925 -187.97393996 -187.62327769 -184.34975718 -182.34519206]\n",
            "  warnings.warn(\n"
          ]
        },
        {
          "output_type": "stream",
          "name": "stdout",
          "text": [
            "Best Parameters found:  {'max_depth': None, 'min_samples_leaf': 1, 'min_samples_split': 2, 'n_estimators': 200}\n",
            "Lowest score found:  74.70893369615784\n"
          ]
        }
      ],
      "source": [
        "import pandas as pd\n",
        "from sklearn.ensemble import RandomForestRegressor\n",
        "from sklearn.model_selection import GridSearchCV\n",
        "from sklearn.metrics import mean_squared_error, r2_score\n",
        "\n",
        "\n",
        "\n",
        "\n",
        "# Define the parameter grid for the Random Forest model\n",
        "param_grid = {\n",
        "    'n_estimators': [10, 50, 100, 200, 500],\n",
        "    'max_depth': [None, 5, 10, 15, 20],\n",
        "    'min_samples_split': [1, 2, 5, 10],\n",
        "    'min_samples_leaf': [1, 2, 5, 10]\n",
        "}\n",
        "\n",
        "# Initialize the Random Forest model\n",
        "rf = RandomForestRegressor()\n",
        "\n",
        "# Perform grid search to find the best parameters\n",
        "grid_search = GridSearchCV(rf, param_grid, cv=5, scoring='neg_mean_squared_error')\n",
        "grid_search.fit(X_train, y_train)\n",
        "\n",
        "\n",
        "\n",
        "# Get the best model and its parameters\n",
        "best_model_rf = grid_search.best_estimator_\n",
        "best_params_rf = grid_search.best_params_\n",
        "\n",
        "# Print best parameters and best score\n",
        "print(\"Best Parameters found: \", grid_search.best_params_)\n",
        "print(\"Lowest score found: \", -grid_search.best_score_)"
      ]
    },
    {
      "cell_type": "code",
      "execution_count": null,
      "metadata": {
        "colab": {
          "base_uri": "https://localhost:8080/"
        },
        "id": "W6PBee6mYW7A",
        "outputId": "8f56536d-3f1c-4cd1-b7e3-a0d3878f2435"
      },
      "outputs": [
        {
          "output_type": "stream",
          "name": "stdout",
          "text": [
            "            actual prices  randomforest predictionds\n",
            "MONTH                                               \n",
            "2002-07-01      25.790001                  26.137351\n",
            "2010-05-01      75.669998                  78.002750\n",
            "2016-05-01      47.730000                  47.064000\n",
            "2010-08-01      78.220001                  91.912349\n",
            "2018-01-01      69.930000                  67.616101\n",
            "2019-07-01      63.919998                  63.874051\n",
            "2012-01-01     111.430000                 113.863300\n",
            "2016-12-01      53.820000                  47.225700\n",
            "2021-03-01      65.760002                  56.340401\n",
            "2011-12-01     108.559998                 111.830800\n",
            "2006-08-01      74.500000                  68.282801\n",
            "2011-01-01      97.500000                 108.064801\n",
            "2019-10-01      60.860001                  64.055151\n",
            "2022-02-01     100.709999                  99.700452\n",
            "2012-09-01     112.059998                 107.502501\n",
            "2011-11-01     112.410004                 113.669050\n",
            "2021-09-01      73.849998                  80.251501\n",
            "2005-01-01      44.389999                  51.627599\n",
            "2007-01-01      55.779999                  59.847851\n",
            "2019-12-01      69.739998                  65.788950\n",
            "2003-10-01      28.940001                  30.668650\n",
            "2006-02-01      61.590000                  63.403549\n",
            "2015-01-01      47.910000                  67.605790\n",
            "2013-09-01     112.949997                 105.987131\n",
            "2022-01-01      88.209999                  96.008602\n",
            "2017-07-01      47.959999                  55.509999\n",
            "2009-10-01      73.629997                  74.494302\n",
            "2003-07-01      27.910000                  28.255651\n",
            "2000-10-01      31.799999                  32.491700\n",
            "2011-09-01     115.029999                 110.394001\n",
            "2001-11-01      19.000000                  21.670850\n",
            "2009-02-01      44.070000                  52.341800\n",
            "2002-01-01      19.639999                  24.359250\n",
            "2010-01-01      76.790001                  72.743351\n",
            "2014-08-01     100.860001                 103.635102\n",
            "2006-04-01      70.209999                  68.110800\n",
            "2019-04-01      71.150002                  67.157299\n",
            "2019-06-01      64.830002                  68.353448\n",
            "2000-07-01      28.799999                  31.143600\n",
            "2005-09-01      63.299999                  57.219749\n",
            "2003-11-01      28.940001                  30.585150\n",
            "2010-07-01      76.489998                  92.385299\n",
            "2005-07-01      57.299999                  60.107049\n",
            "2002-02-01      19.730000                  24.037600\n",
            "2009-07-01      65.209999                  75.591750\n",
            "2017-03-01      51.400002                  55.959401\n",
            "2001-08-01      25.959999                  26.250600\n",
            "2016-10-01      49.790001                  46.853901\n",
            "2014-01-01     109.959999                 110.396148\n",
            "2017-01-01      54.840000                  55.823701\n",
            "2007-03-01      64.300003                  59.105650\n",
            "2012-11-01     109.360001                 109.302592\n",
            "2013-04-01     102.639999                 105.236120\n",
            "2001-04-01      25.650000                  27.627750\n",
            "2013-03-01     108.870003                 112.390449\n",
            "2000-11-01      33.060001                  32.312050\n"
          ]
        }
      ],
      "source": [
        "# Use the best model to make predictions on the test set\n",
        "rf_predictions = best_model_rf.predict(X_test)\n",
        "resultsRF = pd.DataFrame({'actual prices': y_test, 'randomforest predictionds': rf_predictions})\n",
        "print(resultsRF)"
      ]
    },
    {
      "cell_type": "code",
      "execution_count": null,
      "metadata": {
        "colab": {
          "base_uri": "https://localhost:8080/"
        },
        "id": "tAUdFXFxWI8o",
        "outputId": "a9aafcfd-6a66-4481-e731-b13974341c1a"
      },
      "outputs": [
        {
          "output_type": "stream",
          "name": "stdout",
          "text": [
            "MSE: 34.08\n",
            "R2: 0.96\n",
            "RMSE: 5.84\n"
          ]
        }
      ],
      "source": [
        "\n",
        "\n",
        "# Calculate the Mean Squared Error (MSE)\n",
        "rf_mse = mean_squared_error(y_test, rf_predictions)\n",
        "print(f'MSE: {rf_mse:.2f}')\n",
        "\n",
        "# Calculate the R-squared (R2)\n",
        "rf_r2 = r2_score(y_test, rf_predictions)\n",
        "print(f'R2: {rf_r2:.2f}')\n",
        "\n",
        "# Calculate the Root Mean Squared Error (RMSE)\n",
        "rf_rmse = rf_mse ** 0.5\n",
        "print(f'RMSE: {rf_rmse:.2f}')"
      ]
    },
    {
      "cell_type": "markdown",
      "metadata": {
        "id": "aXghEgiFgI7p"
      },
      "source": [
        "# **Random Forest**"
      ]
    },
    {
      "cell_type": "code",
      "execution_count": null,
      "metadata": {
        "colab": {
          "base_uri": "https://localhost:8080/",
          "height": 75
        },
        "id": "HvZGntldgiuM",
        "outputId": "987b0b0d-242f-40d4-c560-ae3728920d30"
      },
      "outputs": [
        {
          "output_type": "execute_result",
          "data": {
            "text/plain": [
              "RandomForestRegressor(random_state=42)"
            ],
            "text/html": [
              "<style>#sk-container-id-4 {color: black;background-color: white;}#sk-container-id-4 pre{padding: 0;}#sk-container-id-4 div.sk-toggleable {background-color: white;}#sk-container-id-4 label.sk-toggleable__label {cursor: pointer;display: block;width: 100%;margin-bottom: 0;padding: 0.3em;box-sizing: border-box;text-align: center;}#sk-container-id-4 label.sk-toggleable__label-arrow:before {content: \"▸\";float: left;margin-right: 0.25em;color: #696969;}#sk-container-id-4 label.sk-toggleable__label-arrow:hover:before {color: black;}#sk-container-id-4 div.sk-estimator:hover label.sk-toggleable__label-arrow:before {color: black;}#sk-container-id-4 div.sk-toggleable__content {max-height: 0;max-width: 0;overflow: hidden;text-align: left;background-color: #f0f8ff;}#sk-container-id-4 div.sk-toggleable__content pre {margin: 0.2em;color: black;border-radius: 0.25em;background-color: #f0f8ff;}#sk-container-id-4 input.sk-toggleable__control:checked~div.sk-toggleable__content {max-height: 200px;max-width: 100%;overflow: auto;}#sk-container-id-4 input.sk-toggleable__control:checked~label.sk-toggleable__label-arrow:before {content: \"▾\";}#sk-container-id-4 div.sk-estimator input.sk-toggleable__control:checked~label.sk-toggleable__label {background-color: #d4ebff;}#sk-container-id-4 div.sk-label input.sk-toggleable__control:checked~label.sk-toggleable__label {background-color: #d4ebff;}#sk-container-id-4 input.sk-hidden--visually {border: 0;clip: rect(1px 1px 1px 1px);clip: rect(1px, 1px, 1px, 1px);height: 1px;margin: -1px;overflow: hidden;padding: 0;position: absolute;width: 1px;}#sk-container-id-4 div.sk-estimator {font-family: monospace;background-color: #f0f8ff;border: 1px dotted black;border-radius: 0.25em;box-sizing: border-box;margin-bottom: 0.5em;}#sk-container-id-4 div.sk-estimator:hover {background-color: #d4ebff;}#sk-container-id-4 div.sk-parallel-item::after {content: \"\";width: 100%;border-bottom: 1px solid gray;flex-grow: 1;}#sk-container-id-4 div.sk-label:hover label.sk-toggleable__label {background-color: #d4ebff;}#sk-container-id-4 div.sk-serial::before {content: \"\";position: absolute;border-left: 1px solid gray;box-sizing: border-box;top: 0;bottom: 0;left: 50%;z-index: 0;}#sk-container-id-4 div.sk-serial {display: flex;flex-direction: column;align-items: center;background-color: white;padding-right: 0.2em;padding-left: 0.2em;position: relative;}#sk-container-id-4 div.sk-item {position: relative;z-index: 1;}#sk-container-id-4 div.sk-parallel {display: flex;align-items: stretch;justify-content: center;background-color: white;position: relative;}#sk-container-id-4 div.sk-item::before, #sk-container-id-4 div.sk-parallel-item::before {content: \"\";position: absolute;border-left: 1px solid gray;box-sizing: border-box;top: 0;bottom: 0;left: 50%;z-index: -1;}#sk-container-id-4 div.sk-parallel-item {display: flex;flex-direction: column;z-index: 1;position: relative;background-color: white;}#sk-container-id-4 div.sk-parallel-item:first-child::after {align-self: flex-end;width: 50%;}#sk-container-id-4 div.sk-parallel-item:last-child::after {align-self: flex-start;width: 50%;}#sk-container-id-4 div.sk-parallel-item:only-child::after {width: 0;}#sk-container-id-4 div.sk-dashed-wrapped {border: 1px dashed gray;margin: 0 0.4em 0.5em 0.4em;box-sizing: border-box;padding-bottom: 0.4em;background-color: white;}#sk-container-id-4 div.sk-label label {font-family: monospace;font-weight: bold;display: inline-block;line-height: 1.2em;}#sk-container-id-4 div.sk-label-container {text-align: center;}#sk-container-id-4 div.sk-container {/* jupyter's `normalize.less` sets `[hidden] { display: none; }` but bootstrap.min.css set `[hidden] { display: none !important; }` so we also need the `!important` here to be able to override the default hidden behavior on the sphinx rendered scikit-learn.org. See: https://github.com/scikit-learn/scikit-learn/issues/21755 */display: inline-block !important;position: relative;}#sk-container-id-4 div.sk-text-repr-fallback {display: none;}</style><div id=\"sk-container-id-4\" class=\"sk-top-container\"><div class=\"sk-text-repr-fallback\"><pre>RandomForestRegressor(random_state=42)</pre><b>In a Jupyter environment, please rerun this cell to show the HTML representation or trust the notebook. <br />On GitHub, the HTML representation is unable to render, please try loading this page with nbviewer.org.</b></div><div class=\"sk-container\" hidden><div class=\"sk-item\"><div class=\"sk-estimator sk-toggleable\"><input class=\"sk-toggleable__control sk-hidden--visually\" id=\"sk-estimator-id-8\" type=\"checkbox\" checked><label for=\"sk-estimator-id-8\" class=\"sk-toggleable__label sk-toggleable__label-arrow\">RandomForestRegressor</label><div class=\"sk-toggleable__content\"><pre>RandomForestRegressor(random_state=42)</pre></div></div></div></div></div>"
            ]
          },
          "metadata": {},
          "execution_count": 133
        }
      ],
      "source": [
        "rf = RandomForestRegressor(random_state=seed)\n",
        "rf.fit(X_train, y_train)"
      ]
    },
    {
      "cell_type": "code",
      "execution_count": null,
      "metadata": {
        "colab": {
          "base_uri": "https://localhost:8080/"
        },
        "id": "zbBcy2hDgjYz",
        "outputId": "b1e9136a-a9d7-41e7-8aa1-eba63e6d1257"
      },
      "outputs": [
        {
          "output_type": "stream",
          "name": "stdout",
          "text": [
            "            actual prices  randomforest predictionds\n",
            "MONTH                                               \n",
            "2002-07-01      25.790001                  26.252701\n",
            "2010-05-01      75.669998                  76.912800\n",
            "2016-05-01      47.730000                  46.968400\n",
            "2010-08-01      78.220001                  88.267298\n",
            "2018-01-01      69.930000                  67.651401\n",
            "2019-07-01      63.919998                  63.347100\n",
            "2012-01-01     111.430000                 114.290600\n",
            "2016-12-01      53.820000                  47.083800\n",
            "2021-03-01      65.760002                  56.765501\n",
            "2011-12-01     108.559998                 110.380140\n",
            "2006-08-01      74.500000                  69.502501\n",
            "2011-01-01      97.500000                 109.285400\n",
            "2019-10-01      60.860001                  63.504601\n",
            "2022-02-01     100.709999                  98.515102\n",
            "2012-09-01     112.059998                 106.514802\n",
            "2011-11-01     112.410004                 112.385139\n",
            "2021-09-01      73.849998                  83.169601\n",
            "2005-01-01      44.389999                  50.158799\n",
            "2007-01-01      55.779999                  60.451501\n",
            "2019-12-01      69.739998                  65.447000\n",
            "2003-10-01      28.940001                  30.545900\n",
            "2006-02-01      61.590000                  63.693299\n",
            "2015-01-01      47.910000                  64.652600\n",
            "2013-09-01     112.949997                 107.127361\n",
            "2022-01-01      88.209999                  92.510801\n",
            "2017-07-01      47.959999                  55.257399\n",
            "2009-10-01      73.629997                  75.742702\n",
            "2003-07-01      27.910000                  28.635400\n",
            "2000-10-01      31.799999                  34.704900\n",
            "2011-09-01     115.029999                 110.776101\n",
            "2001-11-01      19.000000                  21.532400\n",
            "2009-02-01      44.070000                  51.090900\n",
            "2002-01-01      19.639999                  24.441800\n",
            "2010-01-01      76.790001                  73.478801\n",
            "2014-08-01     100.860001                 104.922082\n",
            "2006-04-01      70.209999                  67.731800\n",
            "2019-04-01      71.150002                  67.024398\n",
            "2019-06-01      64.830002                  68.415898\n",
            "2000-07-01      28.799999                  32.257700\n",
            "2005-09-01      63.299999                  57.962499\n",
            "2003-11-01      28.940001                  30.606000\n",
            "2010-07-01      76.489998                  88.450298\n",
            "2005-07-01      57.299999                  60.426299\n",
            "2002-02-01      19.730000                  23.907700\n",
            "2009-07-01      65.209999                  74.755300\n",
            "2017-03-01      51.400002                  56.087001\n",
            "2001-08-01      25.959999                  26.138700\n",
            "2016-10-01      49.790001                  46.766901\n",
            "2014-01-01     109.959999                 110.596098\n",
            "2017-01-01      54.840000                  56.356301\n",
            "2007-03-01      64.300003                  59.529501\n",
            "2012-11-01     109.360001                 109.501702\n",
            "2013-04-01     102.639999                 105.118580\n",
            "2001-04-01      25.650000                  27.216300\n",
            "2013-03-01     108.870003                 112.577199\n",
            "2000-11-01      33.060001                  34.647200\n"
          ]
        }
      ],
      "source": [
        "rf_predictions = rf.predict(X_test)\n",
        "rf_results = pd.DataFrame({'actual prices': y_test, 'randomforest predictionds': rf_predictions})\n",
        "print(rf_results)"
      ]
    },
    {
      "cell_type": "code",
      "execution_count": null,
      "metadata": {
        "colab": {
          "base_uri": "https://localhost:8080/",
          "height": 564
        },
        "id": "hWmf6Oik2qaM",
        "outputId": "c4b4bcee-e45b-4807-80f9-a01d884b2e61"
      },
      "outputs": [
        {
          "output_type": "display_data",
          "data": {
            "text/plain": [
              "<Figure size 800x600 with 1 Axes>"
            ],
            "image/png": "[encoded data removed]"
          },
          "metadata": {}
        }
      ],
      "source": [
        "plt.figure(figsize=(8, 6))\n",
        "plt.scatter(y_test, rf_predictions, color='blue')\n",
        "plt.plot(y_test, y_test, color='red', linestyle='-', linewidth=1)\n",
        "plt.xlabel('Actual prices')\n",
        "plt.ylabel('Predicted values')\n",
        "plt.title('Predicted values vs Actual values')\n",
        "plt.show()"
      ]
    },
    {
      "cell_type": "code",
      "execution_count": null,
      "metadata": {
        "colab": {
          "base_uri": "https://localhost:8080/"
        },
        "id": "mxiHFWSfgOJg",
        "outputId": "01fb92dd-afed-44c6-8a47-789c1598354f"
      },
      "outputs": [
        {
          "output_type": "stream",
          "name": "stdout",
          "text": [
            "RMSE on test set: 5.288514497411396\n",
            "R² = 0.97\n"
          ]
        }
      ],
      "source": [
        "# Calculate RMSE on test set\n",
        "rf_rmse = mean_squared_error(y_test, rf_predictions, squared=False)\n",
        "print(f\"RMSE on test set: {rf_rmse}\")\n",
        "rf_r2 = r2_score(y_test, rf_predictions)\n",
        "print(f\"R² = {rf_r2:.2f}\")"
      ]
    },
    {
      "cell_type": "code",
      "execution_count": null,
      "metadata": {
        "colab": {
          "base_uri": "https://localhost:8080/"
        },
        "id": "Chx90N9onG12",
        "outputId": "11700f96-688c-44de-d24e-8fde6610a859"
      },
      "outputs": [
        {
          "output_type": "stream",
          "name": "stdout",
          "text": [
            "R² = 0.97\n"
          ]
        }
      ],
      "source": [
        "\n",
        "from sklearn.metrics import r2_score\n",
        "\n",
        "rf_r2 = r2_score(y_test, rf_predictions)\n",
        "print(f\"R² = {rf_r2:.2f}\")"
      ]
    },
    {
      "cell_type": "code",
      "execution_count": null,
      "metadata": {
        "id": "PweK-6gYY_ui"
      },
      "outputs": [],
      "source": []
    },
    {
      "cell_type": "markdown",
      "metadata": {
        "id": "tvPHyd4tZAwa"
      },
      "source": [
        "# **rf**"
      ]
    },
    {
      "cell_type": "code",
      "execution_count": null,
      "metadata": {
        "id": "9EwrfWhhZEq4"
      },
      "outputs": [],
      "source": [
        "import pandas as pd\n",
        "from sklearn.ensemble import RandomForestRegressor\n",
        "import matplotlib.pyplot as plt\n",
        "from sklearn.metrics import mean_squared_error\n",
        "from sklearn.metrics import r2_score\n",
        "from sklearn.ensemble import RandomForestRegressor\n",
        "from sklearn.model_selection import GridSearchCV"
      ]
    },
    {
      "cell_type": "code",
      "execution_count": null,
      "metadata": {
        "id": "JPQThAzaZKPu"
      },
      "outputs": [],
      "source": [
        "# Define the parameter grid\n",
        "param_grid = {\n",
        "    'n_estimators': [100, 200, 300, 400, 500],\n",
        "    'max_depth': [5, 10, 15, 20, 25, 30],\n",
        "    'min_samples_split': [2, 5, 10],\n",
        "    'min_samples_leaf': [1, 2, 4]\n",
        "}"
      ]
    },
    {
      "cell_type": "code",
      "execution_count": null,
      "metadata": {
        "id": "E08rUKiOZKMV"
      },
      "outputs": [],
      "source": [
        "# Create the random forest model\n",
        "rf = RandomForestRegressor(random_state=42)"
      ]
    },
    {
      "cell_type": "code",
      "execution_count": null,
      "metadata": {
        "colab": {
          "base_uri": "https://localhost:8080/",
          "height": 172
        },
        "id": "C1wCdAfVZKI5",
        "outputId": "ef707a58-6955-4c86-bcfd-3eb63b9ca8e6"
      },
      "outputs": [
        {
          "output_type": "stream",
          "name": "stderr",
          "text": [
            "/usr/local/lib/python3.10/dist-packages/joblib/externals/loky/backend/fork_exec.py:38: RuntimeWarning: os.fork() was called. os.fork() is incompatible with multithreaded code, and JAX is multithreaded, so this will likely lead to a deadlock.\n",
            "  pid = os.fork()\n"
          ]
        },
        {
          "output_type": "execute_result",
          "data": {
            "text/plain": [
              "GridSearchCV(cv=5, estimator=RandomForestRegressor(random_state=42), n_jobs=-1,\n",
              "             param_grid={'max_depth': [5, 10, 15, 20, 25, 30],\n",
              "                         'min_samples_leaf': [1, 2, 4],\n",
              "                         'min_samples_split': [2, 5, 10],\n",
              "                         'n_estimators': [100, 200, 300, 400, 500]},\n",
              "             scoring='r2')"
            ],
            "text/html": [
              "<style>#sk-container-id-5 {color: black;background-color: white;}#sk-container-id-5 pre{padding: 0;}#sk-container-id-5 div.sk-toggleable {background-color: white;}#sk-container-id-5 label.sk-toggleable__label {cursor: pointer;display: block;width: 100%;margin-bottom: 0;padding: 0.3em;box-sizing: border-box;text-align: center;}#sk-container-id-5 label.sk-toggleable__label-arrow:before {content: \"▸\";float: left;margin-right: 0.25em;color: #696969;}#sk-container-id-5 label.sk-toggleable__label-arrow:hover:before {color: black;}#sk-container-id-5 div.sk-estimator:hover label.sk-toggleable__label-arrow:before {color: black;}#sk-container-id-5 div.sk-toggleable__content {max-height: 0;max-width: 0;overflow: hidden;text-align: left;background-color: #f0f8ff;}#sk-container-id-5 div.sk-toggleable__content pre {margin: 0.2em;color: black;border-radius: 0.25em;background-color: #f0f8ff;}#sk-container-id-5 input.sk-toggleable__control:checked~div.sk-toggleable__content {max-height: 200px;max-width: 100%;overflow: auto;}#sk-container-id-5 input.sk-toggleable__control:checked~label.sk-toggleable__label-arrow:before {content: \"▾\";}#sk-container-id-5 div.sk-estimator input.sk-toggleable__control:checked~label.sk-toggleable__label {background-color: #d4ebff;}#sk-container-id-5 div.sk-label input.sk-toggleable__control:checked~label.sk-toggleable__label {background-color: #d4ebff;}#sk-container-id-5 input.sk-hidden--visually {border: 0;clip: rect(1px 1px 1px 1px);clip: rect(1px, 1px, 1px, 1px);height: 1px;margin: -1px;overflow: hidden;padding: 0;position: absolute;width: 1px;}#sk-container-id-5 div.sk-estimator {font-family: monospace;background-color: #f0f8ff;border: 1px dotted black;border-radius: 0.25em;box-sizing: border-box;margin-bottom: 0.5em;}#sk-container-id-5 div.sk-estimator:hover {background-color: #d4ebff;}#sk-container-id-5 div.sk-parallel-item::after {content: \"\";width: 100%;border-bottom: 1px solid gray;flex-grow: 1;}#sk-container-id-5 div.sk-label:hover label.sk-toggleable__label {background-color: #d4ebff;}#sk-container-id-5 div.sk-serial::before {content: \"\";position: absolute;border-left: 1px solid gray;box-sizing: border-box;top: 0;bottom: 0;left: 50%;z-index: 0;}#sk-container-id-5 div.sk-serial {display: flex;flex-direction: column;align-items: center;background-color: white;padding-right: 0.2em;padding-left: 0.2em;position: relative;}#sk-container-id-5 div.sk-item {position: relative;z-index: 1;}#sk-container-id-5 div.sk-parallel {display: flex;align-items: stretch;justify-content: center;background-color: white;position: relative;}#sk-container-id-5 div.sk-item::before, #sk-container-id-5 div.sk-parallel-item::before {content: \"\";position: absolute;border-left: 1px solid gray;box-sizing: border-box;top: 0;bottom: 0;left: 50%;z-index: -1;}#sk-container-id-5 div.sk-parallel-item {display: flex;flex-direction: column;z-index: 1;position: relative;background-color: white;}#sk-container-id-5 div.sk-parallel-item:first-child::after {align-self: flex-end;width: 50%;}#sk-container-id-5 div.sk-parallel-item:last-child::after {align-self: flex-start;width: 50%;}#sk-container-id-5 div.sk-parallel-item:only-child::after {width: 0;}#sk-container-id-5 div.sk-dashed-wrapped {border: 1px dashed gray;margin: 0 0.4em 0.5em 0.4em;box-sizing: border-box;padding-bottom: 0.4em;background-color: white;}#sk-container-id-5 div.sk-label label {font-family: monospace;font-weight: bold;display: inline-block;line-height: 1.2em;}#sk-container-id-5 div.sk-label-container {text-align: center;}#sk-container-id-5 div.sk-container {/* jupyter's `normalize.less` sets `[hidden] { display: none; }` but bootstrap.min.css set `[hidden] { display: none !important; }` so we also need the `!important` here to be able to override the default hidden behavior on the sphinx rendered scikit-learn.org. See: https://github.com/scikit-learn/scikit-learn/issues/21755 */display: inline-block !important;position: relative;}#sk-container-id-5 div.sk-text-repr-fallback {display: none;}</style><div id=\"sk-container-id-5\" class=\"sk-top-container\"><div class=\"sk-text-repr-fallback\"><pre>GridSearchCV(cv=5, estimator=RandomForestRegressor(random_state=42), n_jobs=-1,\n",
              "             param_grid={&#x27;max_depth&#x27;: [5, 10, 15, 20, 25, 30],\n",
              "                         &#x27;min_samples_leaf&#x27;: [1, 2, 4],\n",
              "                         &#x27;min_samples_split&#x27;: [2, 5, 10],\n",
              "                         &#x27;n_estimators&#x27;: [100, 200, 300, 400, 500]},\n",
              "             scoring=&#x27;r2&#x27;)</pre><b>In a Jupyter environment, please rerun this cell to show the HTML representation or trust the notebook. <br />On GitHub, the HTML representation is unable to render, please try loading this page with nbviewer.org.</b></div><div class=\"sk-container\" hidden><div class=\"sk-item sk-dashed-wrapped\"><div class=\"sk-label-container\"><div class=\"sk-label sk-toggleable\"><input class=\"sk-toggleable__control sk-hidden--visually\" id=\"sk-estimator-id-9\" type=\"checkbox\" ><label for=\"sk-estimator-id-9\" class=\"sk-toggleable__label sk-toggleable__label-arrow\">GridSearchCV</label><div class=\"sk-toggleable__content\"><pre>GridSearchCV(cv=5, estimator=RandomForestRegressor(random_state=42), n_jobs=-1,\n",
              "             param_grid={&#x27;max_depth&#x27;: [5, 10, 15, 20, 25, 30],\n",
              "                         &#x27;min_samples_leaf&#x27;: [1, 2, 4],\n",
              "                         &#x27;min_samples_split&#x27;: [2, 5, 10],\n",
              "                         &#x27;n_estimators&#x27;: [100, 200, 300, 400, 500]},\n",
              "             scoring=&#x27;r2&#x27;)</pre></div></div></div><div class=\"sk-parallel\"><div class=\"sk-parallel-item\"><div class=\"sk-item\"><div class=\"sk-label-container\"><div class=\"sk-label sk-toggleable\"><input class=\"sk-toggleable__control sk-hidden--visually\" id=\"sk-estimator-id-10\" type=\"checkbox\" ><label for=\"sk-estimator-id-10\" class=\"sk-toggleable__label sk-toggleable__label-arrow\">estimator: RandomForestRegressor</label><div class=\"sk-toggleable__content\"><pre>RandomForestRegressor(random_state=42)</pre></div></div></div><div class=\"sk-serial\"><div class=\"sk-item\"><div class=\"sk-estimator sk-toggleable\"><input class=\"sk-toggleable__control sk-hidden--visually\" id=\"sk-estimator-id-11\" type=\"checkbox\" ><label for=\"sk-estimator-id-11\" class=\"sk-toggleable__label sk-toggleable__label-arrow\">RandomForestRegressor</label><div class=\"sk-toggleable__content\"><pre>RandomForestRegressor(random_state=42)</pre></div></div></div></div></div></div></div></div></div></div>"
            ]
          },
          "metadata": {},
          "execution_count": 141
        }
      ],
      "source": [
        "# Perform grid search\n",
        "grid_search_rf = GridSearchCV(rf, param_grid, cv=5, scoring='r2', n_jobs=-1)\n",
        "grid_search_rf.fit(X_train, y_train)"
      ]
    },
    {
      "cell_type": "markdown",
      "source": [
        "# **LSTM**"
      ],
      "metadata": {
        "id": "B2YTBoYE6rLy"
      }
    },
    {
      "cell_type": "code",
      "source": [
        "# Reshape input to be [samples, time steps, features]\n",
        "X_train = np.reshape(X_train, (X_train.shape[0], 1, X_train.shape[1]))\n",
        "X_test = np.reshape(X_test, (X_test.shape[0], 1, X_test.shape[1]))\n",
        "\n",
        "# Define LSTM model\n",
        "model = Sequential()\n",
        "model.add(LSTM(50, input_shape=(1, X_train.shape[2])))\n",
        "model.add(Dense(1))\n",
        "model.compile(loss='mean_squared_error', optimizer='adam')\n",
        "\n",
        "\n",
        "# Fit model\n",
        "model.fit(X_train, y_train, epochs=100, batch_size=1, verbose=2)\n"
      ],
      "metadata": {
        "colab": {
          "base_uri": "https://localhost:8080/"
        },
        "id": "Vkx5OICy62Ww",
        "outputId": "04cf8d0d-87c9-4a6d-a672-9270122a22ea"
      },
      "execution_count": null,
      "outputs": [
        {
          "output_type": "stream",
          "name": "stdout",
          "text": [
            "Epoch 1/100\n",
            "220/220 - 3s - loss: 4855.0249 - 3s/epoch - 15ms/step\n",
            "Epoch 2/100\n",
            "220/220 - 1s - loss: 4224.9966 - 561ms/epoch - 3ms/step\n",
            "Epoch 3/100\n",
            "220/220 - 1s - loss: 3629.8809 - 523ms/epoch - 2ms/step\n",
            "Epoch 4/100\n",
            "220/220 - 1s - loss: 3152.5574 - 557ms/epoch - 3ms/step\n",
            "Epoch 5/100\n",
            "220/220 - 0s - loss: 2741.0950 - 493ms/epoch - 2ms/step\n",
            "Epoch 6/100\n",
            "220/220 - 1s - loss: 2396.3711 - 545ms/epoch - 2ms/step\n",
            "Epoch 7/100\n",
            "220/220 - 1s - loss: 2090.6321 - 608ms/epoch - 3ms/step\n",
            "Epoch 8/100\n",
            "220/220 - 1s - loss: 1850.3779 - 613ms/epoch - 3ms/step\n",
            "Epoch 9/100\n",
            "220/220 - 1s - loss: 1656.3591 - 551ms/epoch - 3ms/step\n",
            "Epoch 10/100\n",
            "220/220 - 1s - loss: 1499.1968 - 561ms/epoch - 3ms/step\n",
            "Epoch 11/100\n",
            "220/220 - 1s - loss: 1371.8425 - 562ms/epoch - 3ms/step\n",
            "Epoch 12/100\n",
            "220/220 - 1s - loss: 1254.4656 - 507ms/epoch - 2ms/step\n",
            "Epoch 13/100\n",
            "220/220 - 1s - loss: 1168.0419 - 526ms/epoch - 2ms/step\n",
            "Epoch 14/100\n",
            "220/220 - 0s - loss: 1116.2374 - 498ms/epoch - 2ms/step\n",
            "Epoch 15/100\n",
            "220/220 - 1s - loss: 1129.1353 - 541ms/epoch - 2ms/step\n",
            "Epoch 16/100\n",
            "220/220 - 1s - loss: 1065.8605 - 502ms/epoch - 2ms/step\n",
            "Epoch 17/100\n",
            "220/220 - 1s - loss: 1016.9339 - 737ms/epoch - 3ms/step\n",
            "Epoch 18/100\n",
            "220/220 - 1s - loss: 975.6007 - 849ms/epoch - 4ms/step\n",
            "Epoch 19/100\n",
            "220/220 - 1s - loss: 949.5405 - 935ms/epoch - 4ms/step\n",
            "Epoch 20/100\n",
            "220/220 - 1s - loss: 935.6425 - 934ms/epoch - 4ms/step\n",
            "Epoch 21/100\n",
            "220/220 - 1s - loss: 911.6407 - 789ms/epoch - 4ms/step\n",
            "Epoch 22/100\n",
            "220/220 - 1s - loss: 887.9272 - 855ms/epoch - 4ms/step\n",
            "Epoch 23/100\n",
            "220/220 - 1s - loss: 899.7060 - 612ms/epoch - 3ms/step\n",
            "Epoch 24/100\n",
            "220/220 - 1s - loss: 868.4136 - 599ms/epoch - 3ms/step\n",
            "Epoch 25/100\n",
            "220/220 - 1s - loss: 852.1675 - 651ms/epoch - 3ms/step\n",
            "Epoch 26/100\n",
            "220/220 - 1s - loss: 848.3504 - 771ms/epoch - 4ms/step\n",
            "Epoch 27/100\n",
            "220/220 - 1s - loss: 846.1181 - 673ms/epoch - 3ms/step\n",
            "Epoch 28/100\n",
            "220/220 - 1s - loss: 825.0845 - 734ms/epoch - 3ms/step\n",
            "Epoch 29/100\n",
            "220/220 - 1s - loss: 803.1019 - 671ms/epoch - 3ms/step\n",
            "Epoch 30/100\n",
            "220/220 - 1s - loss: 798.7113 - 751ms/epoch - 3ms/step\n",
            "Epoch 31/100\n",
            "220/220 - 1s - loss: 784.7938 - 743ms/epoch - 3ms/step\n",
            "Epoch 32/100\n",
            "220/220 - 1s - loss: 769.9956 - 721ms/epoch - 3ms/step\n",
            "Epoch 33/100\n",
            "220/220 - 1s - loss: 759.3206 - 678ms/epoch - 3ms/step\n",
            "Epoch 34/100\n",
            "220/220 - 1s - loss: 838.5652 - 714ms/epoch - 3ms/step\n",
            "Epoch 35/100\n",
            "220/220 - 1s - loss: 811.8774 - 737ms/epoch - 3ms/step\n",
            "Epoch 36/100\n",
            "220/220 - 1s - loss: 789.0682 - 728ms/epoch - 3ms/step\n",
            "Epoch 37/100\n",
            "220/220 - 1s - loss: 781.6057 - 1s/epoch - 5ms/step\n",
            "Epoch 38/100\n",
            "220/220 - 1s - loss: 770.0043 - 1s/epoch - 5ms/step\n",
            "Epoch 39/100\n",
            "220/220 - 1s - loss: 780.4643 - 1s/epoch - 5ms/step\n",
            "Epoch 40/100\n",
            "220/220 - 1s - loss: 775.8671 - 1s/epoch - 5ms/step\n",
            "Epoch 41/100\n",
            "220/220 - 1s - loss: 760.6815 - 1s/epoch - 5ms/step\n",
            "Epoch 42/100\n",
            "220/220 - 1s - loss: 777.6663 - 742ms/epoch - 3ms/step\n",
            "Epoch 43/100\n",
            "220/220 - 1s - loss: 736.1994 - 816ms/epoch - 4ms/step\n",
            "Epoch 44/100\n",
            "220/220 - 1s - loss: 740.2665 - 865ms/epoch - 4ms/step\n",
            "Epoch 45/100\n",
            "220/220 - 1s - loss: 718.1512 - 841ms/epoch - 4ms/step\n",
            "Epoch 46/100\n",
            "220/220 - 1s - loss: 748.0053 - 812ms/epoch - 4ms/step\n",
            "Epoch 47/100\n",
            "220/220 - 1s - loss: 757.6035 - 887ms/epoch - 4ms/step\n",
            "Epoch 48/100\n",
            "220/220 - 1s - loss: 777.5486 - 874ms/epoch - 4ms/step\n",
            "Epoch 49/100\n",
            "220/220 - 1s - loss: 764.2726 - 824ms/epoch - 4ms/step\n",
            "Epoch 50/100\n",
            "220/220 - 1s - loss: 745.0356 - 783ms/epoch - 4ms/step\n",
            "Epoch 51/100\n",
            "220/220 - 1s - loss: 736.3958 - 725ms/epoch - 3ms/step\n",
            "Epoch 52/100\n",
            "220/220 - 1s - loss: 724.0018 - 701ms/epoch - 3ms/step\n",
            "Epoch 53/100\n",
            "220/220 - 1s - loss: 752.9918 - 644ms/epoch - 3ms/step\n",
            "Epoch 54/100\n",
            "220/220 - 1s - loss: 744.5791 - 928ms/epoch - 4ms/step\n",
            "Epoch 55/100\n",
            "220/220 - 1s - loss: 737.0912 - 1s/epoch - 5ms/step\n",
            "Epoch 56/100\n",
            "220/220 - 1s - loss: 729.1254 - 1s/epoch - 5ms/step\n",
            "Epoch 57/100\n",
            "220/220 - 1s - loss: 717.3099 - 1s/epoch - 5ms/step\n",
            "Epoch 58/100\n",
            "220/220 - 1s - loss: 720.6767 - 1s/epoch - 6ms/step\n",
            "Epoch 59/100\n",
            "220/220 - 1s - loss: 717.3507 - 790ms/epoch - 4ms/step\n",
            "Epoch 60/100\n",
            "220/220 - 1s - loss: 738.7681 - 770ms/epoch - 3ms/step\n",
            "Epoch 61/100\n",
            "220/220 - 1s - loss: 732.2145 - 1s/epoch - 5ms/step\n",
            "Epoch 62/100\n",
            "220/220 - 1s - loss: 715.7526 - 1s/epoch - 5ms/step\n",
            "Epoch 63/100\n",
            "220/220 - 1s - loss: 715.8262 - 1s/epoch - 5ms/step\n",
            "Epoch 64/100\n",
            "220/220 - 1s - loss: 715.7217 - 1s/epoch - 6ms/step\n",
            "Epoch 65/100\n",
            "220/220 - 1s - loss: 695.4409 - 801ms/epoch - 4ms/step\n",
            "Epoch 66/100\n",
            "220/220 - 1s - loss: 703.4242 - 677ms/epoch - 3ms/step\n",
            "Epoch 67/100\n",
            "220/220 - 1s - loss: 695.5386 - 780ms/epoch - 4ms/step\n",
            "Epoch 68/100\n",
            "220/220 - 1s - loss: 691.6524 - 703ms/epoch - 3ms/step\n",
            "Epoch 69/100\n",
            "220/220 - 1s - loss: 682.1584 - 837ms/epoch - 4ms/step\n",
            "Epoch 70/100\n",
            "220/220 - 1s - loss: 685.0259 - 1s/epoch - 5ms/step\n",
            "Epoch 71/100\n",
            "220/220 - 1s - loss: 695.3525 - 1s/epoch - 5ms/step\n",
            "Epoch 72/100\n",
            "220/220 - 1s - loss: 678.7427 - 1s/epoch - 5ms/step\n",
            "Epoch 73/100\n",
            "220/220 - 1s - loss: 683.7109 - 1s/epoch - 5ms/step\n",
            "Epoch 74/100\n",
            "220/220 - 1s - loss: 665.7474 - 1s/epoch - 5ms/step\n",
            "Epoch 75/100\n",
            "220/220 - 1s - loss: 678.8455 - 776ms/epoch - 4ms/step\n",
            "Epoch 76/100\n",
            "220/220 - 1s - loss: 662.1021 - 878ms/epoch - 4ms/step\n",
            "Epoch 77/100\n",
            "220/220 - 1s - loss: 673.2889 - 770ms/epoch - 3ms/step\n",
            "Epoch 78/100\n",
            "220/220 - 1s - loss: 675.8595 - 783ms/epoch - 4ms/step\n",
            "Epoch 79/100\n",
            "220/220 - 1s - loss: 660.3756 - 858ms/epoch - 4ms/step\n",
            "Epoch 80/100\n",
            "220/220 - 1s - loss: 684.2549 - 998ms/epoch - 5ms/step\n",
            "Epoch 81/100\n",
            "220/220 - 1s - loss: 680.0506 - 980ms/epoch - 4ms/step\n",
            "Epoch 82/100\n",
            "220/220 - 1s - loss: 666.4490 - 877ms/epoch - 4ms/step\n",
            "Epoch 83/100\n",
            "220/220 - 1s - loss: 669.6575 - 872ms/epoch - 4ms/step\n",
            "Epoch 84/100\n",
            "220/220 - 1s - loss: 668.2147 - 803ms/epoch - 4ms/step\n",
            "Epoch 85/100\n",
            "220/220 - 1s - loss: 684.7267 - 890ms/epoch - 4ms/step\n",
            "Epoch 86/100\n",
            "220/220 - 1s - loss: 677.4327 - 1s/epoch - 5ms/step\n",
            "Epoch 87/100\n",
            "220/220 - 1s - loss: 663.5223 - 1s/epoch - 5ms/step\n",
            "Epoch 88/100\n",
            "220/220 - 1s - loss: 675.5717 - 1s/epoch - 5ms/step\n",
            "Epoch 89/100\n",
            "220/220 - 1s - loss: 664.1758 - 1s/epoch - 5ms/step\n",
            "Epoch 90/100\n",
            "220/220 - 1s - loss: 679.6132 - 1s/epoch - 5ms/step\n",
            "Epoch 91/100\n",
            "220/220 - 1s - loss: 684.7615 - 752ms/epoch - 3ms/step\n",
            "Epoch 92/100\n",
            "220/220 - 1s - loss: 660.1723 - 785ms/epoch - 4ms/step\n",
            "Epoch 93/100\n",
            "220/220 - 1s - loss: 654.3528 - 745ms/epoch - 3ms/step\n",
            "Epoch 94/100\n",
            "220/220 - 1s - loss: 653.3662 - 780ms/epoch - 4ms/step\n",
            "Epoch 95/100\n",
            "220/220 - 1s - loss: 662.5629 - 713ms/epoch - 3ms/step\n",
            "Epoch 96/100\n",
            "220/220 - 1s - loss: 654.7305 - 883ms/epoch - 4ms/step\n",
            "Epoch 97/100\n",
            "220/220 - 1s - loss: 664.2798 - 803ms/epoch - 4ms/step\n",
            "Epoch 98/100\n",
            "220/220 - 1s - loss: 650.4424 - 820ms/epoch - 4ms/step\n",
            "Epoch 99/100\n",
            "220/220 - 1s - loss: 659.1479 - 766ms/epoch - 3ms/step\n",
            "Epoch 100/100\n",
            "220/220 - 1s - loss: 653.2718 - 777ms/epoch - 4ms/step\n"
          ]
        },
        {
          "output_type": "execute_result",
          "data": {
            "text/plain": [
              "<keras.src.callbacks.History at 0x7a85a9a32470>"
            ]
          },
          "metadata": {},
          "execution_count": 142
        }
      ]
    },
    {
      "cell_type": "code",
      "source": [
        "# Make predictions\n",
        "lstm_predictions = model.predict(X_test)\n",
        "resultsLSTM = pd.DataFrame({'actual prices': y_test, 'lstm_predictions': lstm_predictions.flatten()})\n",
        "print(resultsLSTM)"
      ],
      "metadata": {
        "colab": {
          "base_uri": "https://localhost:8080/"
        },
        "id": "yB65Z2Ju8sLI",
        "outputId": "8ca374d4-4c73-4777-cdc4-80af52909f08"
      },
      "execution_count": null,
      "outputs": [
        {
          "output_type": "stream",
          "name": "stdout",
          "text": [
            "2/2 [==============================] - 1s 9ms/step\n",
            "            actual prices  lstm_predictions\n",
            "MONTH                                      \n",
            "2002-07-01      25.790001         55.798805\n",
            "2010-05-01      75.669998         80.261452\n",
            "2016-05-01      47.730000         67.237045\n",
            "2010-08-01      78.220001         80.126419\n",
            "2018-01-01      69.930000         70.779533\n",
            "2019-07-01      63.919998         71.889885\n",
            "2012-01-01     111.430000         79.698021\n",
            "2016-12-01      53.820000         75.879997\n",
            "2021-03-01      65.760002         54.053925\n",
            "2011-12-01     108.559998         80.261681\n",
            "2006-08-01      74.500000         44.824097\n",
            "2011-01-01      97.500000         80.087593\n",
            "2019-10-01      60.860001         74.930336\n",
            "2022-02-01     100.709999         36.832485\n",
            "2012-09-01     112.059998         72.000694\n",
            "2011-11-01     112.410004         80.225227\n",
            "2021-09-01      73.849998         53.643791\n",
            "2005-01-01      44.389999         78.161865\n",
            "2007-01-01      55.779999         79.900093\n",
            "2019-12-01      69.739998         53.820221\n",
            "2003-10-01      28.940001         66.167725\n",
            "2006-02-01      61.590000         80.152321\n",
            "2015-01-01      47.910000         79.409027\n",
            "2013-09-01     112.949997         80.223427\n",
            "2022-01-01      88.209999         76.312263\n",
            "2017-07-01      47.959999         76.468697\n",
            "2009-10-01      73.629997         80.297325\n",
            "2003-07-01      27.910000         51.302528\n",
            "2000-10-01      31.799999         75.314796\n",
            "2011-09-01     115.029999         80.253792\n",
            "2001-11-01      19.000000         33.034679\n",
            "2009-02-01      44.070000         77.580383\n",
            "2002-01-01      19.639999         33.136459\n",
            "2010-01-01      76.790001         80.278221\n",
            "2014-08-01     100.860001         56.378532\n",
            "2006-04-01      70.209999         80.177841\n",
            "2019-04-01      71.150002         56.445812\n",
            "2019-06-01      64.830002         76.266937\n",
            "2000-07-01      28.799999         49.635731\n",
            "2005-09-01      63.299999         73.816734\n",
            "2003-11-01      28.940001         56.439312\n",
            "2010-07-01      76.489998         80.055969\n",
            "2005-07-01      57.299999         33.677486\n",
            "2002-02-01      19.730000         39.624847\n",
            "2009-07-01      65.209999         80.206627\n",
            "2017-03-01      51.400002         75.109764\n",
            "2001-08-01      25.959999         67.623093\n",
            "2016-10-01      49.790001         62.617783\n",
            "2014-01-01     109.959999         79.591446\n",
            "2017-01-01      54.840000         76.466362\n",
            "2007-03-01      64.300003         80.312119\n",
            "2012-11-01     109.360001         79.590439\n",
            "2013-04-01     102.639999         80.258629\n",
            "2001-04-01      25.650000         50.408909\n",
            "2013-03-01     108.870003         78.647408\n",
            "2000-11-01      33.060001         46.475620\n"
          ]
        }
      ]
    },
    {
      "cell_type": "code",
      "source": [
        "plt.figure(figsize=(8, 6))\n",
        "plt.scatter(y_test, lstm_predictions, color='blue')\n",
        "plt.plot(y_test, y_test, color='red', linestyle='-', linewidth=1)\n",
        "plt.xlabel('Actual values ')\n",
        "plt.ylabel('Predicted values ')\n",
        "plt.title('Actual values vs predicted values')\n",
        "plt.show()"
      ],
      "metadata": {
        "colab": {
          "base_uri": "https://localhost:8080/",
          "height": 564
        },
        "id": "trkPQ7S9c0XH",
        "outputId": "6ec42371-1cdc-4184-dc8a-fab104211574"
      },
      "execution_count": null,
      "outputs": [
        {
          "output_type": "display_data",
          "data": {
            "text/plain": [
              "<Figure size 800x600 with 1 Axes>"
            ],
            "image/png": "[encoded data removed]"
          },
          "metadata": {}
        }
      ]
    },
    {
      "cell_type": "code",
      "source": [
        "# Calculate RMSE and R2 on test set\n",
        "lstm_rmse = mean_squared_error(y_test, lstm_predictions, squared=False)\n",
        "print(f\"RMSE on test set: {lstm_rmse}\")\n",
        "lstm_r2 = r2_score(y_test, lstm_predictions)\n",
        "print(f\"R² = {lstm_r2:.2f}\")"
      ],
      "metadata": {
        "colab": {
          "base_uri": "https://localhost:8080/"
        },
        "id": "d889TafG82hC",
        "outputId": "7654dd46-fbf8-42b6-baf3-e5b4d125ecd4"
      },
      "execution_count": null,
      "outputs": [
        {
          "output_type": "stream",
          "name": "stdout",
          "text": [
            "RMSE on test set: 25.48276138305664\n",
            "R² = 0.22\n"
          ]
        }
      ]
    },
    {
      "cell_type": "markdown",
      "source": [
        "# **CNN**"
      ],
      "metadata": {
        "id": "qHcynpYD7xcp"
      }
    },
    {
      "cell_type": "code",
      "source": [
        "import numpy as np\n",
        "import pandas as pd\n",
        "from sklearn.model_selection import train_test_split\n",
        "from tensorflow.keras.models import Sequential\n",
        "from tensorflow.keras.layers import Conv1D, Flatten, Dense\n",
        "\n",
        "\n",
        "# Prepare the data\n",
        "X = data.iloc[:, :-1].values  # Input features\n",
        "y = data.iloc[:, -1].values   # Target variable (oil prices)\n",
        "\n",
        "# Split the data into training and testing sets\n",
        "X_train, X_test, y_train, y_test = train_test_split(X, y, test_size=0.2, random_state=42)\n",
        "\n",
        "# Reshape the input data for the CNN\n",
        "X_train = np.expand_dims(X_train, axis=2)\n",
        "X_test = np.expand_dims(X_test, axis=2)\n",
        "# Define the CNN model\n",
        "cnn = Sequential()\n",
        "cnn.add(Conv1D(filters=32, kernel_size=3, activation='relu', input_shape=(X_train.shape[1], 1)))\n",
        "cnn.add(Flatten())\n",
        "cnn.add(Dense(1, activation='linear'))\n",
        "# Compile the model\n",
        "cnn.compile(optimizer='adam', loss='mean_squared_error')\n",
        "# Train the model\n",
        "cnn.fit(X_train, y_train, epochs=50, batch_size=32, validation_data=(X_test, y_test))\n",
        "# Evaluate the model\n",
        "loss = model.evaluate(X_test, y_test)\n",
        "print('Test loss:', loss)"
      ],
      "metadata": {
        "colab": {
          "base_uri": "https://localhost:8080/",
          "height": 1000
        },
        "id": "NAGa3_7ecicF",
        "outputId": "d864e628-46c4-42c3-f198-fdfdee1b814d"
      },
      "execution_count": null,
      "outputs": [
        {
          "output_type": "stream",
          "name": "stdout",
          "text": [
            "Epoch 1/50\n",
            "7/7 [==============================] - 3s 72ms/step - loss: 8142.7466 - val_loss: 6785.0757\n",
            "Epoch 2/50\n",
            "7/7 [==============================] - 0s 16ms/step - loss: 6248.6919 - val_loss: 5146.3774\n",
            "Epoch 3/50\n",
            "7/7 [==============================] - 0s 16ms/step - loss: 4707.6235 - val_loss: 3822.1003\n",
            "Epoch 4/50\n",
            "7/7 [==============================] - 0s 14ms/step - loss: 3499.3020 - val_loss: 2799.5630\n",
            "Epoch 5/50\n",
            "7/7 [==============================] - 0s 15ms/step - loss: 2587.0024 - val_loss: 2053.1228\n",
            "Epoch 6/50\n",
            "7/7 [==============================] - 0s 15ms/step - loss: 1936.8387 - val_loss: 1531.2628\n",
            "Epoch 7/50\n",
            "7/7 [==============================] - 0s 16ms/step - loss: 1490.2584 - val_loss: 1198.8323\n",
            "Epoch 8/50\n",
            "7/7 [==============================] - 0s 17ms/step - loss: 1235.4940 - val_loss: 1004.8940\n",
            "Epoch 9/50\n",
            "7/7 [==============================] - 0s 18ms/step - loss: 1088.0409 - val_loss: 912.1365\n",
            "Epoch 10/50\n",
            "7/7 [==============================] - 0s 25ms/step - loss: 1036.3422 - val_loss: 873.1874\n",
            "Epoch 11/50\n",
            "7/7 [==============================] - 0s 22ms/step - loss: 1015.1515 - val_loss: 859.6695\n",
            "Epoch 12/50\n",
            "7/7 [==============================] - 0s 23ms/step - loss: 1008.4977 - val_loss: 853.1525\n",
            "Epoch 13/50\n",
            "7/7 [==============================] - 0s 15ms/step - loss: 1002.4089 - val_loss: 846.6113\n",
            "Epoch 14/50\n",
            "7/7 [==============================] - 0s 15ms/step - loss: 993.7597 - val_loss: 839.9259\n",
            "Epoch 15/50\n",
            "7/7 [==============================] - 0s 18ms/step - loss: 985.6017 - val_loss: 833.9003\n",
            "Epoch 16/50\n",
            "7/7 [==============================] - 0s 20ms/step - loss: 978.2625 - val_loss: 829.3506\n",
            "Epoch 17/50\n",
            "7/7 [==============================] - 0s 28ms/step - loss: 971.3431 - val_loss: 824.8358\n",
            "Epoch 18/50\n",
            "7/7 [==============================] - 0s 17ms/step - loss: 964.8999 - val_loss: 819.8583\n",
            "Epoch 19/50\n",
            "7/7 [==============================] - 0s 15ms/step - loss: 959.7220 - val_loss: 814.2553\n",
            "Epoch 20/50\n",
            "7/7 [==============================] - 0s 13ms/step - loss: 952.1216 - val_loss: 809.2880\n",
            "Epoch 21/50\n",
            "7/7 [==============================] - 0s 16ms/step - loss: 945.9503 - val_loss: 804.0649\n",
            "Epoch 22/50\n",
            "7/7 [==============================] - 0s 16ms/step - loss: 937.5937 - val_loss: 798.0957\n",
            "Epoch 23/50\n",
            "7/7 [==============================] - 0s 18ms/step - loss: 929.1967 - val_loss: 790.3763\n",
            "Epoch 24/50\n",
            "7/7 [==============================] - 0s 19ms/step - loss: 918.8942 - val_loss: 781.5602\n",
            "Epoch 25/50\n",
            "7/7 [==============================] - 0s 24ms/step - loss: 909.1462 - val_loss: 774.4014\n",
            "Epoch 26/50\n",
            "7/7 [==============================] - 0s 24ms/step - loss: 903.4165 - val_loss: 766.1611\n",
            "Epoch 27/50\n",
            "7/7 [==============================] - 0s 12ms/step - loss: 889.1717 - val_loss: 757.9372\n",
            "Epoch 28/50\n",
            "7/7 [==============================] - 0s 12ms/step - loss: 876.2556 - val_loss: 745.9780\n",
            "Epoch 29/50\n",
            "7/7 [==============================] - 0s 13ms/step - loss: 862.4800 - val_loss: 731.9499\n",
            "Epoch 30/50\n",
            "7/7 [==============================] - 0s 14ms/step - loss: 848.0392 - val_loss: 720.3238\n",
            "Epoch 31/50\n",
            "7/7 [==============================] - 0s 14ms/step - loss: 836.9686 - val_loss: 712.3086\n",
            "Epoch 32/50\n",
            "7/7 [==============================] - 0s 14ms/step - loss: 827.3772 - val_loss: 707.6772\n",
            "Epoch 33/50\n",
            "7/7 [==============================] - 0s 13ms/step - loss: 821.5873 - val_loss: 703.0714\n",
            "Epoch 34/50\n",
            "7/7 [==============================] - 0s 16ms/step - loss: 814.5776 - val_loss: 698.6263\n",
            "Epoch 35/50\n",
            "7/7 [==============================] - 0s 22ms/step - loss: 809.6160 - val_loss: 694.6481\n",
            "Epoch 36/50\n",
            "7/7 [==============================] - 0s 13ms/step - loss: 803.0412 - val_loss: 690.1729\n",
            "Epoch 37/50\n",
            "7/7 [==============================] - 0s 14ms/step - loss: 796.7564 - val_loss: 685.2480\n",
            "Epoch 38/50\n",
            "7/7 [==============================] - 0s 16ms/step - loss: 791.7005 - val_loss: 680.3969\n",
            "Epoch 39/50\n",
            "7/7 [==============================] - 0s 12ms/step - loss: 784.1497 - val_loss: 673.9770\n",
            "Epoch 40/50\n",
            "7/7 [==============================] - 0s 13ms/step - loss: 777.4227 - val_loss: 669.0620\n",
            "Epoch 41/50\n",
            "7/7 [==============================] - 0s 13ms/step - loss: 771.3713 - val_loss: 664.1893\n",
            "Epoch 42/50\n",
            "7/7 [==============================] - 0s 11ms/step - loss: 764.5800 - val_loss: 659.5883\n",
            "Epoch 43/50\n",
            "7/7 [==============================] - 0s 16ms/step - loss: 760.9287 - val_loss: 656.0063\n",
            "Epoch 44/50\n",
            "7/7 [==============================] - 0s 16ms/step - loss: 757.1373 - val_loss: 652.2145\n",
            "Epoch 45/50\n",
            "7/7 [==============================] - 0s 19ms/step - loss: 753.5968 - val_loss: 649.0928\n",
            "Epoch 46/50\n",
            "7/7 [==============================] - 0s 13ms/step - loss: 747.7856 - val_loss: 645.5302\n",
            "Epoch 47/50\n",
            "7/7 [==============================] - 0s 11ms/step - loss: 744.7114 - val_loss: 642.3185\n",
            "Epoch 48/50\n",
            "7/7 [==============================] - 0s 15ms/step - loss: 740.3356 - val_loss: 639.2334\n",
            "Epoch 49/50\n",
            "7/7 [==============================] - 0s 15ms/step - loss: 735.3205 - val_loss: 636.0034\n",
            "Epoch 50/50\n",
            "7/7 [==============================] - 0s 14ms/step - loss: 732.3528 - val_loss: 633.3710\n"
          ]
        },
        {
          "output_type": "error",
          "ename": "ValueError",
          "evalue": "in user code:\n\n    File \"/usr/local/lib/python3.10/dist-packages/keras/src/engine/training.py\", line 2066, in test_function  *\n        return step_function(self, iterator)\n    File \"/usr/local/lib/python3.10/dist-packages/keras/src/engine/training.py\", line 2049, in step_function  **\n        outputs = model.distribute_strategy.run(run_step, args=(data,))\n    File \"/usr/local/lib/python3.10/dist-packages/keras/src/engine/training.py\", line 2037, in run_step  **\n        outputs = model.test_step(data)\n    File \"/usr/local/lib/python3.10/dist-packages/keras/src/engine/training.py\", line 1917, in test_step\n        y_pred = self(x, training=False)\n    File \"/usr/local/lib/python3.10/dist-packages/keras/src/utils/traceback_utils.py\", line 70, in error_handler\n        raise e.with_traceback(filtered_tb) from None\n    File \"/usr/local/lib/python3.10/dist-packages/keras/src/engine/input_spec.py\", line 298, in assert_input_compatibility\n        raise ValueError(\n\n    ValueError: Input 0 of layer \"sequential_10\" is incompatible with the layer: expected shape=(None, 1, 5), found shape=(None, 5, 1)\n",
          "traceback": [
            "\u001b[0;31m---------------------------------------------------------------------------\u001b[0m",
            "\u001b[0;31mValueError\u001b[0m                                Traceback (most recent call last)",
            "\u001b[0;32m<ipython-input-146-1bb596d4e941>\u001b[0m in \u001b[0;36m<cell line: 28>\u001b[0;34m()\u001b[0m\n\u001b[1;32m     26\u001b[0m \u001b[0mcnn\u001b[0m\u001b[0;34m.\u001b[0m\u001b[0mfit\u001b[0m\u001b[0;34m(\u001b[0m\u001b[0mX_train\u001b[0m\u001b[0;34m,\u001b[0m \u001b[0my_train\u001b[0m\u001b[0;34m,\u001b[0m \u001b[0mepochs\u001b[0m\u001b[0;34m=\u001b[0m\u001b[0;36m50\u001b[0m\u001b[0;34m,\u001b[0m \u001b[0mbatch_size\u001b[0m\u001b[0;34m=\u001b[0m\u001b[0;36m32\u001b[0m\u001b[0;34m,\u001b[0m \u001b[0mvalidation_data\u001b[0m\u001b[0;34m=\u001b[0m\u001b[0;34m(\u001b[0m\u001b[0mX_test\u001b[0m\u001b[0;34m,\u001b[0m \u001b[0my_test\u001b[0m\u001b[0;34m)\u001b[0m\u001b[0;34m)\u001b[0m\u001b[0;34m\u001b[0m\u001b[0;34m\u001b[0m\u001b[0m\n\u001b[1;32m     27\u001b[0m \u001b[0;31m# Evaluate the model\u001b[0m\u001b[0;34m\u001b[0m\u001b[0;34m\u001b[0m\u001b[0m\n\u001b[0;32m---> 28\u001b[0;31m \u001b[0mloss\u001b[0m \u001b[0;34m=\u001b[0m \u001b[0mmodel\u001b[0m\u001b[0;34m.\u001b[0m\u001b[0mevaluate\u001b[0m\u001b[0;34m(\u001b[0m\u001b[0mX_test\u001b[0m\u001b[0;34m,\u001b[0m \u001b[0my_test\u001b[0m\u001b[0;34m)\u001b[0m\u001b[0;34m\u001b[0m\u001b[0;34m\u001b[0m\u001b[0m\n\u001b[0m\u001b[1;32m     29\u001b[0m \u001b[0mprint\u001b[0m\u001b[0;34m(\u001b[0m\u001b[0;34m'Test loss:'\u001b[0m\u001b[0;34m,\u001b[0m \u001b[0mloss\u001b[0m\u001b[0;34m)\u001b[0m\u001b[0;34m\u001b[0m\u001b[0;34m\u001b[0m\u001b[0m\n",
            "\u001b[0;32m/usr/local/lib/python3.10/dist-packages/keras/src/utils/traceback_utils.py\u001b[0m in \u001b[0;36merror_handler\u001b[0;34m(*args, **kwargs)\u001b[0m\n\u001b[1;32m     68\u001b[0m             \u001b[0;31m# To get the full stack trace, call:\u001b[0m\u001b[0;34m\u001b[0m\u001b[0;34m\u001b[0m\u001b[0m\n\u001b[1;32m     69\u001b[0m             \u001b[0;31m# `tf.debugging.disable_traceback_filtering()`\u001b[0m\u001b[0;34m\u001b[0m\u001b[0;34m\u001b[0m\u001b[0m\n\u001b[0;32m---> 70\u001b[0;31m             \u001b[0;32mraise\u001b[0m \u001b[0me\u001b[0m\u001b[0;34m.\u001b[0m\u001b[0mwith_traceback\u001b[0m\u001b[0;34m(\u001b[0m\u001b[0mfiltered_tb\u001b[0m\u001b[0;34m)\u001b[0m \u001b[0;32mfrom\u001b[0m \u001b[0;32mNone\u001b[0m\u001b[0;34m\u001b[0m\u001b[0;34m\u001b[0m\u001b[0m\n\u001b[0m\u001b[1;32m     71\u001b[0m         \u001b[0;32mfinally\u001b[0m\u001b[0;34m:\u001b[0m\u001b[0;34m\u001b[0m\u001b[0;34m\u001b[0m\u001b[0m\n\u001b[1;32m     72\u001b[0m             \u001b[0;32mdel\u001b[0m \u001b[0mfiltered_tb\u001b[0m\u001b[0;34m\u001b[0m\u001b[0;34m\u001b[0m\u001b[0m\n",
            "\u001b[0;32m/usr/local/lib/python3.10/dist-packages/keras/src/engine/training.py\u001b[0m in \u001b[0;36mtf__test_function\u001b[0;34m(iterator)\u001b[0m\n\u001b[1;32m     13\u001b[0m                 \u001b[0;32mtry\u001b[0m\u001b[0;34m:\u001b[0m\u001b[0;34m\u001b[0m\u001b[0;34m\u001b[0m\u001b[0m\n\u001b[1;32m     14\u001b[0m                     \u001b[0mdo_return\u001b[0m \u001b[0;34m=\u001b[0m \u001b[0;32mTrue\u001b[0m\u001b[0;34m\u001b[0m\u001b[0;34m\u001b[0m\u001b[0m\n\u001b[0;32m---> 15\u001b[0;31m                     \u001b[0mretval_\u001b[0m \u001b[0;34m=\u001b[0m \u001b[0mag__\u001b[0m\u001b[0;34m.\u001b[0m\u001b[0mconverted_call\u001b[0m\u001b[0;34m(\u001b[0m\u001b[0mag__\u001b[0m\u001b[0;34m.\u001b[0m\u001b[0mld\u001b[0m\u001b[0;34m(\u001b[0m\u001b[0mstep_function\u001b[0m\u001b[0;34m)\u001b[0m\u001b[0;34m,\u001b[0m \u001b[0;34m(\u001b[0m\u001b[0mag__\u001b[0m\u001b[0;34m.\u001b[0m\u001b[0mld\u001b[0m\u001b[0;34m(\u001b[0m\u001b[0mself\u001b[0m\u001b[0;34m)\u001b[0m\u001b[0;34m,\u001b[0m \u001b[0mag__\u001b[0m\u001b[0;34m.\u001b[0m\u001b[0mld\u001b[0m\u001b[0;34m(\u001b[0m\u001b[0miterator\u001b[0m\u001b[0;34m)\u001b[0m\u001b[0;34m)\u001b[0m\u001b[0;34m,\u001b[0m \u001b[0;32mNone\u001b[0m\u001b[0;34m,\u001b[0m \u001b[0mfscope\u001b[0m\u001b[0;34m)\u001b[0m\u001b[0;34m\u001b[0m\u001b[0;34m\u001b[0m\u001b[0m\n\u001b[0m\u001b[1;32m     16\u001b[0m                 \u001b[0;32mexcept\u001b[0m\u001b[0;34m:\u001b[0m\u001b[0;34m\u001b[0m\u001b[0;34m\u001b[0m\u001b[0m\n\u001b[1;32m     17\u001b[0m                     \u001b[0mdo_return\u001b[0m \u001b[0;34m=\u001b[0m \u001b[0;32mFalse\u001b[0m\u001b[0;34m\u001b[0m\u001b[0;34m\u001b[0m\u001b[0m\n",
            "\u001b[0;31mValueError\u001b[0m: in user code:\n\n    File \"/usr/local/lib/python3.10/dist-packages/keras/src/engine/training.py\", line 2066, in test_function  *\n        return step_function(self, iterator)\n    File \"/usr/local/lib/python3.10/dist-packages/keras/src/engine/training.py\", line 2049, in step_function  **\n        outputs = model.distribute_strategy.run(run_step, args=(data,))\n    File \"/usr/local/lib/python3.10/dist-packages/keras/src/engine/training.py\", line 2037, in run_step  **\n        outputs = model.test_step(data)\n    File \"/usr/local/lib/python3.10/dist-packages/keras/src/engine/training.py\", line 1917, in test_step\n        y_pred = self(x, training=False)\n    File \"/usr/local/lib/python3.10/dist-packages/keras/src/utils/traceback_utils.py\", line 70, in error_handler\n        raise e.with_traceback(filtered_tb) from None\n    File \"/usr/local/lib/python3.10/dist-packages/keras/src/engine/input_spec.py\", line 298, in assert_input_compatibility\n        raise ValueError(\n\n    ValueError: Input 0 of layer \"sequential_10\" is incompatible with the layer: expected shape=(None, 1, 5), found shape=(None, 5, 1)\n"
          ]
        }
      ]
    },
    {
      "cell_type": "code",
      "source": [
        "# Make predictions\n",
        "cnn_predictions = cnn.predict(X_test)\n",
        "# Reshape the predictions to be a 1D array\n",
        "cnn_predictions = cnn_predictions.flatten()\n",
        "resultscnn = pd.DataFrame({'actual prices': y_test, 'CNN predictionds': cnn_predictions})\n",
        "print(resultscnn)"
      ],
      "metadata": {
        "colab": {
          "base_uri": "https://localhost:8080/"
        },
        "id": "U0YIEj8NwAe9",
        "outputId": "be39e3c6-25eb-4ba0-d529-39fe6acbc78e"
      },
      "execution_count": null,
      "outputs": [
        {
          "output_type": "stream",
          "name": "stdout",
          "text": [
            "2/2 [==============================] - 0s 6ms/step\n",
            "    actual prices  CNN predictionds\n",
            "0           25.79         56.127914\n",
            "1           75.67         67.192451\n",
            "2           47.73         70.750305\n",
            "3           78.22         68.073372\n",
            "4           69.93         73.225014\n",
            "5           63.92         73.750305\n",
            "6          111.43         69.832077\n",
            "7           53.82         73.389687\n",
            "8           65.76         68.024948\n",
            "9          108.56         69.764946\n",
            "10          74.50         62.209724\n",
            "11          97.50         68.601562\n",
            "12          60.86         74.966850\n",
            "13         100.71         69.561607\n",
            "14         112.06         69.079437\n",
            "15         112.41         69.857964\n",
            "16          73.85         70.166588\n",
            "17          44.39         64.987785\n",
            "18          55.78         66.107559\n",
            "19          69.74         73.138329\n",
            "20          28.94         61.183659\n",
            "21          61.59         67.526939\n",
            "22          47.91         72.076027\n",
            "23         112.95         70.313393\n",
            "24          88.21         76.125458\n",
            "25          47.96         74.352005\n",
            "26          73.63         66.720619\n",
            "27          27.91         56.968472\n",
            "28          31.80         59.367332\n",
            "29         115.03         69.041740\n",
            "30          19.00         38.378735\n",
            "31          44.07         64.952370\n",
            "32          19.64         50.329720\n",
            "33          76.79         66.883850\n",
            "34         100.86         67.706551\n",
            "35          70.21         67.838188\n",
            "36          71.15         72.270752\n",
            "37          64.83         74.490898\n",
            "38          28.80         56.946594\n",
            "39          63.30         65.070511\n",
            "40          28.94         59.745712\n",
            "41          76.49         67.961777\n",
            "42          57.30         58.621773\n",
            "43          19.73         53.194828\n",
            "44          65.21         66.504021\n",
            "45          51.40         72.732895\n",
            "46          25.96         58.807785\n",
            "47          49.79         71.999992\n",
            "48         109.96         70.496460\n",
            "49          54.84         73.443146\n",
            "50          64.30         67.148254\n",
            "51         109.36         69.993980\n",
            "52         102.64         70.206917\n",
            "53          25.65         56.979614\n",
            "54         108.87         69.288918\n",
            "55          33.06         57.074615\n"
          ]
        }
      ]
    },
    {
      "cell_type": "code",
      "source": [
        "plt.figure(figsize=(8, 6))\n",
        "plt.scatter(y_test, cnn_predictions, color='blue')\n",
        "plt.plot(y_test, y_test, color='red', linestyle='-', linewidth=1)\n",
        "plt.xlabel('Actual values ')\n",
        "plt.ylabel('Predicted values')\n",
        "plt.title(' Actual values vs Predicted values')\n",
        "plt.show()"
      ],
      "metadata": {
        "colab": {
          "base_uri": "https://localhost:8080/",
          "height": 564
        },
        "id": "vEo2rXJi-i1D",
        "outputId": "3a523e97-9938-4673-be46-6bced8ff2bea"
      },
      "execution_count": null,
      "outputs": [
        {
          "output_type": "display_data",
          "data": {
            "text/plain": [
              "<Figure size 800x600 with 1 Axes>"
            ],
            "image/png": "[encoded data removed]"
          },
          "metadata": {}
        }
      ]
    },
    {
      "cell_type": "code",
      "source": [
        "# Calculate RMSE on test set\n",
        "cnn_rmse = mean_squared_error(y_test, cnn_predictions, squared=False)\n",
        "print(f\"RMSE on test set: {cnn_rmse}\")\n",
        "cnn_r2 = r2_score(y_test, cnn_predictions)\n",
        "print(f\"R² = {cnn_r2:.2f}\")"
      ],
      "metadata": {
        "colab": {
          "base_uri": "https://localhost:8080/"
        },
        "id": "-zjbZ0wd-pzS",
        "outputId": "6c9359ee-a74c-4af4-fb80-65fcc15f92aa"
      },
      "execution_count": null,
      "outputs": [
        {
          "output_type": "stream",
          "name": "stdout",
          "text": [
            "RMSE on test set: 25.166862006735986\n",
            "R² = 0.24\n"
          ]
        }
      ]
    },
    {
      "cell_type": "markdown",
      "source": [
        "# **rf-xgb**"
      ],
      "metadata": {
        "id": "eb26H_OhIjyC"
      }
    },
    {
      "cell_type": "code",
      "source": [
        "import numpy as np\n",
        "from sklearn.ensemble import RandomForestRegressor\n",
        "from xgboost import XGBRegressor\n",
        "from sklearn.linear_model import LinearRegression\n",
        "\n",
        "# Train individual models\n",
        "rf = RandomForestRegressor()\n",
        "rf.fit(X_train, y_train)\n",
        "\n",
        "xgb = XGBRegressor()\n",
        "xgb.fit(X_train, y_train)\n",
        "\n",
        "# Combine predictions from individual models\n",
        "X_train_hybrid = np.column_stack((rf.predict(X_train), xgb.predict(X_train)))\n",
        "X_test_hybrid = np.column_stack((rf.predict(X_test), xgb.predict(X_test)))\n",
        "\n",
        "# Train hybrid model using Linear Regression\n",
        "rf_xgb = LinearRegression()\n",
        "rf_xgb.fit(X_train_hybrid, y_train)\n"
      ],
      "metadata": {
        "colab": {
          "base_uri": "https://localhost:8080/",
          "height": 75
        },
        "id": "JYUmPQn2IlbC",
        "outputId": "454030dc-081b-43eb-c878-4f5797e330ec"
      },
      "execution_count": null,
      "outputs": [
        {
          "output_type": "execute_result",
          "data": {
            "text/plain": [
              "LinearRegression()"
            ],
            "text/html": [
              "<style>#sk-container-id-6 {color: black;background-color: white;}#sk-container-id-6 pre{padding: 0;}#sk-container-id-6 div.sk-toggleable {background-color: white;}#sk-container-id-6 label.sk-toggleable__label {cursor: pointer;display: block;width: 100%;margin-bottom: 0;padding: 0.3em;box-sizing: border-box;text-align: center;}#sk-container-id-6 label.sk-toggleable__label-arrow:before {content: \"▸\";float: left;margin-right: 0.25em;color: #696969;}#sk-container-id-6 label.sk-toggleable__label-arrow:hover:before {color: black;}#sk-container-id-6 div.sk-estimator:hover label.sk-toggleable__label-arrow:before {color: black;}#sk-container-id-6 div.sk-toggleable__content {max-height: 0;max-width: 0;overflow: hidden;text-align: left;background-color: #f0f8ff;}#sk-container-id-6 div.sk-toggleable__content pre {margin: 0.2em;color: black;border-radius: 0.25em;background-color: #f0f8ff;}#sk-container-id-6 input.sk-toggleable__control:checked~div.sk-toggleable__content {max-height: 200px;max-width: 100%;overflow: auto;}#sk-container-id-6 input.sk-toggleable__control:checked~label.sk-toggleable__label-arrow:before {content: \"▾\";}#sk-container-id-6 div.sk-estimator input.sk-toggleable__control:checked~label.sk-toggleable__label {background-color: #d4ebff;}#sk-container-id-6 div.sk-label input.sk-toggleable__control:checked~label.sk-toggleable__label {background-color: #d4ebff;}#sk-container-id-6 input.sk-hidden--visually {border: 0;clip: rect(1px 1px 1px 1px);clip: rect(1px, 1px, 1px, 1px);height: 1px;margin: -1px;overflow: hidden;padding: 0;position: absolute;width: 1px;}#sk-container-id-6 div.sk-estimator {font-family: monospace;background-color: #f0f8ff;border: 1px dotted black;border-radius: 0.25em;box-sizing: border-box;margin-bottom: 0.5em;}#sk-container-id-6 div.sk-estimator:hover {background-color: #d4ebff;}#sk-container-id-6 div.sk-parallel-item::after {content: \"\";width: 100%;border-bottom: 1px solid gray;flex-grow: 1;}#sk-container-id-6 div.sk-label:hover label.sk-toggleable__label {background-color: #d4ebff;}#sk-container-id-6 div.sk-serial::before {content: \"\";position: absolute;border-left: 1px solid gray;box-sizing: border-box;top: 0;bottom: 0;left: 50%;z-index: 0;}#sk-container-id-6 div.sk-serial {display: flex;flex-direction: column;align-items: center;background-color: white;padding-right: 0.2em;padding-left: 0.2em;position: relative;}#sk-container-id-6 div.sk-item {position: relative;z-index: 1;}#sk-container-id-6 div.sk-parallel {display: flex;align-items: stretch;justify-content: center;background-color: white;position: relative;}#sk-container-id-6 div.sk-item::before, #sk-container-id-6 div.sk-parallel-item::before {content: \"\";position: absolute;border-left: 1px solid gray;box-sizing: border-box;top: 0;bottom: 0;left: 50%;z-index: -1;}#sk-container-id-6 div.sk-parallel-item {display: flex;flex-direction: column;z-index: 1;position: relative;background-color: white;}#sk-container-id-6 div.sk-parallel-item:first-child::after {align-self: flex-end;width: 50%;}#sk-container-id-6 div.sk-parallel-item:last-child::after {align-self: flex-start;width: 50%;}#sk-container-id-6 div.sk-parallel-item:only-child::after {width: 0;}#sk-container-id-6 div.sk-dashed-wrapped {border: 1px dashed gray;margin: 0 0.4em 0.5em 0.4em;box-sizing: border-box;padding-bottom: 0.4em;background-color: white;}#sk-container-id-6 div.sk-label label {font-family: monospace;font-weight: bold;display: inline-block;line-height: 1.2em;}#sk-container-id-6 div.sk-label-container {text-align: center;}#sk-container-id-6 div.sk-container {/* jupyter's `normalize.less` sets `[hidden] { display: none; }` but bootstrap.min.css set `[hidden] { display: none !important; }` so we also need the `!important` here to be able to override the default hidden behavior on the sphinx rendered scikit-learn.org. See: https://github.com/scikit-learn/scikit-learn/issues/21755 */display: inline-block !important;position: relative;}#sk-container-id-6 div.sk-text-repr-fallback {display: none;}</style><div id=\"sk-container-id-6\" class=\"sk-top-container\"><div class=\"sk-text-repr-fallback\"><pre>LinearRegression()</pre><b>In a Jupyter environment, please rerun this cell to show the HTML representation or trust the notebook. <br />On GitHub, the HTML representation is unable to render, please try loading this page with nbviewer.org.</b></div><div class=\"sk-container\" hidden><div class=\"sk-item\"><div class=\"sk-estimator sk-toggleable\"><input class=\"sk-toggleable__control sk-hidden--visually\" id=\"sk-estimator-id-12\" type=\"checkbox\" checked><label for=\"sk-estimator-id-12\" class=\"sk-toggleable__label sk-toggleable__label-arrow\">LinearRegression</label><div class=\"sk-toggleable__content\"><pre>LinearRegression()</pre></div></div></div></div></div>"
            ]
          },
          "metadata": {},
          "execution_count": 152
        }
      ]
    },
    {
      "cell_type": "code",
      "source": [
        "# Evaluate hybrid model on test set\n",
        "rf_xgb_predictions = rf_xgb.predict(X_test_hybrid)\n",
        "resultsrf_xgb = pd.DataFrame({'actual prices': y_test, 'rf_xgb_predictions': rf_xgb_predictions.flatten()})\n",
        "print(resultsrf_xgb)"
      ],
      "metadata": {
        "colab": {
          "base_uri": "https://localhost:8080/"
        },
        "id": "2_tDphrYIr4H",
        "outputId": "d43928d8-3463-45a5-9a18-8350544396e1"
      },
      "execution_count": null,
      "outputs": [
        {
          "output_type": "stream",
          "name": "stdout",
          "text": [
            "            actual prices  rf_xgb_predictions\n",
            "MONTH                                        \n",
            "2002-07-01          25.79           26.843921\n",
            "2010-05-01          75.67           80.066903\n",
            "2016-05-01          47.73           47.483521\n",
            "2010-08-01          78.22           73.790306\n",
            "2018-01-01          69.93           66.243522\n",
            "2019-07-01          63.92           63.294373\n",
            "2012-01-01         111.43          103.925914\n",
            "2016-12-01          53.82           46.835786\n",
            "2021-03-01          65.76           60.444120\n",
            "2011-12-01         108.56          108.523303\n",
            "2006-08-01          74.50           70.610557\n",
            "2011-01-01          97.50          106.968070\n",
            "2019-10-01          60.86           61.231954\n",
            "2022-02-01         100.71           98.572675\n",
            "2012-09-01         112.06          107.318886\n",
            "2011-11-01         112.41          107.968029\n",
            "2021-09-01          73.85           70.870672\n",
            "2005-01-01          44.39           46.573386\n",
            "2007-01-01          55.78           60.376319\n",
            "2019-12-01          69.74           68.024671\n",
            "2003-10-01          28.94           28.312280\n",
            "2006-02-01          61.59           64.585066\n",
            "2015-01-01          47.91           58.157259\n",
            "2013-09-01         112.95          107.664431\n",
            "2022-01-01          88.21           96.082337\n",
            "2017-07-01          47.96           56.288372\n",
            "2009-10-01          73.63           79.124048\n",
            "2003-07-01          27.91           29.593081\n",
            "2000-10-01          31.80           29.721596\n",
            "2011-09-01         115.03          103.090302\n",
            "2001-11-01          19.00           20.517142\n",
            "2009-02-01          44.07           47.856507\n",
            "2002-01-01          19.64           24.391650\n",
            "2010-01-01          76.79           80.447403\n",
            "2014-08-01         100.86          104.219507\n",
            "2006-04-01          70.21           68.623444\n",
            "2019-04-01          71.15           66.762769\n",
            "2019-06-01          64.83           71.170615\n",
            "2000-07-01          28.80           31.662301\n",
            "2005-09-01          63.30           60.695217\n",
            "2003-11-01          28.94           30.721743\n",
            "2010-07-01          76.49           74.066386\n",
            "2005-07-01          57.30           62.960886\n",
            "2002-02-01          19.73           23.420750\n",
            "2009-07-01          65.21           71.615180\n",
            "2017-03-01          51.40           53.589304\n",
            "2001-08-01          25.96           25.033939\n",
            "2016-10-01          49.79           45.567538\n",
            "2014-01-01         109.96          108.677850\n",
            "2017-01-01          54.84           55.714630\n",
            "2007-03-01          64.30           59.561023\n",
            "2012-11-01         109.36          110.658462\n",
            "2013-04-01         102.64          105.697184\n",
            "2001-04-01          25.65           28.299408\n",
            "2013-03-01         108.87          114.343991\n",
            "2000-11-01          33.06           43.605271\n"
          ]
        }
      ]
    },
    {
      "cell_type": "code",
      "source": [
        "plt.figure(figsize=(8, 6))\n",
        "plt.scatter(y_test, rf_xgb_predictions, color='blue')\n",
        "plt.plot(y_test, y_test, color='red', linestyle='-', linewidth=1)\n",
        "plt.xlabel('Actual values')\n",
        "plt.ylabel('Predicted values')\n",
        "plt.title('Actual values vs predicted values')\n",
        "plt.show()"
      ],
      "metadata": {
        "colab": {
          "base_uri": "https://localhost:8080/",
          "height": 564
        },
        "id": "fTC9p8ysI4mj",
        "outputId": "a31874e8-4ad6-4467-ca9a-ac6b725822d9"
      },
      "execution_count": null,
      "outputs": [
        {
          "output_type": "display_data",
          "data": {
            "text/plain": [
              "<Figure size 800x600 with 1 Axes>"
            ],
            "image/png": "[encoded data removed]"
          },
          "metadata": {}
        }
      ]
    },
    {
      "cell_type": "code",
      "source": [
        "rf_xgb_rmse = mean_squared_error(y_test, rf_xgb_predictions, squared=False)\n",
        "print(f\"RMSE on test set: {rf_xgb_rmse}\")\n",
        "rf_xgb_r2 = r2_score(y_test, rf_xgb_predictions)\n",
        "print(f\"R² = {rf_xgb_r2:.2f}\")"
      ],
      "metadata": {
        "colab": {
          "base_uri": "https://localhost:8080/"
        },
        "id": "VmFxDMr9I9oN",
        "outputId": "afc3cd68-9ed5-4192-f9ef-3dd5f9fc5e87"
      },
      "execution_count": null,
      "outputs": [
        {
          "output_type": "stream",
          "name": "stdout",
          "text": [
            "RMSE on test set: 4.770687298720523\n",
            "R² = 0.97\n"
          ]
        }
      ]
    },
    {
      "cell_type": "markdown",
      "source": [
        "# **CNN-LSTM**"
      ],
      "metadata": {
        "id": "MYLEg__GPpPv"
      }
    },
    {
      "cell_type": "code",
      "source": [
        "from tensorflow.keras.models import Sequential\n",
        "from tensorflow.keras.layers import Dense, LSTM, Dropout, Conv1D, MaxPooling1D, Flatten\n",
        "\n",
        "# Define the hybrid LSTM-CNN model\n",
        "cnn_lstm = Sequential()\n",
        "cnn_lstm.add(Conv1D(filters=32, kernel_size=3, activation='relu', input_shape=(X_train.shape[1], 1)))\n",
        "cnn_lstm.add(MaxPooling1D(pool_size=2))\n",
        "cnn_lstm.add(LSTM(64, return_sequences=True))\n",
        "cnn_lstm.add(Dropout(0.2))\n",
        "cnn_lstm.add(LSTM(32))\n",
        "cnn_lstm.add(Dropout(0.2))\n",
        "cnn_lstm.add(Dense(1, activation='linear'))\n",
        "\n",
        "# Compile the model\n",
        "cnn_lstm.compile(optimizer='adam', loss='mean_squared_error')"
      ],
      "metadata": {
        "id": "qiI0z6NtPtYu"
      },
      "execution_count": null,
      "outputs": []
    },
    {
      "cell_type": "code",
      "source": [
        "# Train the model\n",
        "cnn_lstm.fit(X_train, y_train, epochs=50, batch_size=32, verbose=1)"
      ],
      "metadata": {
        "colab": {
          "base_uri": "https://localhost:8080/"
        },
        "id": "3WjoYYLjPy5u",
        "outputId": "2149a38e-19be-46f5-cf51-347921805228"
      },
      "execution_count": null,
      "outputs": [
        {
          "output_type": "stream",
          "name": "stdout",
          "text": [
            "Epoch 1/50\n",
            "7/7 [==============================] - 6s 8ms/step - loss: 5266.9268\n",
            "Epoch 2/50\n",
            "7/7 [==============================] - 0s 7ms/step - loss: 5196.9229\n",
            "Epoch 3/50\n",
            "7/7 [==============================] - 0s 7ms/step - loss: 5127.6797\n",
            "Epoch 4/50\n",
            "7/7 [==============================] - 0s 7ms/step - loss: 5050.9932\n",
            "Epoch 5/50\n",
            "7/7 [==============================] - 0s 7ms/step - loss: 4958.2720\n",
            "Epoch 6/50\n",
            "7/7 [==============================] - 0s 8ms/step - loss: 4869.4028\n",
            "Epoch 7/50\n",
            "7/7 [==============================] - 0s 10ms/step - loss: 4779.0962\n",
            "Epoch 8/50\n",
            "7/7 [==============================] - 0s 7ms/step - loss: 4702.6807\n",
            "Epoch 9/50\n",
            "7/7 [==============================] - 0s 8ms/step - loss: 4625.7700\n",
            "Epoch 10/50\n",
            "7/7 [==============================] - 0s 11ms/step - loss: 4566.7393\n",
            "Epoch 11/50\n",
            "7/7 [==============================] - 0s 11ms/step - loss: 4522.6626\n",
            "Epoch 12/50\n",
            "7/7 [==============================] - 0s 10ms/step - loss: 4478.2480\n",
            "Epoch 13/50\n",
            "7/7 [==============================] - 0s 8ms/step - loss: 4429.6899\n",
            "Epoch 14/50\n",
            "7/7 [==============================] - 0s 8ms/step - loss: 4395.7749\n",
            "Epoch 15/50\n",
            "7/7 [==============================] - 0s 8ms/step - loss: 4373.2598\n",
            "Epoch 16/50\n",
            "7/7 [==============================] - 0s 8ms/step - loss: 4336.3228\n",
            "Epoch 17/50\n",
            "7/7 [==============================] - 0s 7ms/step - loss: 4299.5171\n",
            "Epoch 18/50\n",
            "7/7 [==============================] - 0s 7ms/step - loss: 4249.6313\n",
            "Epoch 19/50\n",
            "7/7 [==============================] - 0s 7ms/step - loss: 4253.2358\n",
            "Epoch 20/50\n",
            "7/7 [==============================] - 0s 7ms/step - loss: 4215.0996\n",
            "Epoch 21/50\n",
            "7/7 [==============================] - 0s 7ms/step - loss: 4178.2285\n",
            "Epoch 22/50\n",
            "7/7 [==============================] - 0s 10ms/step - loss: 4141.5493\n",
            "Epoch 23/50\n",
            "7/7 [==============================] - 0s 7ms/step - loss: 4121.2476\n",
            "Epoch 24/50\n",
            "7/7 [==============================] - 0s 12ms/step - loss: 4107.9580\n",
            "Epoch 25/50\n",
            "7/7 [==============================] - 0s 12ms/step - loss: 4078.2095\n",
            "Epoch 26/50\n",
            "7/7 [==============================] - 0s 12ms/step - loss: 4047.9014\n",
            "Epoch 27/50\n",
            "7/7 [==============================] - 0s 12ms/step - loss: 4035.6697\n",
            "Epoch 28/50\n",
            "7/7 [==============================] - 0s 13ms/step - loss: 4002.8721\n",
            "Epoch 29/50\n",
            "7/7 [==============================] - 0s 11ms/step - loss: 3996.3433\n",
            "Epoch 30/50\n",
            "7/7 [==============================] - 0s 10ms/step - loss: 3960.1604\n",
            "Epoch 31/50\n",
            "7/7 [==============================] - 0s 8ms/step - loss: 3929.3484\n",
            "Epoch 32/50\n",
            "7/7 [==============================] - 0s 10ms/step - loss: 3898.1960\n",
            "Epoch 33/50\n",
            "7/7 [==============================] - 0s 8ms/step - loss: 3886.3525\n",
            "Epoch 34/50\n",
            "7/7 [==============================] - 0s 13ms/step - loss: 3871.9104\n",
            "Epoch 35/50\n",
            "7/7 [==============================] - 0s 11ms/step - loss: 3858.4797\n",
            "Epoch 36/50\n",
            "7/7 [==============================] - 0s 11ms/step - loss: 3843.4043\n",
            "Epoch 37/50\n",
            "7/7 [==============================] - 0s 11ms/step - loss: 3820.9116\n",
            "Epoch 38/50\n",
            "7/7 [==============================] - 0s 11ms/step - loss: 3790.8491\n",
            "Epoch 39/50\n",
            "7/7 [==============================] - 0s 10ms/step - loss: 3772.4033\n",
            "Epoch 40/50\n",
            "7/7 [==============================] - 0s 8ms/step - loss: 3758.7964\n",
            "Epoch 41/50\n",
            "7/7 [==============================] - 0s 8ms/step - loss: 3742.7087\n",
            "Epoch 42/50\n",
            "7/7 [==============================] - 0s 8ms/step - loss: 3696.4624\n",
            "Epoch 43/50\n",
            "7/7 [==============================] - 0s 7ms/step - loss: 3691.8630\n",
            "Epoch 44/50\n",
            "7/7 [==============================] - 0s 8ms/step - loss: 3680.2825\n",
            "Epoch 45/50\n",
            "7/7 [==============================] - 0s 8ms/step - loss: 3643.6909\n",
            "Epoch 46/50\n",
            "7/7 [==============================] - 0s 8ms/step - loss: 3649.1387\n",
            "Epoch 47/50\n",
            "7/7 [==============================] - 0s 7ms/step - loss: 3616.4587\n",
            "Epoch 48/50\n",
            "7/7 [==============================] - 0s 8ms/step - loss: 3600.9539\n",
            "Epoch 49/50\n",
            "7/7 [==============================] - 0s 13ms/step - loss: 3558.9216\n",
            "Epoch 50/50\n",
            "7/7 [==============================] - 0s 11ms/step - loss: 3549.5476\n"
          ]
        },
        {
          "output_type": "execute_result",
          "data": {
            "text/plain": [
              "<keras.src.callbacks.History at 0x7a85aa0884c0>"
            ]
          },
          "metadata": {},
          "execution_count": 157
        }
      ]
    },
    {
      "cell_type": "code",
      "source": [
        "# Evaluate the model\n",
        "loss = cnn_lstm.evaluate(X_train, y_train)\n",
        "print('Loss:', loss)"
      ],
      "metadata": {
        "colab": {
          "base_uri": "https://localhost:8080/"
        },
        "id": "h40mkDfbP7Gt",
        "outputId": "11caa1ae-fe3c-4fa4-8d9d-992d427b3a52"
      },
      "execution_count": null,
      "outputs": [
        {
          "output_type": "stream",
          "name": "stdout",
          "text": [
            "7/7 [==============================] - 2s 7ms/step - loss: 3545.4880\n",
            "Loss: 3545.488037109375\n"
          ]
        }
      ]
    },
    {
      "cell_type": "code",
      "source": [
        "# Make predictions\n",
        "cnn_lstm_predictions = cnn_lstm.predict(X_test)\n",
        "cnn_lstm_predictions = cnn_lstm_predictions.flatten()  # Flatten the predictions array\n",
        "resultscnn_lstm = pd.DataFrame({'actual prices': y_test, 'cnn_lstm_predictions': cnn_lstm_predictions})\n",
        "print(resultscnn_lstm)"
      ],
      "metadata": {
        "colab": {
          "base_uri": "https://localhost:8080/"
        },
        "id": "c05UvphGQrKM",
        "outputId": "2ee6b152-7a1e-40a8-e417-469c303a4052"
      },
      "execution_count": null,
      "outputs": [
        {
          "output_type": "stream",
          "name": "stderr",
          "text": [
            "WARNING:tensorflow:5 out of the last 13 calls to <function Model.make_predict_function.<locals>.predict_function at 0x7a85abd30430> triggered tf.function retracing. Tracing is expensive and the excessive number of tracings could be due to (1) creating @tf.function repeatedly in a loop, (2) passing tensors with different shapes, (3) passing Python objects instead of tensors. For (1), please define your @tf.function outside of the loop. For (2), @tf.function has reduce_retracing=True option that can avoid unnecessary retracing. For (3), please refer to https://www.tensorflow.org/guide/function#controlling_retracing and https://www.tensorflow.org/api_docs/python/tf/function for  more details.\n"
          ]
        },
        {
          "output_type": "stream",
          "name": "stdout",
          "text": [
            "2/2 [==============================] - 2s 12ms/step\n",
            "            actual prices  cnn_lstm_predictions\n",
            "MONTH                                          \n",
            "2002-07-01          25.79             14.933654\n",
            "2010-05-01          75.67             14.933641\n",
            "2016-05-01          47.73             14.933654\n",
            "2010-08-01          78.22             14.933635\n",
            "2018-01-01          69.93             14.933661\n",
            "2019-07-01          63.92             14.933663\n",
            "2012-01-01         111.43             14.933635\n",
            "2016-12-01          53.82             14.933661\n",
            "2021-03-01          65.76             14.933643\n",
            "2011-12-01         108.56             14.933642\n",
            "2006-08-01          74.50             14.933667\n",
            "2011-01-01          97.50             14.933634\n",
            "2019-10-01          60.86             14.933666\n",
            "2022-02-01         100.71             14.933673\n",
            "2012-09-01         112.06             14.933618\n",
            "2011-11-01         112.41             14.933640\n",
            "2021-09-01          73.85             14.933650\n",
            "2005-01-01          44.39             14.933649\n",
            "2007-01-01          55.78             14.933646\n",
            "2019-12-01          69.74             14.933651\n",
            "2003-10-01          28.94             14.933649\n",
            "2006-02-01          61.59             14.933647\n",
            "2015-01-01          47.91             14.933665\n",
            "2013-09-01         112.95             14.933658\n",
            "2022-01-01          88.21             14.933671\n",
            "2017-07-01          47.96             14.933663\n",
            "2009-10-01          73.63             14.933642\n",
            "2003-07-01          27.91             14.933661\n",
            "2000-10-01          31.80             14.933561\n",
            "2011-09-01         115.03             14.933640\n",
            "2001-11-01          19.00             14.933672\n",
            "2009-02-01          44.07             14.933592\n",
            "2002-01-01          19.64             14.933667\n",
            "2010-01-01          76.79             14.933644\n",
            "2014-08-01         100.86             14.933669\n",
            "2006-04-01          70.21             14.933637\n",
            "2019-04-01          71.15             14.933656\n",
            "2019-06-01          64.83             14.933667\n",
            "2000-07-01          28.80             14.933360\n",
            "2005-09-01          63.30             14.933650\n",
            "2003-11-01          28.94             14.933655\n",
            "2010-07-01          76.49             14.933633\n",
            "2005-07-01          57.30             14.933669\n",
            "2002-02-01          19.73             14.933663\n",
            "2009-07-01          65.21             14.933631\n",
            "2017-03-01          51.40             14.933661\n",
            "2001-08-01          25.96             14.933518\n",
            "2016-10-01          49.79             14.933654\n",
            "2014-01-01         109.96             14.933640\n",
            "2017-01-01          54.84             14.933663\n",
            "2007-03-01          64.30             14.933635\n",
            "2012-11-01         109.36             14.933640\n",
            "2013-04-01         102.64             14.933653\n",
            "2001-04-01          25.65             14.933346\n",
            "2013-03-01         108.87             14.933633\n",
            "2000-11-01          33.06             14.933278\n"
          ]
        }
      ]
    },
    {
      "cell_type": "code",
      "source": [
        "plt.figure(figsize=(8, 6))\n",
        "plt.scatter(y_test, cnn_lstm_predictions, color='blue')\n",
        "plt.plot(y_test, y_test, color='red', linestyle='-', linewidth=1)\n",
        "plt.xlabel('Actual values')\n",
        "plt.ylabel('Predited valies')\n",
        "plt.title('Actual values vs Predicted values')\n",
        "plt.show()"
      ],
      "metadata": {
        "colab": {
          "base_uri": "https://localhost:8080/",
          "height": 564
        },
        "id": "OX8eosjGSB5d",
        "outputId": "2f965703-2e26-4d3d-f156-55473843272f"
      },
      "execution_count": null,
      "outputs": [
        {
          "output_type": "display_data",
          "data": {
            "text/plain": [
              "<Figure size 800x600 with 1 Axes>"
            ],
            "image/png": "[encoded data removed]"
          },
          "metadata": {}
        }
      ]
    },
    {
      "cell_type": "code",
      "source": [
        "# Calculate RMSE on test set\n",
        "cnn_lstm_rmse = mean_squared_error(y_test, cnn_lstm_predictions, squared=False)\n",
        "print(f\"RMSE on test set: {cnn_lstm_rmse}\")\n",
        "cnn_lstm_r2 = r2_score(y_test, cnn_lstm_predictions)\n",
        "print(f\"R² = {cnn_lstm_r2:.2f}\")"
      ],
      "metadata": {
        "colab": {
          "base_uri": "https://localhost:8080/"
        },
        "id": "Fk99uHLMSM3x",
        "outputId": "c6549359-3540-4fa8-f0e4-039c5d4ad07e"
      },
      "execution_count": null,
      "outputs": [
        {
          "output_type": "stream",
          "name": "stdout",
          "text": [
            "RMSE on test set: 58.397567275111754\n",
            "R² = -3.11\n"
          ]
        }
      ]
    },
    {
      "cell_type": "markdown",
      "source": [
        "# **COMPARISON**"
      ],
      "metadata": {
        "id": "2L9UglNDpIkE"
      }
    },
    {
      "cell_type": "code",
      "source": [
        "import matplotlib.pyplot as plt\n",
        "\n",
        "rmse_scores = [21.69, 18.5, 19.83, 2.008, 1.58, 0.21,19.44]\n",
        "algorithms = [\"SVR\", \"RF\", \"XGBoost\", \"LSTM\", \"CNN\", \"CNN_LSTM\", \"RF_XGB\"]\n",
        "\n",
        "plt.bar(algorithms, rmse_scores, color=\"steelblue\")\n",
        "plt.xlabel(\"Algorithm\")\n",
        "plt.ylabel(\"RMSE Score\")\n",
        "plt.title(\"Models' comparison\")\n",
        "plt.show()"
      ],
      "metadata": {
        "colab": {
          "base_uri": "https://localhost:8080/",
          "height": 472
        },
        "id": "NK7OvERJpK3B",
        "outputId": "f2ace759-d46d-44b7-f496-01fd3c019013"
      },
      "execution_count": null,
      "outputs": [
        {
          "output_type": "display_data",
          "data": {
            "text/plain": [
              "<Figure size 640x480 with 1 Axes>"
            ],
            "image/png": "[encoded data removed]"
          },
          "metadata": {}
        }
      ]
    },
    {
      "cell_type": "code",
      "source": [
        "import matplotlib.pyplot as plt\n",
        "\n",
        "r2_scores = [33,51,44, 99, 100, 100 ,46]\n",
        "algorithms = [\"SVR\", \"RF\", \"XGBoost\", \"LSTM\", \"CNN\", \"CNN_LSTM\", \"RF_XGB\"]\n",
        "\n",
        "plt.bar(algorithms, r2_scores, color=\"steelblue\")\n",
        "plt.xlabel(\"Algorithm\")\n",
        "plt.ylabel(\"R2 Score\")\n",
        "plt.title(\"Models' comparison\")\n",
        "plt.show()"
      ],
      "metadata": {
        "colab": {
          "base_uri": "https://localhost:8080/",
          "height": 472
        },
        "id": "meONYh7trofV",
        "outputId": "690f927b-4d80-44c9-a49c-5a752b808937"
      },
      "execution_count": null,
      "outputs": [
        {
          "output_type": "display_data",
          "data": {
            "text/plain": [
              "<Figure size 640x480 with 1 Axes>"
            ],
            "image/png": "[encoded data removed]"
          },
          "metadata": {}
        }
      ]
    }
  ],
  "metadata": {
    "colab": {
      "collapsed_sections": [
        "G8Qa9LEOoPyq"
      ],
      "provenance": [],
      "include_colab_link": true
    },
    "kernelspec": {
      "display_name": "Python 3",
      "name": "python3"
    },
    "language_info": {
      "name": "python"
    }
  },
  "nbformat": 4,
  "nbformat_minor": 0
}